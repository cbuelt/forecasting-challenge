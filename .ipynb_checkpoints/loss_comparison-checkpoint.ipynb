{
 "cells": [
  {
   "cell_type": "code",
   "execution_count": 1,
   "id": "942495df-ecc7-4c09-97bd-adcb3ce17a6b",
   "metadata": {},
   "outputs": [],
   "source": [
    "import pandas as pd\n",
    "import numpy as np\n",
    "import matplotlib.pyplot as plt\n",
    "import seaborn as sns\n",
    "import tensorflow as tf\n",
    "import random\n",
    "from tensorflow_addons.losses import pinball_loss\n",
    "from sklearn.metrics import mean_pinball_loss\n",
    "import math"
   ]
  },
  {
   "cell_type": "code",
   "execution_count": 2,
   "id": "53615b74-0f4a-427a-b887-70a029b62d8e",
   "metadata": {},
   "outputs": [],
   "source": [
    "#Pinball loss\n",
    "def pinball_loss(x, tau = 0.5):\n",
    "    return np.maximum(tau*x, (tau-1)*x)"
   ]
  },
  {
   "cell_type": "code",
   "execution_count": 3,
   "id": "59352634-3e88-4d01-b3ff-b332fdb31f40",
   "metadata": {},
   "outputs": [],
   "source": [
    "#Smooth exp quantile loss\n",
    "\n",
    "def exp_smooth_pinball_loss(delta_y, tau = 0.5, alpha = 0.001):\n",
    "    #Implement smooth loss\n",
    "    pinball = tau * delta_y + alpha * tf.math.softplus(-delta_y/alpha)\n",
    "    return pinball.numpy()"
   ]
  },
  {
   "cell_type": "code",
   "execution_count": 4,
   "id": "d099608d-be30-45d8-bba5-45f4b9418342",
   "metadata": {},
   "outputs": [],
   "source": [
    "#Smooth sqrt quantile loss\n",
    "\n",
    "def sqrt_smooth_pinball_loss(delta_y, tau = 0.5,alpha = 0.001):\n",
    "\n",
    "    #Implement smooth loss\n",
    "    pinball = (delta_y*(2*tau - 1) + tf.math.sqrt(tf.math.square(delta_y) + alpha))/2\n",
    "    return pinball.numpy()"
   ]
  },
  {
   "cell_type": "code",
   "execution_count": 5,
   "id": "83bc4d30-ce04-4e37-afc6-fdbb44435200",
   "metadata": {},
   "outputs": [],
   "source": [
    "#Huber quantile loss\n",
    "\n",
    "def huber_pinball_loss2(error, tau = 0.5, alpha = 0.001):\n",
    "    tau = tf.expand_dims(tf.cast(tau, error.dtype), 0)\n",
    "    one = tf.cast(1, tau.dtype)\n",
    "    half = tf.convert_to_tensor(0.5, dtype=error.dtype)\n",
    "    abs_error = tf.abs(error)\n",
    "    huber = tf.where(abs_error <= alpha, half * tf.square(error)/alpha,\n",
    "                         abs_error - half * alpha)\n",
    "    \n",
    "    \n",
    "    #Implement smooth loss\n",
    "    pinball = tf.where(error >=0, tau * huber, (tau - one) * huber)\n",
    "    return pinball.numpy()"
   ]
  },
  {
   "cell_type": "code",
   "execution_count": 6,
   "id": "f4182f36-cfff-4a86-9560-2a95e8272145",
   "metadata": {},
   "outputs": [],
   "source": [
    "def huber_pinball_loss(error, tau = 0.5, alpha = 0.001):\n",
    "    huber = np.where(np.abs(error) <= alpha, np.square(error)/(2*alpha), np.abs(error) - alpha/2)\n",
    "    pinball = np.where(error >= 0, tau*huber, (1-tau)*huber)\n",
    "    return pinball"
   ]
  },
  {
   "cell_type": "code",
   "execution_count": null,
   "id": "4d67667c-4ac1-4334-84ca-8aa6ede0acc7",
   "metadata": {},
   "outputs": [],
   "source": [
    "#Create linspace\n",
    "x = np.linspace(-0.5,0.5,10000)\n",
    "#Parameters\n",
    "tau = 0.75\n",
    "alpha = 0.1\n",
    "#Create plot\n",
    "fig, ax = plt.subplots(1,3,figsize = (21,7))\n",
    "ax = ax.ravel()\n",
    "#Plot losses\n",
    "for cnt, alpha in enumerate([0.1,0.01,0.001]):\n",
    "    ax[cnt].plot(x, pinball_loss(x, tau = tau), label = \"Pinball loss\")\n",
    "    ax[cnt].plot(x, exp_smooth_pinball_loss(x, tau = tau, alpha = alpha), label = \"Exp smoothed\")\n",
    "    ax[cnt].plot(x, sqrt_smooth_pinball_loss(x, tau = tau, alpha = alpha), label = \"Sqrt smoothed\")\n",
    "    ax[cnt].plot(x, huber_pinball_loss(x, tau = tau, alpha = alpha), label = \"Huber smoothed\")\n",
    "    ax[cnt].legend(fontsize = 12)\n",
    "    ax[cnt].set_xlabel(r\"$u$\", fontsize = 18)\n",
    "    ax[cnt].set_ylabel(r\"$L_{\\tau, t}$\", fontsize = 18)\n",
    "    ax[cnt].set_title(\"t = {}\".format(alpha), fontsize = 20)\n",
    "#Set ax limits\n",
    "ax[0].set_xlim([-0.5,0.5])\n",
    "ax[0].set_ylim([0,0.4])\n",
    "ax[1].set_xlim([-0.1,0.1])\n",
    "ax[1].set_ylim([0,0.1])\n",
    "ax[2].set_xlim([-0.01,0.01])\n",
    "ax[2].set_ylim([0,0.02])\n",
    "plt.savefig(\"smooth_loss_comparison.pdf\",dpi = 300, bbox_inches = \"tight\")"
   ]
  },
  {
   "cell_type": "code",
   "execution_count": null,
   "id": "a67283d6-7af9-4aaa-ad40-a7d69ddb507f",
   "metadata": {},
   "outputs": [],
   "source": []
  }
 ],
 "metadata": {
  "kernelspec": {
   "display_name": "Python 3 (ipykernel)",
   "language": "python",
   "name": "python3"
  },
  "language_info": {
   "codemirror_mode": {
    "name": "ipython",
    "version": 3
   },
   "file_extension": ".py",
   "mimetype": "text/x-python",
   "name": "python",
   "nbconvert_exporter": "python",
   "pygments_lexer": "ipython3",
   "version": "3.8.8"
  }
 },
 "nbformat": 4,
 "nbformat_minor": 5
}
