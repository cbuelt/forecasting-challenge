{
 "cells": [
  {
   "cell_type": "code",
   "execution_count": 101,
   "id": "b11b35a7-c260-49af-96e8-2c198e836ae2",
   "metadata": {},
   "outputs": [],
   "source": [
    "import pandas as pd\n",
    "import numpy as np\n",
    "import yfinance as yf\n",
    "from datetime import date, timedelta, datetime\n",
    "import seaborn as sns\n",
    "from sklearn.model_selection import train_test_split\n",
    "from sklearn.metrics import mean_pinball_loss\n",
    "from sklearn.linear_model import QuantileRegressor\n",
    "from matplotlib import pyplot as plt\n",
    "from numpy.lib.stride_tricks import sliding_window_view\n",
    "from tensorflow.keras.layers import Input, Conv1D, Dropout\n",
    "from tensorflow.keras.models import Model\n",
    "from tensorflow.keras import backend as K\n",
    "import tensorflow as tf\n",
    "import tensorflow_addons as tfa\n",
    "from tensorflow_addons.losses import pinball_loss"
   ]
  },
  {
   "cell_type": "code",
   "execution_count": 102,
   "id": "89e94ddf-d369-4193-8974-b237a37260dc",
   "metadata": {},
   "outputs": [],
   "source": [
    "quantiles = [0.025, 0.25, 0.5, 0.75, 0.975]\n",
    "horizons = [1,2,3,4,5]"
   ]
  },
  {
   "cell_type": "markdown",
   "id": "ca1081c7-625d-4061-bea0-b97354708db9",
   "metadata": {
    "tags": []
   },
   "source": [
    "# Get data"
   ]
  },
  {
   "cell_type": "code",
   "execution_count": 103,
   "id": "00e1545f-73e1-487a-9779-7d58239ffe71",
   "metadata": {},
   "outputs": [
    {
     "name": "stdout",
     "output_type": "stream",
     "text": [
      "[*********************100%***********************]  1 of 1 completed\n"
     ]
    }
   ],
   "source": [
    "current_day = datetime.today()\n",
    "data = yf.download(\"^GDAXI\", start=\"2000-01-01\", end=current_day)[\"Adj Close\"]"
   ]
  },
  {
   "cell_type": "markdown",
   "id": "87a60f6c-0e60-4e85-98d4-7cb9b11db3ca",
   "metadata": {
    "tags": []
   },
   "source": [
    "# Get baseline"
   ]
  },
  {
   "cell_type": "code",
   "execution_count": 104,
   "id": "82085669-1711-4a41-b563-d6776f01ab3a",
   "metadata": {},
   "outputs": [],
   "source": [
    "def get_baseline(date, days = 1500, data = data):\n",
    "    date = date - timedelta(days)\n",
    "    baseline_results = pd.DataFrame(columns = np.arange(1,6), index = quantiles)\n",
    "    filtered_data = data[data.index > date]\n",
    "\n",
    "    for step in np.arange(1,6):\n",
    "\n",
    "        step_log_return = 100 * (np.log(filtered_data) - np.log(filtered_data.shift(step)))\n",
    "        step_log_return.dropna(inplace = True)\n",
    "\n",
    "        #Calculate quantiles\n",
    "        baseline_quantiles = np.quantile(last_evaluation, quantiles)\n",
    "        baseline_results.loc[:,step]=baseline_quantiles\n",
    "    return baseline_results"
   ]
  },
  {
   "cell_type": "code",
   "execution_count": 105,
   "id": "442db5a4-251c-4608-a6a0-577039de5ac6",
   "metadata": {},
   "outputs": [],
   "source": [
    "#get_baseline(current_day)"
   ]
  },
  {
   "cell_type": "markdown",
   "id": "6c0dc4a3-53f8-42f3-ac73-8d72ed142f65",
   "metadata": {
    "tags": []
   },
   "source": [
    "# Wavenet modeling"
   ]
  },
  {
   "cell_type": "markdown",
   "id": "c25079ee-3f4c-45e2-a8fa-5e3b7082ea50",
   "metadata": {},
   "source": [
    "## Data preparation\n",
    "\n",
    "Add all five horizons as a predictor"
   ]
  },
  {
   "cell_type": "code",
   "execution_count": 106,
   "id": "10d288a1-4b29-4183-bf20-d2c3a6b8ca7d",
   "metadata": {},
   "outputs": [],
   "source": [
    "data_prep = pd.DataFrame(data)\n",
    "data_prep[\"log_return\"] = 100 * (np.log(data_prep) - np.log(data_prep.shift(1)))\n",
    "for horizon in range(1,6):\n",
    "    data_prep[horizon] = 100 * (np.log(data_prep[\"Adj Close\"]) - np.log(data_prep[\"Adj Close\"].shift(horizon)))\n",
    "    data_prep[horizon] = data_prep[horizon].shift(-horizon)\n",
    "\n",
    "#Drop CLose\n",
    "data_prep.drop(\"Adj Close\", axis = 1, inplace = True)"
   ]
  },
  {
   "cell_type": "code",
   "execution_count": 107,
   "id": "a5297f4d-f298-4b60-a3e5-5120d3b4d63d",
   "metadata": {},
   "outputs": [
    {
     "data": {
      "text/html": [
       "<div>\n",
       "<style scoped>\n",
       "    .dataframe tbody tr th:only-of-type {\n",
       "        vertical-align: middle;\n",
       "    }\n",
       "\n",
       "    .dataframe tbody tr th {\n",
       "        vertical-align: top;\n",
       "    }\n",
       "\n",
       "    .dataframe thead th {\n",
       "        text-align: right;\n",
       "    }\n",
       "</style>\n",
       "<table border=\"1\" class=\"dataframe\">\n",
       "  <thead>\n",
       "    <tr style=\"text-align: right;\">\n",
       "      <th></th>\n",
       "      <th>log_return</th>\n",
       "      <th>1</th>\n",
       "      <th>2</th>\n",
       "      <th>3</th>\n",
       "      <th>4</th>\n",
       "      <th>5</th>\n",
       "    </tr>\n",
       "    <tr>\n",
       "      <th>Date</th>\n",
       "      <th></th>\n",
       "      <th></th>\n",
       "      <th></th>\n",
       "      <th></th>\n",
       "      <th></th>\n",
       "      <th></th>\n",
       "    </tr>\n",
       "  </thead>\n",
       "  <tbody>\n",
       "    <tr>\n",
       "      <th>2000-01-03</th>\n",
       "      <td>NaN</td>\n",
       "      <td>-2.456461</td>\n",
       "      <td>-3.753450</td>\n",
       "      <td>-4.171882</td>\n",
       "      <td>0.446362</td>\n",
       "      <td>2.555809</td>\n",
       "    </tr>\n",
       "    <tr>\n",
       "      <th>2000-01-04</th>\n",
       "      <td>-2.456461</td>\n",
       "      <td>-1.296989</td>\n",
       "      <td>-1.715421</td>\n",
       "      <td>2.902823</td>\n",
       "      <td>5.012269</td>\n",
       "      <td>4.516204</td>\n",
       "    </tr>\n",
       "    <tr>\n",
       "      <th>2000-01-05</th>\n",
       "      <td>-1.296989</td>\n",
       "      <td>-0.418432</td>\n",
       "      <td>4.199812</td>\n",
       "      <td>6.309258</td>\n",
       "      <td>5.813193</td>\n",
       "      <td>6.125566</td>\n",
       "    </tr>\n",
       "    <tr>\n",
       "      <th>2000-01-06</th>\n",
       "      <td>-0.418432</td>\n",
       "      <td>4.618244</td>\n",
       "      <td>6.727690</td>\n",
       "      <td>6.231625</td>\n",
       "      <td>6.543998</td>\n",
       "      <td>7.166548</td>\n",
       "    </tr>\n",
       "    <tr>\n",
       "      <th>2000-01-07</th>\n",
       "      <td>4.618244</td>\n",
       "      <td>2.109446</td>\n",
       "      <td>1.613381</td>\n",
       "      <td>1.925754</td>\n",
       "      <td>2.548304</td>\n",
       "      <td>5.623600</td>\n",
       "    </tr>\n",
       "  </tbody>\n",
       "</table>\n",
       "</div>"
      ],
      "text/plain": [
       "            log_return         1         2         3         4         5\n",
       "Date                                                                    \n",
       "2000-01-03         NaN -2.456461 -3.753450 -4.171882  0.446362  2.555809\n",
       "2000-01-04   -2.456461 -1.296989 -1.715421  2.902823  5.012269  4.516204\n",
       "2000-01-05   -1.296989 -0.418432  4.199812  6.309258  5.813193  6.125566\n",
       "2000-01-06   -0.418432  4.618244  6.727690  6.231625  6.543998  7.166548\n",
       "2000-01-07    4.618244  2.109446  1.613381  1.925754  2.548304  5.623600"
      ]
     },
     "execution_count": 107,
     "metadata": {},
     "output_type": "execute_result"
    }
   ],
   "source": [
    "data_prep.head()"
   ]
  },
  {
   "cell_type": "markdown",
   "id": "6c20dc3c-e59e-4636-92b7-a2c00664b267",
   "metadata": {},
   "source": [
    "### Create test, val, train and prediction data\n",
    "\n",
    "Total length of data is 5530:\n",
    "- Will take half a year - 180 as a test set\n",
    "- Whole year as validation set\n",
    "- Rest as training set"
   ]
  },
  {
   "cell_type": "code",
   "execution_count": 108,
   "id": "3635ab4a-f608-475c-8987-20f2de4c51d7",
   "metadata": {},
   "outputs": [],
   "source": [
    "window_size = 128\n",
    "max_horizon = 5\n",
    "test_size = 360\n",
    "val_size = 360\n",
    "\n",
    "pred_data = data_prep[-128:]\n",
    "\n",
    "#Drop Nans\n",
    "data_prep.dropna(inplace = True)\n",
    "\n",
    "test_data = data_prep[-test_size:]\n",
    "val_data = data_prep[-val_size-test_size:-test_size]\n",
    "train_data = data_prep[:-val_size-test_size]"
   ]
  },
  {
   "cell_type": "markdown",
   "id": "185cf53f-8af2-41ae-b349-f293e13bdd19",
   "metadata": {},
   "source": [
    "### Normalize data"
   ]
  },
  {
   "cell_type": "code",
   "execution_count": 109,
   "id": "a109f2c6-a34e-435b-bce4-a74457d0a29d",
   "metadata": {},
   "outputs": [],
   "source": [
    "train_mean = train_data.mean()\n",
    "train_sd = train_data.std()"
   ]
  },
  {
   "cell_type": "code",
   "execution_count": 110,
   "id": "5661342d-35ab-4870-b3a1-51975630f1e9",
   "metadata": {},
   "outputs": [],
   "source": [
    "def normalize(data, mean = train_mean, sd = train_sd):\n",
    "    return (data-mean)/sd"
   ]
  },
  {
   "cell_type": "code",
   "execution_count": 111,
   "id": "fd0db3ca-c4e4-4261-841f-3f8dfe210649",
   "metadata": {},
   "outputs": [],
   "source": [
    "train_data = normalize(train_data)\n",
    "val_data = normalize(val_data)\n",
    "test_data = normalize(test_data)\n",
    "pred_data = normalize(pred_data)"
   ]
  },
  {
   "cell_type": "markdown",
   "id": "9075c3bf-53d4-44b4-9848-86e5f1264d40",
   "metadata": {},
   "source": [
    "### Apply rolling window and get predictor"
   ]
  },
  {
   "cell_type": "code",
   "execution_count": 112,
   "id": "b6cf1647-3a10-4fac-8bca-e3dad970cbaf",
   "metadata": {},
   "outputs": [],
   "source": [
    "def convert_data(data, horizon = 1, window_size = window_size):\n",
    "    data_numpy = np.array(data)\n",
    "    window = sliding_window_view(data_numpy,window_size, axis = 0)\n",
    "    window = np.swapaxes(window, 1,2)\n",
    "    X = window[:,:,0:1]\n",
    "    Y = window[:,:,horizon:horizon+1]\n",
    "    return (X,Y)"
   ]
  },
  {
   "cell_type": "code",
   "execution_count": 113,
   "id": "a9161ec8-6663-48a7-951a-03040ef38665",
   "metadata": {},
   "outputs": [],
   "source": [
    "x_train, y_train = convert_data(train_data, horizon = 5)\n",
    "x_val, y_val = convert_data(val_data)"
   ]
  },
  {
   "cell_type": "markdown",
   "id": "e964032b-8bd3-42db-a7ee-75f293baa69b",
   "metadata": {},
   "source": [
    "## Build model"
   ]
  },
  {
   "cell_type": "code",
   "execution_count": 114,
   "id": "93b498a0-490e-45ae-97c3-3a7c0e2627b5",
   "metadata": {},
   "outputs": [],
   "source": [
    "def model(trainX, trainY, dropout_rate = 0.1):\n",
    "    \"\"\"\n",
    "    trainX -- input values; shape: [number of samples, NUM_UNROLLINGS, 1]\n",
    "    trainY -- output values (inputs shifted by 1); shape: [number of samples, NUM_UNROLLINGS, 1]\n",
    "    \"\"\"\n",
    "\n",
    "    filters = 8\n",
    "    kernel_size = 2\n",
    "    input_ts = Input(shape=(trainX.shape[1], 1))\n",
    "    #Base layers\n",
    "    x = Conv1D(filters, kernel_size, activation=\"relu\", padding=\"causal\", dilation_rate=1)(input_ts)\n",
    "    x = Conv1D(filters, kernel_size, activation=\"relu\", padding=\"causal\", dilation_rate=2)(x)\n",
    "    x = Conv1D(filters, kernel_size, activation=\"relu\", padding=\"causal\", dilation_rate=4)(x)\n",
    "    x = Conv1D(filters, kernel_size, activation=\"relu\", padding=\"causal\", dilation_rate=8)(x)\n",
    "    x = Conv1D(filters, kernel_size, activation=\"relu\", padding=\"causal\", dilation_rate=16)(x)\n",
    "    x = Conv1D(filters, kernel_size, activation=\"relu\", padding=\"causal\", dilation_rate=32)(x)\n",
    "    #Fully Layer\n",
    "    out = Conv1D(32, 1, padding = \"same\")(x)\n",
    "    out = Dropout(dropout_rate)(out)\n",
    "    out = Conv1D(1, 1, activation=\"linear\")(out)\n",
    "    cnn = Model(input_ts, out)\n",
    "    return cnn"
   ]
  },
  {
   "cell_type": "markdown",
   "id": "935d9579-5b62-42bf-9a82-542fbaf3d36a",
   "metadata": {},
   "source": [
    "### Define parameters"
   ]
  },
  {
   "cell_type": "code",
   "execution_count": 115,
   "id": "24b7116c-ddb3-4857-b905-2be241831c00",
   "metadata": {},
   "outputs": [],
   "source": [
    "BATCH_SIZE = 128\n",
    "EPOCHS = 500\n",
    "quantile = quantiles[0]\n",
    "learning_rate = 0.01\n",
    "optimizer = tf.keras.optimizers.Adadelta(learning_rate = learning_rate)\n",
    "\n",
    "#Early stopping\n",
    "callback = tf.keras.callbacks.EarlyStopping(monitor='val_loss', patience=5, min_delta = 1e-5)"
   ]
  },
  {
   "cell_type": "markdown",
   "id": "c0eb89c7-9cfd-4440-88b4-dd210750ae0d",
   "metadata": {},
   "source": [
    "## Training process"
   ]
  },
  {
   "cell_type": "code",
   "execution_count": 116,
   "id": "25b61afa-737a-47b8-9e3d-aaade567cf55",
   "metadata": {},
   "outputs": [],
   "source": [
    "cnn = model(x_train, y_train)"
   ]
  },
  {
   "cell_type": "code",
   "execution_count": 117,
   "id": "02baa571-d03f-4f83-bd4e-917fde78bfbf",
   "metadata": {},
   "outputs": [],
   "source": [
    "def train_model(model, optimizer, x_train, y_train, x_val, y_val, quantile, BATCH_SIZE = BATCH_SIZE, EPOCHS = EPOCHS, callback = callback):\n",
    "    model.compile(optimizer = optimizer,  loss = lambda true,pred: pinball_loss(true, pred, tau = quantile))\n",
    "    history = model.fit(x_train, y_train, validation_data = (x_val, y_val), epochs = EPOCHS,batch_size = BATCH_SIZE, shuffle=True,\n",
    "        callbacks = [callback], verbose = False)\n",
    "    return model"
   ]
  },
  {
   "cell_type": "code",
   "execution_count": null,
   "id": "446b26d8-6e63-4fcc-9e7b-f136283eddd0",
   "metadata": {},
   "outputs": [],
   "source": [
    "cnn.summary()"
   ]
  },
  {
   "cell_type": "markdown",
   "id": "8c79dbd9-3841-4b02-b5db-2398bc883355",
   "metadata": {},
   "source": [
    "## Predict test data"
   ]
  },
  {
   "cell_type": "code",
   "execution_count": 118,
   "id": "c695a869-b5dc-4bcd-abf8-cf50a7551824",
   "metadata": {},
   "outputs": [],
   "source": [
    "## Returns output of shape [samples, enrollings, horizon, quantile]\n",
    "def train_and_predict(train_data = train_data, val_data = val_data, test_data = test_data, pred_data = pred_data, quantiles = quantiles, horizons = horizons):\n",
    "\n",
    "    test_pred = np.zeros((test_size-window_size+1, window_size, len(horizons), len(quantiles)))\n",
    "    future_pred = np.zeros((len(horizons), len(quantiles)))\n",
    "\n",
    "    for horizon in horizons:\n",
    "        #Get data\n",
    "        x_train, y_train = convert_data(train_data, horizon = horizon)\n",
    "        x_val, y_val = convert_data(val_data, horizon = horizon)\n",
    "        x_test, y_test = convert_data(test_data, horizon = horizon)\n",
    "        x_pred, _ = convert_data(pred_data, horizon = horizon)\n",
    "        for cnt, quantile in enumerate(quantiles):           \n",
    "            cnn = model(x_train, y_train)\n",
    "            cnn = train_model(cnn, optimizer, x_train, y_train, x_val, y_val, quantile)\n",
    "\n",
    "            horizon_pred = cnn.predict(x_test)\n",
    "            test_pred[:,:,horizon-1,cnt] = horizon_pred[:,:,0]\n",
    "\n",
    "            #Future pred\n",
    "            future_pred[horizon-1,cnt] = cnn.predict(x_pred)[0,-1,0]\n",
    "            \n",
    "            #Print checkpoint\n",
    "            print(\"Finished horizon_{}, quantile_{}\".format(horizon,quantile))\n",
    "    \n",
    "    #Return predictions\n",
    "    return (test_pred, future_pred)"
   ]
  },
  {
   "cell_type": "code",
   "execution_count": 119,
   "id": "3775af55-65f4-41fd-a991-9f340c4469d3",
   "metadata": {},
   "outputs": [
    {
     "name": "stdout",
     "output_type": "stream",
     "text": [
      "Finished horizon_1, quantile_0.025\n",
      "Finished horizon_1, quantile_0.25\n",
      "Finished horizon_1, quantile_0.5\n",
      "Finished horizon_1, quantile_0.75\n",
      "Finished horizon_1, quantile_0.975\n",
      "Finished horizon_2, quantile_0.025\n",
      "Finished horizon_2, quantile_0.25\n",
      "Finished horizon_2, quantile_0.5\n",
      "Finished horizon_2, quantile_0.75\n",
      "Finished horizon_2, quantile_0.975\n",
      "Finished horizon_3, quantile_0.025\n",
      "Finished horizon_3, quantile_0.25\n",
      "Finished horizon_3, quantile_0.5\n",
      "Finished horizon_3, quantile_0.75\n",
      "Finished horizon_3, quantile_0.975\n",
      "Finished horizon_4, quantile_0.025\n",
      "Finished horizon_4, quantile_0.25\n",
      "Finished horizon_4, quantile_0.5\n",
      "Finished horizon_4, quantile_0.75\n",
      "Finished horizon_4, quantile_0.975\n",
      "Finished horizon_5, quantile_0.025\n",
      "Finished horizon_5, quantile_0.25\n",
      "Finished horizon_5, quantile_0.5\n",
      "Finished horizon_5, quantile_0.75\n",
      "Finished horizon_5, quantile_0.975\n"
     ]
    }
   ],
   "source": [
    "test_pred, future_pred = train_and_predict()"
   ]
  },
  {
   "cell_type": "markdown",
   "id": "32bbc282-c07f-4809-a77a-4c12034cadab",
   "metadata": {},
   "source": [
    "## Analyze results"
   ]
  },
  {
   "cell_type": "code",
   "execution_count": 120,
   "id": "4b010f93-a1ad-43cb-b505-3fd9c8b7cc0b",
   "metadata": {},
   "outputs": [],
   "source": [
    "def convert_result(data, length = len(test_data)):\n",
    "    results_array = np.zeros((length,5))\n",
    "    for cnt, sample in enumerate(data):\n",
    "        if cnt == 0 :\n",
    "            results_array[0:window_size] = sample[0:window_size]\n",
    "        else :\n",
    "            results_array[window_size+cnt-1] = sample[window_size-1]\n",
    "    return results_array"
   ]
  },
  {
   "cell_type": "code",
   "execution_count": 121,
   "id": "0b60cda5-097f-42fd-9748-1eca7767a09a",
   "metadata": {},
   "outputs": [
    {
     "data": {
      "text/plain": [
       "(233, 128, 5, 5)"
      ]
     },
     "execution_count": 121,
     "metadata": {},
     "output_type": "execute_result"
    }
   ],
   "source": [
    "test_pred.shape"
   ]
  },
  {
   "cell_type": "code",
   "execution_count": 122,
   "id": "4f630d3d-1516-4bb2-98ce-b2e6e649e98b",
   "metadata": {},
   "outputs": [],
   "source": [
    "x_test, y_test = convert_data(test_data, horizon = horizon)\n",
    "##Prepare Loss matrix\n",
    "losses = pd.DataFrame(index = quantiles, columns = horizons)\n",
    "true_transformed = convert_result(x_test, length = len(test_data))\n",
    "for cnt, quantile in enumerate(quantiles):\n",
    "    for horizon in horizons:\n",
    "        pred = test_pred[:,:,horizon-1,cnt:cnt+1]\n",
    "        pred_transformed = convert_result(pred, length = len(test_data))\n",
    "        loss = tf.reduce_mean(pinball_loss(true_transformed[:,horizon-1], pred_transformed[:,horizon-1], tau = quantile))\n",
    "        losses.loc[quantile, horizon] = loss.numpy()"
   ]
  },
  {
   "cell_type": "code",
   "execution_count": 123,
   "id": "bdc6b61a-ac28-4ced-a046-4e58cf312b89",
   "metadata": {},
   "outputs": [
    {
     "data": {
      "text/html": [
       "<div>\n",
       "<style scoped>\n",
       "    .dataframe tbody tr th:only-of-type {\n",
       "        vertical-align: middle;\n",
       "    }\n",
       "\n",
       "    .dataframe tbody tr th {\n",
       "        vertical-align: top;\n",
       "    }\n",
       "\n",
       "    .dataframe thead th {\n",
       "        text-align: right;\n",
       "    }\n",
       "</style>\n",
       "<table border=\"1\" class=\"dataframe\">\n",
       "  <thead>\n",
       "    <tr style=\"text-align: right;\">\n",
       "      <th></th>\n",
       "      <th>1</th>\n",
       "      <th>2</th>\n",
       "      <th>3</th>\n",
       "      <th>4</th>\n",
       "      <th>5</th>\n",
       "    </tr>\n",
       "  </thead>\n",
       "  <tbody>\n",
       "    <tr>\n",
       "      <th>0.025</th>\n",
       "      <td>0.050451</td>\n",
       "      <td>0.06894</td>\n",
       "      <td>0.049217</td>\n",
       "      <td>0.048451</td>\n",
       "      <td>0.046026</td>\n",
       "    </tr>\n",
       "    <tr>\n",
       "      <th>0.250</th>\n",
       "      <td>0.23331</td>\n",
       "      <td>0.242311</td>\n",
       "      <td>0.234073</td>\n",
       "      <td>0.236377</td>\n",
       "      <td>0.236192</td>\n",
       "    </tr>\n",
       "    <tr>\n",
       "      <th>0.500</th>\n",
       "      <td>0.279868</td>\n",
       "      <td>0.279905</td>\n",
       "      <td>0.28056</td>\n",
       "      <td>0.279223</td>\n",
       "      <td>0.280332</td>\n",
       "    </tr>\n",
       "    <tr>\n",
       "      <th>0.750</th>\n",
       "      <td>0.244985</td>\n",
       "      <td>0.248608</td>\n",
       "      <td>0.24647</td>\n",
       "      <td>0.246037</td>\n",
       "      <td>0.248767</td>\n",
       "    </tr>\n",
       "    <tr>\n",
       "      <th>0.975</th>\n",
       "      <td>0.071906</td>\n",
       "      <td>0.0714</td>\n",
       "      <td>0.05578</td>\n",
       "      <td>0.060683</td>\n",
       "      <td>0.06654</td>\n",
       "    </tr>\n",
       "  </tbody>\n",
       "</table>\n",
       "</div>"
      ],
      "text/plain": [
       "              1         2         3         4         5\n",
       "0.025  0.050451   0.06894  0.049217  0.048451  0.046026\n",
       "0.250   0.23331  0.242311  0.234073  0.236377  0.236192\n",
       "0.500  0.279868  0.279905   0.28056  0.279223  0.280332\n",
       "0.750  0.244985  0.248608   0.24647  0.246037  0.248767\n",
       "0.975  0.071906    0.0714   0.05578  0.060683   0.06654"
      ]
     },
     "execution_count": 123,
     "metadata": {},
     "output_type": "execute_result"
    }
   ],
   "source": [
    "losses"
   ]
  },
  {
   "cell_type": "code",
   "execution_count": 139,
   "id": "6e61c36d-c8d0-4a8c-9412-f314c0768132",
   "metadata": {},
   "outputs": [
    {
     "data": {
      "image/png": "[encoded data removed]",
      "text/plain": [
       "<Figure size 1008x720 with 1 Axes>"
      ]
     },
     "metadata": {
      "needs_background": "light"
     },
     "output_type": "display_data"
    }
   ],
   "source": [
    "h = 1\n",
    "fig, ax = plt.subplots(figsize=(14,10))\n",
    "true_transformed = convert_result(x_test, length = len(test_data))\n",
    "sns.scatterplot(x = test_data.index, y = true_transformed[:,h-1])\n",
    "for cnt,quantile in enumerate(quantiles):\n",
    "    pred = test_pred[:,:,h-1,cnt:cnt+1]\n",
    "    pred_transformed = convert_result(pred, length = len(test_data))\n",
    "    sns.lineplot(x = test_data.index, y = pred_transformed[:,h-1])"
   ]
  },
  {
   "cell_type": "markdown",
   "id": "f336d9c7-66d7-4dd7-9205-0bda10cbaa02",
   "metadata": {},
   "source": [
    "### Test plausability of model"
   ]
  },
  {
   "cell_type": "code",
   "execution_count": 140,
   "id": "763d96f6-36ca-469f-b637-2840a0238af6",
   "metadata": {},
   "outputs": [
    {
     "name": "stdout",
     "output_type": "stream",
     "text": [
      "Quantile met for quantile = 0.025: \t 2.5 %\n",
      "Quantile met for quantile = 0.25: \t 25.0 %\n",
      "Quantile met for quantile = 0.5: \t 49.72 %\n",
      "Quantile met for quantile = 0.75: \t 76.11 %\n",
      "Quantile met for quantile = 0.975: \t 96.39 %\n"
     ]
    }
   ],
   "source": [
    "true_transformed = convert_result(x_test, length = len(test_data))\n",
    "for cnt, quantile in enumerate(quantiles):\n",
    "    pred = test_pred[:,:,h-1,cnt:cnt+1]\n",
    "    pred_transformed = convert_result(pred, length = len(test_data))\n",
    "    q_smaller = (pred_transformed[:,h-1] > true_transformed[:,h-1]).sum()\n",
    "    emp_quant = q_smaller / pred_transformed[:,h-1].size\n",
    "    print(\"Quantile met for quantile = {}: \\t {} %\".format(quantile, np.round(emp_quant,4)*100))"
   ]
  },
  {
   "cell_type": "markdown",
   "id": "fe5c36b7-31ee-4129-86ca-5099e8f0adb0",
   "metadata": {},
   "source": [
    "## Prepare predicted data"
   ]
  },
  {
   "cell_type": "markdown",
   "id": "af6968e3-db48-4b66-b6e0-672102bbf0b1",
   "metadata": {},
   "source": [
    "### Renormalize data"
   ]
  },
  {
   "cell_type": "code",
   "execution_count": 141,
   "id": "efa7fd75-f450-4778-9d2d-98ebcaafcd6e",
   "metadata": {},
   "outputs": [],
   "source": [
    "for i in range(5):\n",
    "    future_pred[i,:] = future_pred[i,:]*train_sd[i+1] + train_mean[i+1]"
   ]
  },
  {
   "cell_type": "code",
   "execution_count": 142,
   "id": "866b2486-be0c-496a-857c-20881ed1b403",
   "metadata": {},
   "outputs": [],
   "source": [
    "df_horizons = [1,2,5,6,7]\n",
    "final_prediction = pd.DataFrame(columns = [\"forecast_date\",\"target\",\"horizon\",\"q0.025\",\"q0.25\",\"q0.5\",\"q0.75\",\"q0.975\"])\n",
    "final_prediction[\"forecast_date\"] = [(current_day).strftime(\"%Y-%m-%d\") for x in df_horizons]\n",
    "final_prediction[\"horizon\"] = [\"{} day\".format(x) for x in df_horizons]\n",
    "final_prediction[\"target\"] = \"DAX\"\n",
    "\n",
    "for cnt, quantile in enumerate(quantiles):\n",
    "    final_prediction[\"q{}\".format(quantile)] = future_pred[:,cnt]"
   ]
  },
  {
   "cell_type": "code",
   "execution_count": 143,
   "id": "66c00a68-461d-4091-b3ed-10ee6f8369c7",
   "metadata": {},
   "outputs": [
    {
     "data": {
      "text/html": [
       "<div>\n",
       "<style scoped>\n",
       "    .dataframe tbody tr th:only-of-type {\n",
       "        vertical-align: middle;\n",
       "    }\n",
       "\n",
       "    .dataframe tbody tr th {\n",
       "        vertical-align: top;\n",
       "    }\n",
       "\n",
       "    .dataframe thead th {\n",
       "        text-align: right;\n",
       "    }\n",
       "</style>\n",
       "<table border=\"1\" class=\"dataframe\">\n",
       "  <thead>\n",
       "    <tr style=\"text-align: right;\">\n",
       "      <th></th>\n",
       "      <th>forecast_date</th>\n",
       "      <th>target</th>\n",
       "      <th>horizon</th>\n",
       "      <th>q0.025</th>\n",
       "      <th>q0.25</th>\n",
       "      <th>q0.5</th>\n",
       "      <th>q0.75</th>\n",
       "      <th>q0.975</th>\n",
       "    </tr>\n",
       "  </thead>\n",
       "  <tbody>\n",
       "    <tr>\n",
       "      <th>0</th>\n",
       "      <td>2021-10-20</td>\n",
       "      <td>DAX</td>\n",
       "      <td>1 day</td>\n",
       "      <td>-2.739411</td>\n",
       "      <td>-0.650267</td>\n",
       "      <td>0.114251</td>\n",
       "      <td>1.129395</td>\n",
       "      <td>3.340193</td>\n",
       "    </tr>\n",
       "    <tr>\n",
       "      <th>1</th>\n",
       "      <td>2021-10-20</td>\n",
       "      <td>DAX</td>\n",
       "      <td>2 day</td>\n",
       "      <td>-9.585247</td>\n",
       "      <td>-2.174104</td>\n",
       "      <td>0.343736</td>\n",
       "      <td>2.347618</td>\n",
       "      <td>7.745867</td>\n",
       "    </tr>\n",
       "    <tr>\n",
       "      <th>2</th>\n",
       "      <td>2021-10-20</td>\n",
       "      <td>DAX</td>\n",
       "      <td>5 day</td>\n",
       "      <td>-9.802836</td>\n",
       "      <td>-2.073265</td>\n",
       "      <td>0.630373</td>\n",
       "      <td>3.970054</td>\n",
       "      <td>5.013111</td>\n",
       "    </tr>\n",
       "    <tr>\n",
       "      <th>3</th>\n",
       "      <td>2021-10-20</td>\n",
       "      <td>DAX</td>\n",
       "      <td>6 day</td>\n",
       "      <td>-12.600079</td>\n",
       "      <td>-3.400104</td>\n",
       "      <td>0.881958</td>\n",
       "      <td>4.590085</td>\n",
       "      <td>9.053760</td>\n",
       "    </tr>\n",
       "    <tr>\n",
       "      <th>4</th>\n",
       "      <td>2021-10-20</td>\n",
       "      <td>DAX</td>\n",
       "      <td>7 day</td>\n",
       "      <td>-15.115002</td>\n",
       "      <td>-4.352365</td>\n",
       "      <td>1.174757</td>\n",
       "      <td>6.159860</td>\n",
       "      <td>17.666272</td>\n",
       "    </tr>\n",
       "  </tbody>\n",
       "</table>\n",
       "</div>"
      ],
      "text/plain": [
       "  forecast_date target horizon     q0.025     q0.25      q0.5     q0.75  \\\n",
       "0    2021-10-20    DAX   1 day  -2.739411 -0.650267  0.114251  1.129395   \n",
       "1    2021-10-20    DAX   2 day  -9.585247 -2.174104  0.343736  2.347618   \n",
       "2    2021-10-20    DAX   5 day  -9.802836 -2.073265  0.630373  3.970054   \n",
       "3    2021-10-20    DAX   6 day -12.600079 -3.400104  0.881958  4.590085   \n",
       "4    2021-10-20    DAX   7 day -15.115002 -4.352365  1.174757  6.159860   \n",
       "\n",
       "      q0.975  \n",
       "0   3.340193  \n",
       "1   7.745867  \n",
       "2   5.013111  \n",
       "3   9.053760  \n",
       "4  17.666272  "
      ]
     },
     "execution_count": 143,
     "metadata": {},
     "output_type": "execute_result"
    }
   ],
   "source": [
    "final_prediction"
   ]
  },
  {
   "cell_type": "markdown",
   "id": "ca3cce8f-ca95-4020-bfca-607e106acdb1",
   "metadata": {},
   "source": [
    "## Save final prediction"
   ]
  },
  {
   "cell_type": "code",
   "execution_count": 149,
   "id": "e668b977-a6ca-4a75-84ab-65e20dc17ea4",
   "metadata": {},
   "outputs": [],
   "source": [
    "current_date = date.today().strftime(\"%Y-%m-%d\")\n",
    "final_prediction.to_pickle(\"../evaluation/predictions/single/DAX_{}\".format(current_date))"
   ]
  },
  {
   "cell_type": "code",
   "execution_count": null,
   "id": "c4ddce61-d5b4-4297-89a0-8f2f05cee0d5",
   "metadata": {},
   "outputs": [],
   "source": []
  }
 ],
 "metadata": {
  "kernelspec": {
   "display_name": "Python 3 (ipykernel)",
   "language": "python",
   "name": "python3"
  },
  "language_info": {
   "codemirror_mode": {
    "name": "ipython",
    "version": 3
   },
   "file_extension": ".py",
   "mimetype": "text/x-python",
   "name": "python",
   "nbconvert_exporter": "python",
   "pygments_lexer": "ipython3",
   "version": "3.8.8"
  }
 },
 "nbformat": 4,
 "nbformat_minor": 5
}
