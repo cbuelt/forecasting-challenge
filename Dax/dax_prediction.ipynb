{
 "cells": [
  {
   "cell_type": "code",
   "execution_count": 1,
   "id": "b11b35a7-c260-49af-96e8-2c198e836ae2",
   "metadata": {},
   "outputs": [],
   "source": [
    "import pandas as pd\n",
    "import numpy as np\n",
    "import yfinance as yf\n",
    "from datetime import date, timedelta, datetime\n",
    "import seaborn as sns\n",
    "from sklearn.model_selection import train_test_split\n",
    "from sklearn.metrics import mean_pinball_loss\n",
    "from sklearn.linear_model import QuantileRegressor\n",
    "from matplotlib import pyplot as plt\n",
    "from numpy.lib.stride_tricks import sliding_window_view\n",
    "from tensorflow.keras.layers import Input, Conv1D, Dropout\n",
    "from tensorflow.keras.models import Model\n",
    "from tensorflow.keras import backend as K\n",
    "import tensorflow as tf\n",
    "import tensorflow_addons as tfa\n",
    "from tensorflow_addons.losses import pinball_loss"
   ]
  },
  {
   "cell_type": "code",
   "execution_count": 156,
   "id": "3e4c2a36-fd6c-4d00-b1e6-1322ca01168a",
   "metadata": {},
   "outputs": [
    {
     "data": {
      "text/plain": [
       "[PhysicalDevice(name='/physical_device:GPU:0', device_type='GPU')]"
      ]
     },
     "execution_count": 156,
     "metadata": {},
     "output_type": "execute_result"
    }
   ],
   "source": [
    "tf.config.list_physical_devices('GPU')"
   ]
  },
  {
   "cell_type": "code",
   "execution_count": 157,
   "id": "89e94ddf-d369-4193-8974-b237a37260dc",
   "metadata": {},
   "outputs": [],
   "source": [
    "quantiles = [0.025, 0.25, 0.5, 0.75, 0.975]\n",
    "horizons = [1,2,3,4,5]"
   ]
  },
  {
   "cell_type": "markdown",
   "id": "ca1081c7-625d-4061-bea0-b97354708db9",
   "metadata": {
    "tags": []
   },
   "source": [
    "# Get data"
   ]
  },
  {
   "cell_type": "code",
   "execution_count": 158,
   "id": "00e1545f-73e1-487a-9779-7d58239ffe71",
   "metadata": {},
   "outputs": [
    {
     "name": "stdout",
     "output_type": "stream",
     "text": [
      "[*********************100%***********************]  1 of 1 completed\n"
     ]
    }
   ],
   "source": [
    "current_day = datetime.today()\n",
    "data = yf.download(\"^GDAXI\", start=\"2000-01-01\", end=current_day)[\"Adj Close\"]"
   ]
  },
  {
   "cell_type": "markdown",
   "id": "6c0dc4a3-53f8-42f3-ac73-8d72ed142f65",
   "metadata": {
    "tags": []
   },
   "source": [
    "# Wavenet modeling"
   ]
  },
  {
   "cell_type": "markdown",
   "id": "c25079ee-3f4c-45e2-a8fa-5e3b7082ea50",
   "metadata": {},
   "source": [
    "## Data preparation\n",
    "\n",
    "Add all five horizons as a predictor"
   ]
  },
  {
   "cell_type": "code",
   "execution_count": 160,
   "id": "10d288a1-4b29-4183-bf20-d2c3a6b8ca7d",
   "metadata": {},
   "outputs": [],
   "source": [
    "data_prep = pd.DataFrame(data)\n",
    "data_prep[\"log_return\"] = 100 * (np.log(data_prep) - np.log(data_prep.shift(1)))\n",
    "for horizon in range(1,6):\n",
    "    data_prep[horizon] = 100 * (np.log(data_prep[\"Adj Close\"]) - np.log(data_prep[\"Adj Close\"].shift(horizon)))\n",
    "    data_prep[horizon] = data_prep[horizon].shift(-horizon)\n",
    "\n",
    "#Drop CLose\n",
    "data_prep.drop(\"Adj Close\", axis = 1, inplace = True)"
   ]
  },
  {
   "cell_type": "markdown",
   "id": "6c20dc3c-e59e-4636-92b7-a2c00664b267",
   "metadata": {},
   "source": [
    "### Create test, val, train and prediction data\n",
    "\n",
    "Total length of data is 5530:\n",
    "- Will take half a year - 180 as a test set\n",
    "- Whole year as validation set\n",
    "- Rest as training set"
   ]
  },
  {
   "cell_type": "code",
   "execution_count": 161,
   "id": "3635ab4a-f608-475c-8987-20f2de4c51d7",
   "metadata": {},
   "outputs": [],
   "source": [
    "window_size = 128\n",
    "max_horizon = 5\n",
    "test_size = 360\n",
    "val_size = 360\n",
    "\n",
    "pred_data = data_prep[-128:]\n",
    "\n",
    "#Drop Nans\n",
    "data_prep.dropna(inplace = True)\n",
    "\n",
    "test_data = data_prep[-test_size:]\n",
    "val_data = data_prep[-val_size-test_size:-test_size]\n",
    "train_data = data_prep[:-val_size-test_size]"
   ]
  },
  {
   "cell_type": "markdown",
   "id": "185cf53f-8af2-41ae-b349-f293e13bdd19",
   "metadata": {},
   "source": [
    "### Normalize data"
   ]
  },
  {
   "cell_type": "code",
   "execution_count": 162,
   "id": "a109f2c6-a34e-435b-bce4-a74457d0a29d",
   "metadata": {},
   "outputs": [],
   "source": [
    "train_mean = train_data.mean()\n",
    "train_sd = train_data.std()"
   ]
  },
  {
   "cell_type": "code",
   "execution_count": 163,
   "id": "5661342d-35ab-4870-b3a1-51975630f1e9",
   "metadata": {},
   "outputs": [],
   "source": [
    "def normalize(data, mean = train_mean, sd = train_sd):\n",
    "    return (data-mean)/sd"
   ]
  },
  {
   "cell_type": "code",
   "execution_count": 164,
   "id": "fd0db3ca-c4e4-4261-841f-3f8dfe210649",
   "metadata": {},
   "outputs": [],
   "source": [
    "train_data = normalize(train_data)\n",
    "val_data = normalize(val_data)\n",
    "test_data = normalize(test_data)\n",
    "pred_data = normalize(pred_data)"
   ]
  },
  {
   "cell_type": "markdown",
   "id": "9075c3bf-53d4-44b4-9848-86e5f1264d40",
   "metadata": {},
   "source": [
    "### Apply rolling window and get predictor"
   ]
  },
  {
   "cell_type": "code",
   "execution_count": 165,
   "id": "b6cf1647-3a10-4fac-8bca-e3dad970cbaf",
   "metadata": {},
   "outputs": [],
   "source": [
    "def convert_data(data, horizon, window_size = window_size):\n",
    "    data_numpy = np.array(data)\n",
    "    window = sliding_window_view(data_numpy,window_size, axis = 0)\n",
    "    window = np.swapaxes(window, 1,2)\n",
    "    X = window[:,:,0:1]\n",
    "    Y = window[:,:,horizon:horizon+1]\n",
    "    return (X,Y)"
   ]
  },
  {
   "cell_type": "code",
   "execution_count": 167,
   "id": "a9161ec8-6663-48a7-951a-03040ef38665",
   "metadata": {},
   "outputs": [],
   "source": [
    "x_train, y_train = convert_data(train_data, horizon = 5)\n",
    "x_val, y_val = convert_data(val_data, horizon = 1)"
   ]
  },
  {
   "cell_type": "markdown",
   "id": "e964032b-8bd3-42db-a7ee-75f293baa69b",
   "metadata": {},
   "source": [
    "## Build model"
   ]
  },
  {
   "cell_type": "code",
   "execution_count": 188,
   "id": "93b498a0-490e-45ae-97c3-3a7c0e2627b5",
   "metadata": {},
   "outputs": [],
   "source": [
    "def model(trainX, trainY, dropout_rate = 0.15):\n",
    "    \"\"\"\n",
    "    trainX -- input values; shape: [number of samples, NUM_UNROLLINGS, 1]\n",
    "    trainY -- output values (inputs shifted by 1); shape: [number of samples, NUM_UNROLLINGS, 1]\n",
    "    \"\"\"\n",
    "\n",
    "    filters = 8\n",
    "    kernel_size = 2\n",
    "    input_ts = Input(shape=(trainX.shape[1], 1))\n",
    "    #Base layers\n",
    "    x = Conv1D(filters, kernel_size, activation=\"relu\", padding=\"causal\", dilation_rate=1)(input_ts)\n",
    "    x = Conv1D(filters, kernel_size, activation=\"relu\", padding=\"causal\", dilation_rate=2)(x)\n",
    "    x = Conv1D(filters, kernel_size, activation=\"relu\", padding=\"causal\", dilation_rate=4)(x)\n",
    "    x = Conv1D(filters, kernel_size, activation=\"relu\", padding=\"causal\", dilation_rate=8)(x)\n",
    "    x = Conv1D(filters, kernel_size, activation=\"relu\", padding=\"causal\", dilation_rate=16)(x)\n",
    "    x = Conv1D(filters, kernel_size, activation=\"relu\", padding=\"causal\", dilation_rate=32)(x)\n",
    "    #Fully Layer\n",
    "    out = Conv1D(32, 1, padding = \"same\")(x)\n",
    "    out = Dropout(dropout_rate)(out)\n",
    "    out = Conv1D(1, 1, activation=\"linear\")(out)\n",
    "    cnn = Model(input_ts, out)\n",
    "    return cnn"
   ]
  },
  {
   "cell_type": "markdown",
   "id": "935d9579-5b62-42bf-9a82-542fbaf3d36a",
   "metadata": {
    "tags": []
   },
   "source": [
    "### Define parameters"
   ]
  },
  {
   "cell_type": "code",
   "execution_count": 189,
   "id": "24b7116c-ddb3-4857-b905-2be241831c00",
   "metadata": {},
   "outputs": [],
   "source": [
    "BATCH_SIZE = 128\n",
    "EPOCHS = 300\n",
    "learning_rate = 0.01\n",
    "optimizer = tf.keras.optimizers.Adadelta(learning_rate = learning_rate)\n",
    "\n",
    "#Early stopping\n",
    "callback = tf.keras.callbacks.EarlyStopping(monitor='val_loss', patience=5, min_delta = 1e-5)"
   ]
  },
  {
   "cell_type": "markdown",
   "id": "c0eb89c7-9cfd-4440-88b4-dd210750ae0d",
   "metadata": {},
   "source": [
    "## Training process"
   ]
  },
  {
   "cell_type": "code",
   "execution_count": 190,
   "id": "25b61afa-737a-47b8-9e3d-aaade567cf55",
   "metadata": {},
   "outputs": [],
   "source": [
    "cnn = model(x_train, y_train)"
   ]
  },
  {
   "cell_type": "code",
   "execution_count": 191,
   "id": "02baa571-d03f-4f83-bd4e-917fde78bfbf",
   "metadata": {},
   "outputs": [],
   "source": [
    "def train_model(model, optimizer, x_train, y_train, x_val, y_val, quantile, BATCH_SIZE = BATCH_SIZE, EPOCHS = EPOCHS, callback = callback):\n",
    "    model.compile(optimizer = optimizer,  loss = lambda true,pred: pinball_loss(true, pred, tau = quantile))\n",
    "    history = model.fit(x_train, y_train, validation_data = (x_val, y_val), epochs = EPOCHS,batch_size = BATCH_SIZE, shuffle=True,\n",
    "        callbacks = [callback], verbose = False)\n",
    "    return model"
   ]
  },
  {
   "cell_type": "code",
   "execution_count": 192,
   "id": "446b26d8-6e63-4fcc-9e7b-f136283eddd0",
   "metadata": {},
   "outputs": [
    {
     "name": "stdout",
     "output_type": "stream",
     "text": [
      "Model: \"model_163\"\n",
      "_________________________________________________________________\n",
      "Layer (type)                 Output Shape              Param #   \n",
      "=================================================================\n",
      "input_164 (InputLayer)       [(None, 128, 1)]          0         \n",
      "_________________________________________________________________\n",
      "conv1d_1304 (Conv1D)         (None, 128, 8)            24        \n",
      "_________________________________________________________________\n",
      "conv1d_1305 (Conv1D)         (None, 128, 8)            136       \n",
      "_________________________________________________________________\n",
      "conv1d_1306 (Conv1D)         (None, 128, 8)            136       \n",
      "_________________________________________________________________\n",
      "conv1d_1307 (Conv1D)         (None, 128, 8)            136       \n",
      "_________________________________________________________________\n",
      "conv1d_1308 (Conv1D)         (None, 128, 8)            136       \n",
      "_________________________________________________________________\n",
      "conv1d_1309 (Conv1D)         (None, 128, 8)            136       \n",
      "_________________________________________________________________\n",
      "conv1d_1310 (Conv1D)         (None, 128, 32)           288       \n",
      "_________________________________________________________________\n",
      "dropout_163 (Dropout)        (None, 128, 32)           0         \n",
      "_________________________________________________________________\n",
      "conv1d_1311 (Conv1D)         (None, 128, 1)            33        \n",
      "=================================================================\n",
      "Total params: 1,025\n",
      "Trainable params: 1,025\n",
      "Non-trainable params: 0\n",
      "_________________________________________________________________\n"
     ]
    }
   ],
   "source": [
    "cnn.summary()"
   ]
  },
  {
   "cell_type": "markdown",
   "id": "8c79dbd9-3841-4b02-b5db-2398bc883355",
   "metadata": {},
   "source": [
    "## Predict test data"
   ]
  },
  {
   "cell_type": "code",
   "execution_count": 173,
   "id": "c695a869-b5dc-4bcd-abf8-cf50a7551824",
   "metadata": {},
   "outputs": [],
   "source": [
    "## Returns output of shape [samples, enrollings, horizon, quantile]\n",
    "def train_and_predict(train_data = train_data, val_data = val_data, test_data = test_data, pred_data = pred_data, quantiles = quantiles, horizons = horizons):\n",
    "\n",
    "    test_pred = np.zeros((test_size-window_size+1, window_size, len(horizons), len(quantiles)))\n",
    "    future_pred = np.zeros((len(horizons), len(quantiles)))\n",
    "\n",
    "    for horizon in horizons:\n",
    "        #Get data\n",
    "        x_train, y_train = convert_data(train_data, horizon = horizon)\n",
    "        x_val, y_val = convert_data(val_data, horizon = horizon)\n",
    "        x_test, y_test = convert_data(test_data, horizon = horizon)\n",
    "        x_pred, _ = convert_data(pred_data, horizon = horizon)\n",
    "        for cnt, quantile in enumerate(quantiles):           \n",
    "            cnn = model(x_train, y_train)\n",
    "            cnn = train_model(cnn, optimizer, x_train, y_train, x_val, y_val, quantile)\n",
    "\n",
    "            horizon_pred = cnn.predict(x_test)\n",
    "            test_pred[:,:,horizon-1,cnt] = horizon_pred[:,:,0]\n",
    "\n",
    "            #Future pred\n",
    "            future_pred[horizon-1,cnt] = cnn.predict(x_pred)[0,-1,0]\n",
    "            \n",
    "            #Print checkpoint\n",
    "            print(\"Finished horizon_{}, quantile_{}\".format(horizon,quantile))\n",
    "    \n",
    "    #Return predictions\n",
    "    return (test_pred, future_pred)"
   ]
  },
  {
   "cell_type": "code",
   "execution_count": 193,
   "id": "0e2e8d1e-e720-4622-8e46-b2114a1b0a9a",
   "metadata": {},
   "outputs": [],
   "source": [
    "## Returns output of shape [samples, enrollings, horizon, quantile]\n",
    "def train_and_predict(train_data, val_data, pred_data, quantiles = quantiles, horizons = horizons):\n",
    "    \n",
    "    #Get size\n",
    "    pred_size = len(pred_data)\n",
    "\n",
    "    prediction = np.zeros((pred_size-window_size+1, window_size, len(horizons), len(quantiles)))\n",
    "\n",
    "    for horizon in horizons:\n",
    "        #Get data\n",
    "        x_train, y_train = convert_data(train_data, horizon = horizon)\n",
    "        x_val, y_val = convert_data(val_data, horizon = horizon)\n",
    "        x_pred, _ = convert_data(pred_data, horizon = horizon)\n",
    "        for cnt, quantile in enumerate(quantiles):           \n",
    "            cnn = model(x_train, y_train)\n",
    "            cnn = train_model(cnn, optimizer, x_train, y_train, x_val, y_val, quantile)\n",
    "\n",
    "            #Future pred\n",
    "            horizon_pred = cnn.predict(x_pred)\n",
    "            prediction[:,:,horizon-1,cnt] = horizon_pred[:,:,0]\n",
    "            \n",
    "            #Print checkpoint\n",
    "            print(\"Finished horizon_{}, quantile_{}\".format(horizon,quantile))\n",
    "    \n",
    "    #Return predictions\n",
    "    return prediction"
   ]
  },
  {
   "cell_type": "code",
   "execution_count": 175,
   "id": "63dc1480-fac6-45fe-99da-6a3f2fdfc2d2",
   "metadata": {},
   "outputs": [
    {
     "name": "stdout",
     "output_type": "stream",
     "text": [
      "WARNING:tensorflow:6 out of the last 11 calls to <function Model.make_test_function.<locals>.test_function at 0x0000025C94482EE0> triggered tf.function retracing. Tracing is expensive and the excessive number of tracings could be due to (1) creating @tf.function repeatedly in a loop, (2) passing tensors with different shapes, (3) passing Python objects instead of tensors. For (1), please define your @tf.function outside of the loop. For (2), @tf.function has experimental_relax_shapes=True option that relaxes argument shapes that can avoid unnecessary retracing. For (3), please refer to https://www.tensorflow.org/guide/function#controlling_retracing and https://www.tensorflow.org/api_docs/python/tf/function for  more details.\n",
      "WARNING:tensorflow:11 out of the last 11 calls to <function Model.make_predict_function.<locals>.predict_function at 0x0000025CE24E6B80> triggered tf.function retracing. Tracing is expensive and the excessive number of tracings could be due to (1) creating @tf.function repeatedly in a loop, (2) passing tensors with different shapes, (3) passing Python objects instead of tensors. For (1), please define your @tf.function outside of the loop. For (2), @tf.function has experimental_relax_shapes=True option that relaxes argument shapes that can avoid unnecessary retracing. For (3), please refer to https://www.tensorflow.org/guide/function#controlling_retracing and https://www.tensorflow.org/api_docs/python/tf/function for  more details.\n",
      "Finished horizon_1, quantile_0.025\n",
      "Finished horizon_1, quantile_0.25\n",
      "Finished horizon_1, quantile_0.5\n",
      "Finished horizon_1, quantile_0.75\n",
      "Finished horizon_1, quantile_0.975\n",
      "Finished horizon_2, quantile_0.025\n",
      "Finished horizon_2, quantile_0.25\n",
      "Finished horizon_2, quantile_0.5\n",
      "Finished horizon_2, quantile_0.75\n",
      "Finished horizon_2, quantile_0.975\n",
      "Finished horizon_3, quantile_0.025\n",
      "Finished horizon_3, quantile_0.25\n",
      "Finished horizon_3, quantile_0.5\n",
      "Finished horizon_3, quantile_0.75\n",
      "Finished horizon_3, quantile_0.975\n",
      "Finished horizon_4, quantile_0.025\n",
      "Finished horizon_4, quantile_0.25\n",
      "Finished horizon_4, quantile_0.5\n",
      "Finished horizon_4, quantile_0.75\n",
      "Finished horizon_4, quantile_0.975\n",
      "Finished horizon_5, quantile_0.025\n",
      "Finished horizon_5, quantile_0.25\n",
      "Finished horizon_5, quantile_0.5\n",
      "Finished horizon_5, quantile_0.75\n",
      "Finished horizon_5, quantile_0.975\n"
     ]
    }
   ],
   "source": [
    "test_pred = train_and_predict(train_data, val_data, test_data)"
   ]
  },
  {
   "cell_type": "markdown",
   "id": "32bbc282-c07f-4809-a77a-4c12034cadab",
   "metadata": {},
   "source": [
    "## Analyze results"
   ]
  },
  {
   "cell_type": "markdown",
   "id": "7beb5658-ee79-4e2e-a5b6-447353cf3896",
   "metadata": {
    "tags": []
   },
   "source": [
    "### Loss"
   ]
  },
  {
   "cell_type": "code",
   "execution_count": 176,
   "id": "4b010f93-a1ad-43cb-b505-3fd9c8b7cc0b",
   "metadata": {},
   "outputs": [],
   "source": [
    "def convert_result(data, length = len(test_data)):\n",
    "    results_array = np.zeros((length,5))\n",
    "    for cnt, sample in enumerate(data):\n",
    "        if cnt == 0 :\n",
    "            results_array[0:window_size] = sample[0:window_size]\n",
    "        else :\n",
    "            results_array[window_size+cnt-1] = sample[window_size-1]\n",
    "    return results_array"
   ]
  },
  {
   "cell_type": "code",
   "execution_count": 177,
   "id": "4f630d3d-1516-4bb2-98ce-b2e6e649e98b",
   "metadata": {},
   "outputs": [],
   "source": [
    "x_test, _ = convert_data(test_data, horizon = horizon)\n",
    "##Prepare Loss matrix\n",
    "losses = pd.DataFrame(index = quantiles, columns = horizons)\n",
    "true_transformed = convert_result(x_test, length = len(test_data))\n",
    "for cnt, quantile in enumerate(quantiles):\n",
    "    for horizon in horizons:\n",
    "        pred = test_pred[:,:,horizon-1,cnt:cnt+1]\n",
    "        pred_transformed = convert_result(pred, length = len(test_data))\n",
    "        loss = tf.reduce_mean(pinball_loss(true_transformed[:,horizon-1], pred_transformed[:,horizon-1], tau = quantile))\n",
    "        losses.loc[quantile, horizon] = loss.numpy()"
   ]
  },
  {
   "cell_type": "code",
   "execution_count": 178,
   "id": "bdc6b61a-ac28-4ced-a046-4e58cf312b89",
   "metadata": {},
   "outputs": [
    {
     "data": {
      "text/html": [
       "<div>\n",
       "<style scoped>\n",
       "    .dataframe tbody tr th:only-of-type {\n",
       "        vertical-align: middle;\n",
       "    }\n",
       "\n",
       "    .dataframe tbody tr th {\n",
       "        vertical-align: top;\n",
       "    }\n",
       "\n",
       "    .dataframe thead th {\n",
       "        text-align: right;\n",
       "    }\n",
       "</style>\n",
       "<table border=\"1\" class=\"dataframe\">\n",
       "  <thead>\n",
       "    <tr style=\"text-align: right;\">\n",
       "      <th></th>\n",
       "      <th>1</th>\n",
       "      <th>2</th>\n",
       "      <th>3</th>\n",
       "      <th>4</th>\n",
       "      <th>5</th>\n",
       "    </tr>\n",
       "  </thead>\n",
       "  <tbody>\n",
       "    <tr>\n",
       "      <th>0.025</th>\n",
       "      <td>0.041864</td>\n",
       "      <td>0.065875</td>\n",
       "      <td>0.049206</td>\n",
       "      <td>0.053203</td>\n",
       "      <td>0.072127</td>\n",
       "    </tr>\n",
       "    <tr>\n",
       "      <th>0.250</th>\n",
       "      <td>0.23003</td>\n",
       "      <td>0.229466</td>\n",
       "      <td>0.232786</td>\n",
       "      <td>0.22572</td>\n",
       "      <td>0.230404</td>\n",
       "    </tr>\n",
       "    <tr>\n",
       "      <th>0.500</th>\n",
       "      <td>0.27038</td>\n",
       "      <td>0.27069</td>\n",
       "      <td>0.271313</td>\n",
       "      <td>0.270216</td>\n",
       "      <td>0.270946</td>\n",
       "    </tr>\n",
       "    <tr>\n",
       "      <th>0.750</th>\n",
       "      <td>0.228988</td>\n",
       "      <td>0.232801</td>\n",
       "      <td>0.228525</td>\n",
       "      <td>0.230127</td>\n",
       "      <td>0.231976</td>\n",
       "    </tr>\n",
       "    <tr>\n",
       "      <th>0.975</th>\n",
       "      <td>0.068516</td>\n",
       "      <td>0.052432</td>\n",
       "      <td>0.050966</td>\n",
       "      <td>0.047241</td>\n",
       "      <td>0.049912</td>\n",
       "    </tr>\n",
       "  </tbody>\n",
       "</table>\n",
       "</div>"
      ],
      "text/plain": [
       "              1         2         3         4         5\n",
       "0.025  0.041864  0.065875  0.049206  0.053203  0.072127\n",
       "0.250   0.23003  0.229466  0.232786   0.22572  0.230404\n",
       "0.500   0.27038   0.27069  0.271313  0.270216  0.270946\n",
       "0.750  0.228988  0.232801  0.228525  0.230127  0.231976\n",
       "0.975  0.068516  0.052432  0.050966  0.047241  0.049912"
      ]
     },
     "execution_count": 178,
     "metadata": {},
     "output_type": "execute_result"
    }
   ],
   "source": [
    "losses"
   ]
  },
  {
   "cell_type": "code",
   "execution_count": 186,
   "id": "6e61c36d-c8d0-4a8c-9412-f314c0768132",
   "metadata": {},
   "outputs": [
    {
     "data": {
      "image/png": "[encoded data removed]",
      "text/plain": [
       "<Figure size 1008x720 with 1 Axes>"
      ]
     },
     "metadata": {
      "needs_background": "light"
     },
     "output_type": "display_data"
    }
   ],
   "source": [
    "h = 1\n",
    "fig, ax = plt.subplots(figsize=(14,10))\n",
    "true_transformed = convert_result(x_test, length = len(test_data))\n",
    "sns.scatterplot(x = test_data.index, y = true_transformed[:,h-1])\n",
    "for cnt,quantile in enumerate(quantiles):\n",
    "    pred = test_pred[:,:,h-1,cnt:cnt+1]\n",
    "    pred_transformed = convert_result(pred, length = len(test_data))\n",
    "    sns.lineplot(x = test_data.index, y = pred_transformed[:,h-1])"
   ]
  },
  {
   "cell_type": "markdown",
   "id": "f336d9c7-66d7-4dd7-9205-0bda10cbaa02",
   "metadata": {},
   "source": [
    "### Test plausability of model"
   ]
  },
  {
   "cell_type": "code",
   "execution_count": 187,
   "id": "763d96f6-36ca-469f-b637-2840a0238af6",
   "metadata": {},
   "outputs": [
    {
     "name": "stdout",
     "output_type": "stream",
     "text": [
      "Quantile met for quantile = 0.025: \t 0.5599999999999999 %\n",
      "Quantile met for quantile = 0.25: \t 19.439999999999998 %\n",
      "Quantile met for quantile = 0.5: \t 50.0 %\n",
      "Quantile met for quantile = 0.75: \t 77.78 %\n",
      "Quantile met for quantile = 0.975: \t 97.5 %\n"
     ]
    }
   ],
   "source": [
    "true_transformed = convert_result(x_test, length = len(test_data))\n",
    "for cnt, quantile in enumerate(quantiles):\n",
    "    pred = test_pred[:,:,h-1,cnt:cnt+1]\n",
    "    pred_transformed = convert_result(pred, length = len(test_data))\n",
    "    q_smaller = (pred_transformed[:,h-1] > true_transformed[:,h-1]).sum()\n",
    "    emp_quant = q_smaller / pred_transformed[:,h-1].size\n",
    "    print(\"Quantile met for quantile = {}: \\t {} %\".format(quantile, np.round(emp_quant,4)*100))"
   ]
  },
  {
   "cell_type": "markdown",
   "id": "2109f9fb-cd02-4250-aa31-539a1eebf384",
   "metadata": {},
   "source": [
    "### Loss of baseline"
   ]
  },
  {
   "cell_type": "code",
   "execution_count": 181,
   "id": "afac9520-d3d6-4640-9ba5-2d6d9277e442",
   "metadata": {},
   "outputs": [],
   "source": [
    "def get_baseline(date, days = 1500, data = data_prep):\n",
    "    date = date - timedelta(days)\n",
    "    baseline_results = pd.DataFrame(columns = np.arange(1,6), index = quantiles)\n",
    "    filtered_data = data[data.index < date].iloc[-1000:]\n",
    "\n",
    "    for step in np.arange(1,6):\n",
    "\n",
    "        step_log_return = filtered_data.loc[:,step]\n",
    "        step_log_return.dropna(inplace = True)\n",
    "\n",
    "        #Calculate quantiles\n",
    "        baseline_quantiles = np.quantile(step_log_return, quantiles)\n",
    "        baseline_results.loc[:,step]=baseline_quantiles\n",
    "    return baseline_results"
   ]
  },
  {
   "cell_type": "code",
   "execution_count": 182,
   "id": "ee41b44a-44e9-4e84-95e8-cb2da714c44c",
   "metadata": {},
   "outputs": [
    {
     "data": {
      "text/html": [
       "<div>\n",
       "<style scoped>\n",
       "    .dataframe tbody tr th:only-of-type {\n",
       "        vertical-align: middle;\n",
       "    }\n",
       "\n",
       "    .dataframe tbody tr th {\n",
       "        vertical-align: top;\n",
       "    }\n",
       "\n",
       "    .dataframe thead th {\n",
       "        text-align: right;\n",
       "    }\n",
       "</style>\n",
       "<table border=\"1\" class=\"dataframe\">\n",
       "  <thead>\n",
       "    <tr style=\"text-align: right;\">\n",
       "      <th></th>\n",
       "      <th>1</th>\n",
       "      <th>2</th>\n",
       "      <th>3</th>\n",
       "      <th>4</th>\n",
       "      <th>5</th>\n",
       "    </tr>\n",
       "  </thead>\n",
       "  <tbody>\n",
       "    <tr>\n",
       "      <th>0.025</th>\n",
       "      <td>0.069667</td>\n",
       "      <td>0.091654</td>\n",
       "      <td>0.116541</td>\n",
       "      <td>0.127271</td>\n",
       "      <td>0.143665</td>\n",
       "    </tr>\n",
       "    <tr>\n",
       "      <th>0.250</th>\n",
       "      <td>0.243769</td>\n",
       "      <td>0.272442</td>\n",
       "      <td>0.321154</td>\n",
       "      <td>0.337472</td>\n",
       "      <td>0.353602</td>\n",
       "    </tr>\n",
       "    <tr>\n",
       "      <th>0.500</th>\n",
       "      <td>0.268519</td>\n",
       "      <td>0.267566</td>\n",
       "      <td>0.280048</td>\n",
       "      <td>0.274695</td>\n",
       "      <td>0.267881</td>\n",
       "    </tr>\n",
       "    <tr>\n",
       "      <th>0.750</th>\n",
       "      <td>0.237993</td>\n",
       "      <td>0.274102</td>\n",
       "      <td>0.355203</td>\n",
       "      <td>0.398577</td>\n",
       "      <td>0.466031</td>\n",
       "    </tr>\n",
       "    <tr>\n",
       "      <th>0.975</th>\n",
       "      <td>0.062302</td>\n",
       "      <td>0.082773</td>\n",
       "      <td>0.102061</td>\n",
       "      <td>0.115388</td>\n",
       "      <td>0.126156</td>\n",
       "    </tr>\n",
       "  </tbody>\n",
       "</table>\n",
       "</div>"
      ],
      "text/plain": [
       "              1         2         3         4         5\n",
       "0.025  0.069667  0.091654  0.116541  0.127271  0.143665\n",
       "0.250  0.243769  0.272442  0.321154  0.337472  0.353602\n",
       "0.500  0.268519  0.267566  0.280048  0.274695  0.267881\n",
       "0.750  0.237993  0.274102  0.355203  0.398577  0.466031\n",
       "0.975  0.062302  0.082773  0.102061  0.115388  0.126156"
      ]
     },
     "execution_count": 182,
     "metadata": {},
     "output_type": "execute_result"
    }
   ],
   "source": [
    "losses = pd.DataFrame(index = quantiles, columns = horizons)\n",
    "losses.loc[:,:] = 0\n",
    "\n",
    "for cnt in range(len(test_data)):\n",
    "    data_sample = test_data.iloc[cnt]\n",
    "    result = get_baseline(data_sample.name)\n",
    "    \n",
    "    for horizon in horizons:\n",
    "        for quantile in quantiles:\n",
    "            pred = result.loc[quantile,horizon]\n",
    "            loss = pinball_loss(data_sample[horizon], pred, quantile).numpy()\n",
    "            losses.loc[quantile,horizon] += loss\n",
    "losses = losses / len(test_data)\n",
    "losses"
   ]
  },
  {
   "cell_type": "markdown",
   "id": "fe5c36b7-31ee-4129-86ca-5099e8f0adb0",
   "metadata": {},
   "source": [
    "## Predict new data"
   ]
  },
  {
   "cell_type": "code",
   "execution_count": 194,
   "id": "963dcb34-b09a-4680-a5f2-7f8b15c3ba43",
   "metadata": {},
   "outputs": [
    {
     "name": "stdout",
     "output_type": "stream",
     "text": [
      "Finished horizon_1, quantile_0.025\n",
      "Finished horizon_1, quantile_0.25\n",
      "Finished horizon_1, quantile_0.5\n",
      "WARNING:tensorflow:5 out of the last 12 calls to <function Model.make_predict_function.<locals>.predict_function at 0x0000025A8DD76D30> triggered tf.function retracing. Tracing is expensive and the excessive number of tracings could be due to (1) creating @tf.function repeatedly in a loop, (2) passing tensors with different shapes, (3) passing Python objects instead of tensors. For (1), please define your @tf.function outside of the loop. For (2), @tf.function has experimental_relax_shapes=True option that relaxes argument shapes that can avoid unnecessary retracing. For (3), please refer to https://www.tensorflow.org/guide/function#controlling_retracing and https://www.tensorflow.org/api_docs/python/tf/function for  more details.\n",
      "Finished horizon_1, quantile_0.75\n",
      "WARNING:tensorflow:6 out of the last 13 calls to <function Model.make_predict_function.<locals>.predict_function at 0x0000025CE2157790> triggered tf.function retracing. Tracing is expensive and the excessive number of tracings could be due to (1) creating @tf.function repeatedly in a loop, (2) passing tensors with different shapes, (3) passing Python objects instead of tensors. For (1), please define your @tf.function outside of the loop. For (2), @tf.function has experimental_relax_shapes=True option that relaxes argument shapes that can avoid unnecessary retracing. For (3), please refer to https://www.tensorflow.org/guide/function#controlling_retracing and https://www.tensorflow.org/api_docs/python/tf/function for  more details.\n",
      "Finished horizon_1, quantile_0.975\n",
      "WARNING:tensorflow:7 out of the last 14 calls to <function Model.make_predict_function.<locals>.predict_function at 0x0000025A8DD763A0> triggered tf.function retracing. Tracing is expensive and the excessive number of tracings could be due to (1) creating @tf.function repeatedly in a loop, (2) passing tensors with different shapes, (3) passing Python objects instead of tensors. For (1), please define your @tf.function outside of the loop. For (2), @tf.function has experimental_relax_shapes=True option that relaxes argument shapes that can avoid unnecessary retracing. For (3), please refer to https://www.tensorflow.org/guide/function#controlling_retracing and https://www.tensorflow.org/api_docs/python/tf/function for  more details.\n",
      "Finished horizon_2, quantile_0.025\n",
      "WARNING:tensorflow:8 out of the last 15 calls to <function Model.make_predict_function.<locals>.predict_function at 0x0000025CE593FD30> triggered tf.function retracing. Tracing is expensive and the excessive number of tracings could be due to (1) creating @tf.function repeatedly in a loop, (2) passing tensors with different shapes, (3) passing Python objects instead of tensors. For (1), please define your @tf.function outside of the loop. For (2), @tf.function has experimental_relax_shapes=True option that relaxes argument shapes that can avoid unnecessary retracing. For (3), please refer to https://www.tensorflow.org/guide/function#controlling_retracing and https://www.tensorflow.org/api_docs/python/tf/function for  more details.\n",
      "Finished horizon_2, quantile_0.25\n",
      "WARNING:tensorflow:9 out of the last 16 calls to <function Model.make_predict_function.<locals>.predict_function at 0x0000025CD173B940> triggered tf.function retracing. Tracing is expensive and the excessive number of tracings could be due to (1) creating @tf.function repeatedly in a loop, (2) passing tensors with different shapes, (3) passing Python objects instead of tensors. For (1), please define your @tf.function outside of the loop. For (2), @tf.function has experimental_relax_shapes=True option that relaxes argument shapes that can avoid unnecessary retracing. For (3), please refer to https://www.tensorflow.org/guide/function#controlling_retracing and https://www.tensorflow.org/api_docs/python/tf/function for  more details.\n",
      "Finished horizon_2, quantile_0.5\n",
      "WARNING:tensorflow:10 out of the last 17 calls to <function Model.make_predict_function.<locals>.predict_function at 0x0000025CE4F5E5E0> triggered tf.function retracing. Tracing is expensive and the excessive number of tracings could be due to (1) creating @tf.function repeatedly in a loop, (2) passing tensors with different shapes, (3) passing Python objects instead of tensors. For (1), please define your @tf.function outside of the loop. For (2), @tf.function has experimental_relax_shapes=True option that relaxes argument shapes that can avoid unnecessary retracing. For (3), please refer to https://www.tensorflow.org/guide/function#controlling_retracing and https://www.tensorflow.org/api_docs/python/tf/function for  more details.\n",
      "Finished horizon_2, quantile_0.75\n",
      "WARNING:tensorflow:11 out of the last 18 calls to <function Model.make_predict_function.<locals>.predict_function at 0x0000025A8DD763A0> triggered tf.function retracing. Tracing is expensive and the excessive number of tracings could be due to (1) creating @tf.function repeatedly in a loop, (2) passing tensors with different shapes, (3) passing Python objects instead of tensors. For (1), please define your @tf.function outside of the loop. For (2), @tf.function has experimental_relax_shapes=True option that relaxes argument shapes that can avoid unnecessary retracing. For (3), please refer to https://www.tensorflow.org/guide/function#controlling_retracing and https://www.tensorflow.org/api_docs/python/tf/function for  more details.\n",
      "Finished horizon_2, quantile_0.975\n",
      "WARNING:tensorflow:11 out of the last 11 calls to <function Model.make_predict_function.<locals>.predict_function at 0x0000025CE593F040> triggered tf.function retracing. Tracing is expensive and the excessive number of tracings could be due to (1) creating @tf.function repeatedly in a loop, (2) passing tensors with different shapes, (3) passing Python objects instead of tensors. For (1), please define your @tf.function outside of the loop. For (2), @tf.function has experimental_relax_shapes=True option that relaxes argument shapes that can avoid unnecessary retracing. For (3), please refer to https://www.tensorflow.org/guide/function#controlling_retracing and https://www.tensorflow.org/api_docs/python/tf/function for  more details.\n",
      "Finished horizon_3, quantile_0.025\n",
      "WARNING:tensorflow:11 out of the last 11 calls to <function Model.make_predict_function.<locals>.predict_function at 0x0000025CE2160550> triggered tf.function retracing. Tracing is expensive and the excessive number of tracings could be due to (1) creating @tf.function repeatedly in a loop, (2) passing tensors with different shapes, (3) passing Python objects instead of tensors. For (1), please define your @tf.function outside of the loop. For (2), @tf.function has experimental_relax_shapes=True option that relaxes argument shapes that can avoid unnecessary retracing. For (3), please refer to https://www.tensorflow.org/guide/function#controlling_retracing and https://www.tensorflow.org/api_docs/python/tf/function for  more details.\n",
      "Finished horizon_3, quantile_0.25\n",
      "WARNING:tensorflow:11 out of the last 11 calls to <function Model.make_predict_function.<locals>.predict_function at 0x0000025C88F89040> triggered tf.function retracing. Tracing is expensive and the excessive number of tracings could be due to (1) creating @tf.function repeatedly in a loop, (2) passing tensors with different shapes, (3) passing Python objects instead of tensors. For (1), please define your @tf.function outside of the loop. For (2), @tf.function has experimental_relax_shapes=True option that relaxes argument shapes that can avoid unnecessary retracing. For (3), please refer to https://www.tensorflow.org/guide/function#controlling_retracing and https://www.tensorflow.org/api_docs/python/tf/function for  more details.\n",
      "Finished horizon_3, quantile_0.5\n",
      "WARNING:tensorflow:11 out of the last 11 calls to <function Model.make_predict_function.<locals>.predict_function at 0x0000025CE216A8B0> triggered tf.function retracing. Tracing is expensive and the excessive number of tracings could be due to (1) creating @tf.function repeatedly in a loop, (2) passing tensors with different shapes, (3) passing Python objects instead of tensors. For (1), please define your @tf.function outside of the loop. For (2), @tf.function has experimental_relax_shapes=True option that relaxes argument shapes that can avoid unnecessary retracing. For (3), please refer to https://www.tensorflow.org/guide/function#controlling_retracing and https://www.tensorflow.org/api_docs/python/tf/function for  more details.\n",
      "Finished horizon_3, quantile_0.75\n",
      "WARNING:tensorflow:11 out of the last 11 calls to <function Model.make_predict_function.<locals>.predict_function at 0x0000025CE2644EE0> triggered tf.function retracing. Tracing is expensive and the excessive number of tracings could be due to (1) creating @tf.function repeatedly in a loop, (2) passing tensors with different shapes, (3) passing Python objects instead of tensors. For (1), please define your @tf.function outside of the loop. For (2), @tf.function has experimental_relax_shapes=True option that relaxes argument shapes that can avoid unnecessary retracing. For (3), please refer to https://www.tensorflow.org/guide/function#controlling_retracing and https://www.tensorflow.org/api_docs/python/tf/function for  more details.\n",
      "Finished horizon_3, quantile_0.975\n",
      "WARNING:tensorflow:11 out of the last 11 calls to <function Model.make_predict_function.<locals>.predict_function at 0x0000025A9700FF70> triggered tf.function retracing. Tracing is expensive and the excessive number of tracings could be due to (1) creating @tf.function repeatedly in a loop, (2) passing tensors with different shapes, (3) passing Python objects instead of tensors. For (1), please define your @tf.function outside of the loop. For (2), @tf.function has experimental_relax_shapes=True option that relaxes argument shapes that can avoid unnecessary retracing. For (3), please refer to https://www.tensorflow.org/guide/function#controlling_retracing and https://www.tensorflow.org/api_docs/python/tf/function for  more details.\n",
      "Finished horizon_4, quantile_0.025\n",
      "WARNING:tensorflow:11 out of the last 11 calls to <function Model.make_predict_function.<locals>.predict_function at 0x0000025CE21604C0> triggered tf.function retracing. Tracing is expensive and the excessive number of tracings could be due to (1) creating @tf.function repeatedly in a loop, (2) passing tensors with different shapes, (3) passing Python objects instead of tensors. For (1), please define your @tf.function outside of the loop. For (2), @tf.function has experimental_relax_shapes=True option that relaxes argument shapes that can avoid unnecessary retracing. For (3), please refer to https://www.tensorflow.org/guide/function#controlling_retracing and https://www.tensorflow.org/api_docs/python/tf/function for  more details.\n",
      "Finished horizon_4, quantile_0.25\n",
      "WARNING:tensorflow:11 out of the last 11 calls to <function Model.make_predict_function.<locals>.predict_function at 0x0000025CE23F6700> triggered tf.function retracing. Tracing is expensive and the excessive number of tracings could be due to (1) creating @tf.function repeatedly in a loop, (2) passing tensors with different shapes, (3) passing Python objects instead of tensors. For (1), please define your @tf.function outside of the loop. For (2), @tf.function has experimental_relax_shapes=True option that relaxes argument shapes that can avoid unnecessary retracing. For (3), please refer to https://www.tensorflow.org/guide/function#controlling_retracing and https://www.tensorflow.org/api_docs/python/tf/function for  more details.\n",
      "Finished horizon_4, quantile_0.5\n",
      "WARNING:tensorflow:11 out of the last 11 calls to <function Model.make_predict_function.<locals>.predict_function at 0x0000025CD173B0D0> triggered tf.function retracing. Tracing is expensive and the excessive number of tracings could be due to (1) creating @tf.function repeatedly in a loop, (2) passing tensors with different shapes, (3) passing Python objects instead of tensors. For (1), please define your @tf.function outside of the loop. For (2), @tf.function has experimental_relax_shapes=True option that relaxes argument shapes that can avoid unnecessary retracing. For (3), please refer to https://www.tensorflow.org/guide/function#controlling_retracing and https://www.tensorflow.org/api_docs/python/tf/function for  more details.\n",
      "Finished horizon_4, quantile_0.75\n",
      "WARNING:tensorflow:11 out of the last 11 calls to <function Model.make_predict_function.<locals>.predict_function at 0x0000025CE265EAF0> triggered tf.function retracing. Tracing is expensive and the excessive number of tracings could be due to (1) creating @tf.function repeatedly in a loop, (2) passing tensors with different shapes, (3) passing Python objects instead of tensors. For (1), please define your @tf.function outside of the loop. For (2), @tf.function has experimental_relax_shapes=True option that relaxes argument shapes that can avoid unnecessary retracing. For (3), please refer to https://www.tensorflow.org/guide/function#controlling_retracing and https://www.tensorflow.org/api_docs/python/tf/function for  more details.\n",
      "Finished horizon_4, quantile_0.975\n",
      "WARNING:tensorflow:11 out of the last 11 calls to <function Model.make_predict_function.<locals>.predict_function at 0x0000025C728308B0> triggered tf.function retracing. Tracing is expensive and the excessive number of tracings could be due to (1) creating @tf.function repeatedly in a loop, (2) passing tensors with different shapes, (3) passing Python objects instead of tensors. For (1), please define your @tf.function outside of the loop. For (2), @tf.function has experimental_relax_shapes=True option that relaxes argument shapes that can avoid unnecessary retracing. For (3), please refer to https://www.tensorflow.org/guide/function#controlling_retracing and https://www.tensorflow.org/api_docs/python/tf/function for  more details.\n",
      "Finished horizon_5, quantile_0.025\n",
      "WARNING:tensorflow:11 out of the last 11 calls to <function Model.make_predict_function.<locals>.predict_function at 0x0000025A87DEE8B0> triggered tf.function retracing. Tracing is expensive and the excessive number of tracings could be due to (1) creating @tf.function repeatedly in a loop, (2) passing tensors with different shapes, (3) passing Python objects instead of tensors. For (1), please define your @tf.function outside of the loop. For (2), @tf.function has experimental_relax_shapes=True option that relaxes argument shapes that can avoid unnecessary retracing. For (3), please refer to https://www.tensorflow.org/guide/function#controlling_retracing and https://www.tensorflow.org/api_docs/python/tf/function for  more details.\n",
      "Finished horizon_5, quantile_0.25\n",
      "WARNING:tensorflow:11 out of the last 11 calls to <function Model.make_predict_function.<locals>.predict_function at 0x0000025CE265EB80> triggered tf.function retracing. Tracing is expensive and the excessive number of tracings could be due to (1) creating @tf.function repeatedly in a loop, (2) passing tensors with different shapes, (3) passing Python objects instead of tensors. For (1), please define your @tf.function outside of the loop. For (2), @tf.function has experimental_relax_shapes=True option that relaxes argument shapes that can avoid unnecessary retracing. For (3), please refer to https://www.tensorflow.org/guide/function#controlling_retracing and https://www.tensorflow.org/api_docs/python/tf/function for  more details.\n",
      "Finished horizon_5, quantile_0.5\n",
      "WARNING:tensorflow:11 out of the last 11 calls to <function Model.make_predict_function.<locals>.predict_function at 0x0000025CE593FE50> triggered tf.function retracing. Tracing is expensive and the excessive number of tracings could be due to (1) creating @tf.function repeatedly in a loop, (2) passing tensors with different shapes, (3) passing Python objects instead of tensors. For (1), please define your @tf.function outside of the loop. For (2), @tf.function has experimental_relax_shapes=True option that relaxes argument shapes that can avoid unnecessary retracing. For (3), please refer to https://www.tensorflow.org/guide/function#controlling_retracing and https://www.tensorflow.org/api_docs/python/tf/function for  more details.\n",
      "Finished horizon_5, quantile_0.75\n",
      "WARNING:tensorflow:11 out of the last 11 calls to <function Model.make_predict_function.<locals>.predict_function at 0x0000025CE21ACC10> triggered tf.function retracing. Tracing is expensive and the excessive number of tracings could be due to (1) creating @tf.function repeatedly in a loop, (2) passing tensors with different shapes, (3) passing Python objects instead of tensors. For (1), please define your @tf.function outside of the loop. For (2), @tf.function has experimental_relax_shapes=True option that relaxes argument shapes that can avoid unnecessary retracing. For (3), please refer to https://www.tensorflow.org/guide/function#controlling_retracing and https://www.tensorflow.org/api_docs/python/tf/function for  more details.\n",
      "Finished horizon_5, quantile_0.975\n"
     ]
    }
   ],
   "source": [
    "new_pred = train_and_predict(train_data.append(val_data), test_data, pred_data)"
   ]
  },
  {
   "cell_type": "markdown",
   "id": "af6968e3-db48-4b66-b6e0-672102bbf0b1",
   "metadata": {},
   "source": [
    "### Renormalize data"
   ]
  },
  {
   "cell_type": "code",
   "execution_count": 195,
   "id": "efa7fd75-f450-4778-9d2d-98ebcaafcd6e",
   "metadata": {},
   "outputs": [],
   "source": [
    "#Extract last prediction\n",
    "future_pred = new_pred[0,-1].copy()\n",
    "\n",
    "for i in range(5):\n",
    "    future_pred[i,:] = future_pred[i,:]*train_sd[i+1] + train_mean[i+1]"
   ]
  },
  {
   "cell_type": "code",
   "execution_count": 196,
   "id": "d325feb0-caab-4a1a-8acd-4efcbe6def5b",
   "metadata": {},
   "outputs": [
    {
     "data": {
      "text/plain": [
       "array([[-3.20932713, -0.5782442 ,  0.07773428,  0.63435541,  1.56714411],\n",
       "       [-2.5495346 , -0.62758163,  0.12078847,  1.05321262,  2.20748386],\n",
       "       [-5.51964295, -0.76616219,  0.19437682,  1.22309619,  2.20346771],\n",
       "       [-4.95229989, -0.86920213,  0.24129401,  1.41310723,  3.01384966],\n",
       "       [-7.46181938, -0.55082911,  0.36822243,  1.39882878,  4.0584619 ]])"
      ]
     },
     "execution_count": 196,
     "metadata": {},
     "output_type": "execute_result"
    }
   ],
   "source": [
    "future_pred"
   ]
  },
  {
   "cell_type": "code",
   "execution_count": 197,
   "id": "866b2486-be0c-496a-857c-20881ed1b403",
   "metadata": {},
   "outputs": [],
   "source": [
    "df_horizons = [1,2,5,6,7]\n",
    "final_prediction = pd.DataFrame(columns = [\"forecast_date\",\"target\",\"horizon\",\"q0.025\",\"q0.25\",\"q0.5\",\"q0.75\",\"q0.975\"])\n",
    "final_prediction[\"forecast_date\"] = [(current_day).strftime(\"%Y-%m-%d\") for x in df_horizons]\n",
    "final_prediction[\"horizon\"] = [\"{} day\".format(x) for x in df_horizons]\n",
    "final_prediction[\"target\"] = \"DAX\"\n",
    "\n",
    "for cnt, quantile in enumerate(quantiles):\n",
    "    final_prediction[\"q{}\".format(quantile)] = future_pred[:,cnt]"
   ]
  },
  {
   "cell_type": "code",
   "execution_count": 198,
   "id": "66c00a68-461d-4091-b3ed-10ee6f8369c7",
   "metadata": {},
   "outputs": [
    {
     "data": {
      "text/html": [
       "<div>\n",
       "<style scoped>\n",
       "    .dataframe tbody tr th:only-of-type {\n",
       "        vertical-align: middle;\n",
       "    }\n",
       "\n",
       "    .dataframe tbody tr th {\n",
       "        vertical-align: top;\n",
       "    }\n",
       "\n",
       "    .dataframe thead th {\n",
       "        text-align: right;\n",
       "    }\n",
       "</style>\n",
       "<table border=\"1\" class=\"dataframe\">\n",
       "  <thead>\n",
       "    <tr style=\"text-align: right;\">\n",
       "      <th></th>\n",
       "      <th>forecast_date</th>\n",
       "      <th>target</th>\n",
       "      <th>horizon</th>\n",
       "      <th>q0.025</th>\n",
       "      <th>q0.25</th>\n",
       "      <th>q0.5</th>\n",
       "      <th>q0.75</th>\n",
       "      <th>q0.975</th>\n",
       "    </tr>\n",
       "  </thead>\n",
       "  <tbody>\n",
       "    <tr>\n",
       "      <th>0</th>\n",
       "      <td>2021-11-03</td>\n",
       "      <td>DAX</td>\n",
       "      <td>1 day</td>\n",
       "      <td>-3.209327</td>\n",
       "      <td>-0.578244</td>\n",
       "      <td>0.077734</td>\n",
       "      <td>0.634355</td>\n",
       "      <td>1.567144</td>\n",
       "    </tr>\n",
       "    <tr>\n",
       "      <th>1</th>\n",
       "      <td>2021-11-03</td>\n",
       "      <td>DAX</td>\n",
       "      <td>2 day</td>\n",
       "      <td>-2.549535</td>\n",
       "      <td>-0.627582</td>\n",
       "      <td>0.120788</td>\n",
       "      <td>1.053213</td>\n",
       "      <td>2.207484</td>\n",
       "    </tr>\n",
       "    <tr>\n",
       "      <th>2</th>\n",
       "      <td>2021-11-03</td>\n",
       "      <td>DAX</td>\n",
       "      <td>5 day</td>\n",
       "      <td>-5.519643</td>\n",
       "      <td>-0.766162</td>\n",
       "      <td>0.194377</td>\n",
       "      <td>1.223096</td>\n",
       "      <td>2.203468</td>\n",
       "    </tr>\n",
       "    <tr>\n",
       "      <th>3</th>\n",
       "      <td>2021-11-03</td>\n",
       "      <td>DAX</td>\n",
       "      <td>6 day</td>\n",
       "      <td>-4.952300</td>\n",
       "      <td>-0.869202</td>\n",
       "      <td>0.241294</td>\n",
       "      <td>1.413107</td>\n",
       "      <td>3.013850</td>\n",
       "    </tr>\n",
       "    <tr>\n",
       "      <th>4</th>\n",
       "      <td>2021-11-03</td>\n",
       "      <td>DAX</td>\n",
       "      <td>7 day</td>\n",
       "      <td>-7.461819</td>\n",
       "      <td>-0.550829</td>\n",
       "      <td>0.368222</td>\n",
       "      <td>1.398829</td>\n",
       "      <td>4.058462</td>\n",
       "    </tr>\n",
       "  </tbody>\n",
       "</table>\n",
       "</div>"
      ],
      "text/plain": [
       "  forecast_date target horizon    q0.025     q0.25      q0.5     q0.75  \\\n",
       "0    2021-11-03    DAX   1 day -3.209327 -0.578244  0.077734  0.634355   \n",
       "1    2021-11-03    DAX   2 day -2.549535 -0.627582  0.120788  1.053213   \n",
       "2    2021-11-03    DAX   5 day -5.519643 -0.766162  0.194377  1.223096   \n",
       "3    2021-11-03    DAX   6 day -4.952300 -0.869202  0.241294  1.413107   \n",
       "4    2021-11-03    DAX   7 day -7.461819 -0.550829  0.368222  1.398829   \n",
       "\n",
       "     q0.975  \n",
       "0  1.567144  \n",
       "1  2.207484  \n",
       "2  2.203468  \n",
       "3  3.013850  \n",
       "4  4.058462  "
      ]
     },
     "execution_count": 198,
     "metadata": {},
     "output_type": "execute_result"
    }
   ],
   "source": [
    "final_prediction"
   ]
  },
  {
   "cell_type": "markdown",
   "id": "ca3cce8f-ca95-4020-bfca-607e106acdb1",
   "metadata": {},
   "source": [
    "## Save final prediction"
   ]
  },
  {
   "cell_type": "code",
   "execution_count": 199,
   "id": "e668b977-a6ca-4a75-84ab-65e20dc17ea4",
   "metadata": {},
   "outputs": [],
   "source": [
    "current_date = date.today().strftime(\"%Y-%m-%d\")\n",
    "final_prediction.to_pickle(\"../evaluation/predictions/single/DAX_{}\".format(current_date))"
   ]
  },
  {
   "cell_type": "code",
   "execution_count": null,
   "id": "6af0347f-1716-4885-8823-7e95680b5629",
   "metadata": {},
   "outputs": [],
   "source": []
  }
 ],
 "metadata": {
  "kernelspec": {
   "display_name": "Python 3 (ipykernel)",
   "language": "python",
   "name": "python3"
  },
  "language_info": {
   "codemirror_mode": {
    "name": "ipython",
    "version": 3
   },
   "file_extension": ".py",
   "mimetype": "text/x-python",
   "name": "python",
   "nbconvert_exporter": "python",
   "pygments_lexer": "ipython3",
   "version": "3.8.8"
  },
  "toc-autonumbering": true
 },
 "nbformat": 4,
 "nbformat_minor": 5
}
