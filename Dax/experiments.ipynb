{
 "cells": [
  {
   "cell_type": "code",
   "execution_count": 1,
   "id": "b11b35a7-c260-49af-96e8-2c198e836ae2",
   "metadata": {},
   "outputs": [],
   "source": [
    "import pandas as pd\n",
    "import numpy as np\n",
    "import yfinance as yf\n",
    "from datetime import date, timedelta, datetime\n",
    "import seaborn as sns\n",
    "from sklearn.model_selection import train_test_split\n",
    "from sklearn.metrics import mean_pinball_loss\n",
    "from sklearn.linear_model import QuantileRegressor\n",
    "from matplotlib import pyplot as plt\n",
    "from numpy.lib.stride_tricks import sliding_window_view\n",
    "from tensorflow.keras.layers import *\n",
    "from tensorflow.keras.models import Model\n",
    "from tensorflow.keras import backend as K\n",
    "import tensorflow as tf\n",
    "import tensorflow_addons as tfa\n",
    "from tensorflow_addons.losses import pinball_loss\n",
    "from sklearn.metrics import mean_pinball_loss"
   ]
  },
  {
   "cell_type": "code",
   "execution_count": 2,
   "id": "89e94ddf-d369-4193-8974-b237a37260dc",
   "metadata": {},
   "outputs": [],
   "source": [
    "quantiles = [0.025, 0.25, 0.5, 0.75, 0.975]\n",
    "horizons = [1,2,3,4,5]"
   ]
  },
  {
   "cell_type": "markdown",
   "id": "ca1081c7-625d-4061-bea0-b97354708db9",
   "metadata": {
    "tags": []
   },
   "source": [
    "# Get data"
   ]
  },
  {
   "cell_type": "code",
   "execution_count": 3,
   "id": "00e1545f-73e1-487a-9779-7d58239ffe71",
   "metadata": {},
   "outputs": [
    {
     "name": "stdout",
     "output_type": "stream",
     "text": [
      "[*********************100%***********************]  1 of 1 completed\n"
     ]
    }
   ],
   "source": [
    "current_day = datetime.today()\n",
    "data = yf.download(\"^GDAXI\", start=\"2000-01-01\", end=current_day)[\"Adj Close\"]"
   ]
  },
  {
   "cell_type": "markdown",
   "id": "6c0dc4a3-53f8-42f3-ac73-8d72ed142f65",
   "metadata": {
    "tags": []
   },
   "source": [
    "# Wavenet modeling"
   ]
  },
  {
   "cell_type": "markdown",
   "id": "c25079ee-3f4c-45e2-a8fa-5e3b7082ea50",
   "metadata": {},
   "source": [
    "## Data preparation\n",
    "\n",
    "Add all five horizons as a predictor"
   ]
  },
  {
   "cell_type": "code",
   "execution_count": 4,
   "id": "10d288a1-4b29-4183-bf20-d2c3a6b8ca7d",
   "metadata": {},
   "outputs": [],
   "source": [
    "data_prep = pd.DataFrame(data)\n",
    "data_prep[\"log_return\"] = 100 * (np.log(data_prep) - np.log(data_prep.shift(1)))\n",
    "for horizon in range(1,6):\n",
    "    data_prep[horizon] = 100 * (np.log(data_prep[\"Adj Close\"]) - np.log(data_prep[\"Adj Close\"].shift(horizon)))\n",
    "    data_prep[horizon] = data_prep[horizon].shift(-horizon)\n",
    "\n",
    "#Drop CLose\n",
    "data_prep.drop(\"Adj Close\", axis = 1, inplace = True)"
   ]
  },
  {
   "cell_type": "markdown",
   "id": "6c20dc3c-e59e-4636-92b7-a2c00664b267",
   "metadata": {},
   "source": [
    "### Create test, val, train and prediction data\n",
    "\n",
    "Total length of data is 5530:\n",
    "- Will take a year - 360 as a test set\n",
    "- Whole year as validation set\n",
    "- Rest as training set"
   ]
  },
  {
   "cell_type": "code",
   "execution_count": 5,
   "id": "3635ab4a-f608-475c-8987-20f2de4c51d7",
   "metadata": {},
   "outputs": [],
   "source": [
    "window_size = 128\n",
    "max_horizon = 5\n",
    "test_size = 360\n",
    "val_size = 360\n",
    "\n",
    "pred_data = data_prep[-128:]\n",
    "\n",
    "#Drop Nans\n",
    "data_prep.dropna(inplace = True)\n",
    "\n",
    "test_data = data_prep[-test_size:]\n",
    "val_data = data_prep[-val_size-test_size:-test_size]\n",
    "train_data = data_prep[:-val_size-test_size]"
   ]
  },
  {
   "cell_type": "markdown",
   "id": "185cf53f-8af2-41ae-b349-f293e13bdd19",
   "metadata": {},
   "source": [
    "### Normalize data"
   ]
  },
  {
   "cell_type": "code",
   "execution_count": 6,
   "id": "a109f2c6-a34e-435b-bce4-a74457d0a29d",
   "metadata": {},
   "outputs": [],
   "source": [
    "train_mean = train_data.mean()\n",
    "train_sd = train_data.std()"
   ]
  },
  {
   "cell_type": "code",
   "execution_count": 7,
   "id": "5661342d-35ab-4870-b3a1-51975630f1e9",
   "metadata": {},
   "outputs": [],
   "source": [
    "def normalize(data, mean = train_mean, sd = train_sd):\n",
    "    return (data-mean)/sd"
   ]
  },
  {
   "cell_type": "code",
   "execution_count": 8,
   "id": "fd0db3ca-c4e4-4261-841f-3f8dfe210649",
   "metadata": {},
   "outputs": [],
   "source": [
    "train_data = normalize(train_data)\n",
    "val_data = normalize(val_data)\n",
    "test_data = normalize(test_data)\n",
    "pred_data = normalize(pred_data)"
   ]
  },
  {
   "cell_type": "markdown",
   "id": "9075c3bf-53d4-44b4-9848-86e5f1264d40",
   "metadata": {
    "tags": []
   },
   "source": [
    "### Apply rolling window and get predictor"
   ]
  },
  {
   "cell_type": "code",
   "execution_count": 9,
   "id": "77954e5b-ccc4-440c-bf2e-3babe0cd87fc",
   "metadata": {},
   "outputs": [],
   "source": [
    "def convert_data(data, window_size = window_size):\n",
    "    new_data = np.zeros(shape = (5, len(data),3))\n",
    "    for h in horizons:\n",
    "        new_data[h-1,:,0:2] = np.array(data.loc[:,[\"log_return\", h]])\n",
    "        new_data[h-1,:,2] = h-1\n",
    "    window = sliding_window_view(new_data,window_size, axis = 1)\n",
    "    window = np.swapaxes(window, 2,3)\n",
    "    window = window.reshape(-1, window.shape[2], window.shape[3])\n",
    "    features = window[:,:,0:1]\n",
    "    embedding = window[:,:,2:3]\n",
    "    X = [features, embedding]\n",
    "    Y = window[:,:,1:2]\n",
    "    return X,Y"
   ]
  },
  {
   "cell_type": "code",
   "execution_count": 10,
   "id": "a9161ec8-6663-48a7-951a-03040ef38665",
   "metadata": {},
   "outputs": [],
   "source": [
    "x_train, y_train = convert_data(train_data)\n",
    "x_val, y_val = convert_data(val_data)\n",
    "x_test, y_test = convert_data(test_data)"
   ]
  },
  {
   "cell_type": "markdown",
   "id": "e964032b-8bd3-42db-a7ee-75f293baa69b",
   "metadata": {},
   "source": [
    "## Build model"
   ]
  },
  {
   "cell_type": "code",
   "execution_count": 11,
   "id": "93b498a0-490e-45ae-97c3-3a7c0e2627b5",
   "metadata": {},
   "outputs": [],
   "source": [
    "def model(dropout_rate = 0.1, window_size = window_size):\n",
    "    \"\"\"\n",
    "    trainX -- input values; shape: [number of samples, NUM_UNROLLINGS, 1]\n",
    "    trainY -- output values (inputs shifted by 1); shape: [number of samples, NUM_UNROLLINGS, 1]\n",
    "    \"\"\"\n",
    "    #Define parameters\n",
    "    filters = 8\n",
    "    kernel_size = 2\n",
    "    dilation_rates = [2**i for i in range(7)]\n",
    "    \n",
    "    #Define Inputs\n",
    "    input_features = Input(shape=(window_size, 1))\n",
    "    input_embedding = Input(shape=(window_size))\n",
    "    #Extract embedding\n",
    "    emb = Embedding(input_dim = 5, output_dim = 2)(input_embedding)\n",
    "    x = tf.concat([input_features, emb], axis = 2)\n",
    "    \n",
    "    #Base layers\n",
    "    for dilation in dilation_rates:\n",
    "        #Preprocessing layer\n",
    "        x = Conv1D(8, 1, padding='same', activation='relu')(x) \n",
    "        #Dilated convolution\n",
    "        z = Conv1D(filters, kernel_size, activation=\"relu\", padding=\"causal\", dilation_rate=dilation)(x)\n",
    "        #Residual connection\n",
    "        x = Add()([x,z])\n",
    "    \n",
    "\n",
    "    #Fully Connected Layer\n",
    "    out = Conv1D(32, 1, padding = \"same\")(x)\n",
    "    out = Dropout(dropout_rate)(out)\n",
    "    out = Conv1D(1, 1, activation=\"linear\")(out)\n",
    "    #Extract only last output as prediction\n",
    "    def output_slice(x):\n",
    "        return x[:,-1,:]\n",
    "    #out = Lambda(output_slice)(out)\n",
    "    cnn = Model([input_features, input_embedding], out)\n",
    "    return cnn"
   ]
  },
  {
   "cell_type": "code",
   "execution_count": 12,
   "id": "2387277c-695d-4d08-aca6-0da2a8c6ab52",
   "metadata": {},
   "outputs": [
    {
     "name": "stdout",
     "output_type": "stream",
     "text": [
      "Model: \"model\"\n",
      "__________________________________________________________________________________________________\n",
      "Layer (type)                    Output Shape         Param #     Connected to                     \n",
      "==================================================================================================\n",
      "input_2 (InputLayer)            [(None, 128)]        0                                            \n",
      "__________________________________________________________________________________________________\n",
      "input_1 (InputLayer)            [(None, 128, 1)]     0                                            \n",
      "__________________________________________________________________________________________________\n",
      "embedding (Embedding)           (None, 128, 2)       10          input_2[0][0]                    \n",
      "__________________________________________________________________________________________________\n",
      "tf.concat (TFOpLambda)          (None, 128, 3)       0           input_1[0][0]                    \n",
      "                                                                 embedding[0][0]                  \n",
      "__________________________________________________________________________________________________\n",
      "conv1d (Conv1D)                 (None, 128, 8)       32          tf.concat[0][0]                  \n",
      "__________________________________________________________________________________________________\n",
      "conv1d_1 (Conv1D)               (None, 128, 8)       136         conv1d[0][0]                     \n",
      "__________________________________________________________________________________________________\n",
      "add (Add)                       (None, 128, 8)       0           conv1d[0][0]                     \n",
      "                                                                 conv1d_1[0][0]                   \n",
      "__________________________________________________________________________________________________\n",
      "conv1d_2 (Conv1D)               (None, 128, 8)       72          add[0][0]                        \n",
      "__________________________________________________________________________________________________\n",
      "conv1d_3 (Conv1D)               (None, 128, 8)       136         conv1d_2[0][0]                   \n",
      "__________________________________________________________________________________________________\n",
      "add_1 (Add)                     (None, 128, 8)       0           conv1d_2[0][0]                   \n",
      "                                                                 conv1d_3[0][0]                   \n",
      "__________________________________________________________________________________________________\n",
      "conv1d_4 (Conv1D)               (None, 128, 8)       72          add_1[0][0]                      \n",
      "__________________________________________________________________________________________________\n",
      "conv1d_5 (Conv1D)               (None, 128, 8)       136         conv1d_4[0][0]                   \n",
      "__________________________________________________________________________________________________\n",
      "add_2 (Add)                     (None, 128, 8)       0           conv1d_4[0][0]                   \n",
      "                                                                 conv1d_5[0][0]                   \n",
      "__________________________________________________________________________________________________\n",
      "conv1d_6 (Conv1D)               (None, 128, 8)       72          add_2[0][0]                      \n",
      "__________________________________________________________________________________________________\n",
      "conv1d_7 (Conv1D)               (None, 128, 8)       136         conv1d_6[0][0]                   \n",
      "__________________________________________________________________________________________________\n",
      "add_3 (Add)                     (None, 128, 8)       0           conv1d_6[0][0]                   \n",
      "                                                                 conv1d_7[0][0]                   \n",
      "__________________________________________________________________________________________________\n",
      "conv1d_8 (Conv1D)               (None, 128, 8)       72          add_3[0][0]                      \n",
      "__________________________________________________________________________________________________\n",
      "conv1d_9 (Conv1D)               (None, 128, 8)       136         conv1d_8[0][0]                   \n",
      "__________________________________________________________________________________________________\n",
      "add_4 (Add)                     (None, 128, 8)       0           conv1d_8[0][0]                   \n",
      "                                                                 conv1d_9[0][0]                   \n",
      "__________________________________________________________________________________________________\n",
      "conv1d_10 (Conv1D)              (None, 128, 8)       72          add_4[0][0]                      \n",
      "__________________________________________________________________________________________________\n",
      "conv1d_11 (Conv1D)              (None, 128, 8)       136         conv1d_10[0][0]                  \n",
      "__________________________________________________________________________________________________\n",
      "add_5 (Add)                     (None, 128, 8)       0           conv1d_10[0][0]                  \n",
      "                                                                 conv1d_11[0][0]                  \n",
      "__________________________________________________________________________________________________\n",
      "conv1d_12 (Conv1D)              (None, 128, 8)       72          add_5[0][0]                      \n",
      "__________________________________________________________________________________________________\n",
      "conv1d_13 (Conv1D)              (None, 128, 8)       136         conv1d_12[0][0]                  \n",
      "__________________________________________________________________________________________________\n",
      "add_6 (Add)                     (None, 128, 8)       0           conv1d_12[0][0]                  \n",
      "                                                                 conv1d_13[0][0]                  \n",
      "__________________________________________________________________________________________________\n",
      "conv1d_14 (Conv1D)              (None, 128, 32)      288         add_6[0][0]                      \n",
      "__________________________________________________________________________________________________\n",
      "dropout (Dropout)               (None, 128, 32)      0           conv1d_14[0][0]                  \n",
      "__________________________________________________________________________________________________\n",
      "conv1d_15 (Conv1D)              (None, 128, 1)       33          dropout[0][0]                    \n",
      "==================================================================================================\n",
      "Total params: 1,747\n",
      "Trainable params: 1,747\n",
      "Non-trainable params: 0\n",
      "__________________________________________________________________________________________________\n"
     ]
    }
   ],
   "source": [
    "cnn = model()\n",
    "cnn.summary()"
   ]
  },
  {
   "cell_type": "code",
   "execution_count": 13,
   "id": "24b7116c-ddb3-4857-b905-2be241831c00",
   "metadata": {},
   "outputs": [],
   "source": [
    "BATCH_SIZE = 256\n",
    "EPOCHS = 100\n",
    "learning_rate = 0.01\n",
    "optimizer = tf.keras.optimizers.Adadelta(learning_rate = learning_rate)\n",
    "\n",
    "#Early stopping\n",
    "callback = tf.keras.callbacks.EarlyStopping(monitor='val_loss', patience=5, min_delta = 1e-5)"
   ]
  },
  {
   "cell_type": "code",
   "execution_count": 14,
   "id": "02baa571-d03f-4f83-bd4e-917fde78bfbf",
   "metadata": {},
   "outputs": [],
   "source": [
    "def train_model(model, optimizer, x_train, y_train, x_val, y_val, quantile, BATCH_SIZE = BATCH_SIZE, EPOCHS = EPOCHS, callback = callback, verbose = False):\n",
    "    model.compile(optimizer = optimizer,  loss = lambda true,pred: pinball_loss(true, pred, tau = quantile))\n",
    "    history = model.fit(x_train, y_train, validation_data = (x_val, y_val), epochs = EPOCHS, batch_size = BATCH_SIZE, shuffle=True,\n",
    "        callbacks = [callback], verbose = verbose)\n",
    "    return model"
   ]
  },
  {
   "cell_type": "code",
   "execution_count": 15,
   "id": "03faabc2-6c1b-4ce5-8431-3a02067688f7",
   "metadata": {},
   "outputs": [],
   "source": [
    "def train_all_models(x_train, y_train, x_val, y_val, quantiles = quantiles, optimizer = optimizer, batch_size = BATCH_SIZE, epochs = EPOCHS, callback = callback):\n",
    "    models = dict()\n",
    "    for quantile in quantiles:\n",
    "        cnn = model()\n",
    "        cnn = train_model(cnn, optimizer, x_train, y_train, x_val, y_val, quantile)\n",
    "        print(\"Training finished for quantile {}\".format(quantile))\n",
    "        models[quantile] = cnn\n",
    "    return models"
   ]
  },
  {
   "cell_type": "code",
   "execution_count": 16,
   "id": "bc6f9ff1-cc8b-4a9a-aef9-dde8f3c1b2fe",
   "metadata": {},
   "outputs": [
    {
     "name": "stdout",
     "output_type": "stream",
     "text": [
      "Training finished for quantile 0.025\n",
      "Training finished for quantile 0.25\n",
      "Training finished for quantile 0.5\n",
      "Training finished for quantile 0.75\n",
      "Training finished for quantile 0.975\n"
     ]
    }
   ],
   "source": [
    "models = train_all_models(x_train, y_train, x_val, y_val)"
   ]
  },
  {
   "cell_type": "markdown",
   "id": "8c79dbd9-3841-4b02-b5db-2398bc883355",
   "metadata": {},
   "source": [
    "## Predict test data"
   ]
  },
  {
   "cell_type": "markdown",
   "id": "e525df45-b647-4f81-b520-f362e1e66fc0",
   "metadata": {},
   "source": [
    "### Evaluate Loss"
   ]
  },
  {
   "cell_type": "code",
   "execution_count": 17,
   "id": "e40edfc6-2076-405b-90e1-844bb20d37ca",
   "metadata": {},
   "outputs": [
    {
     "name": "stdout",
     "output_type": "stream",
     "text": [
      "Pinball Loss for quantile 0.025: \t 0.0503935403370947\n",
      "Pinball Loss for quantile 0.25: \t 0.2075681811715162\n",
      "Pinball Loss for quantile 0.5: \t 0.2308423626230055\n",
      "Pinball Loss for quantile 0.75: \t 0.19171657544535486\n",
      "Pinball Loss for quantile 0.975: \t 0.036486824936741595\n"
     ]
    }
   ],
   "source": [
    "true_values = np.squeeze(y_test)\n",
    "for quantile in quantiles:\n",
    "    pred = np.squeeze(models[quantile].predict(x_test))\n",
    "    loss = mean_pinball_loss(true_values, pred, alpha = quantile)\n",
    "    print(\"Pinball Loss for quantile {}: \\t {}\".format(quantile, loss))"
   ]
  },
  {
   "cell_type": "markdown",
   "id": "94b0e4bd-8aa0-49de-8a3d-76de6f4ed732",
   "metadata": {},
   "source": [
    "### Test plausability"
   ]
  },
  {
   "cell_type": "code",
   "execution_count": 18,
   "id": "ec055879-b40c-4540-b3c4-f23d63f3162a",
   "metadata": {},
   "outputs": [
    {
     "name": "stdout",
     "output_type": "stream",
     "text": [
      "Quantile met for quantile = 0.025: \t 1.79 %\n",
      "Quantile met for quantile = 0.25: \t 16.36 %\n",
      "Quantile met for quantile = 0.5: \t 49.54 %\n",
      "Quantile met for quantile = 0.75: \t 79.28 %\n",
      "Quantile met for quantile = 0.975: \t 98.11999999999999 %\n"
     ]
    }
   ],
   "source": [
    "true_values = np.squeeze(y_test)\n",
    "for quantile in quantiles:\n",
    "    pred = np.squeeze(models[quantile].predict(x_test))\n",
    "    q_smaller = (pred >= true_values).sum()\n",
    "    emp_quant = q_smaller / true_values.size\n",
    "    print(\"Quantile met for quantile = {}: \\t {} %\".format(quantile, np.round(emp_quant,4)*100))"
   ]
  },
  {
   "cell_type": "markdown",
   "id": "fe5c36b7-31ee-4129-86ca-5099e8f0adb0",
   "metadata": {},
   "source": [
    "## Predict new data"
   ]
  },
  {
   "cell_type": "code",
   "execution_count": 19,
   "id": "87ffb28c-582b-44fa-93da-7c94bc0a7dce",
   "metadata": {},
   "outputs": [],
   "source": [
    "x_train, y_train = convert_data(train_data.append(val_data))\n",
    "x_pred, y_pred = convert_data(pred_data)"
   ]
  },
  {
   "cell_type": "code",
   "execution_count": 20,
   "id": "ce6c6cf2-314a-447d-8174-87455fbe40d6",
   "metadata": {},
   "outputs": [
    {
     "name": "stdout",
     "output_type": "stream",
     "text": [
      "Training finished for quantile 0.025\n",
      "Training finished for quantile 0.25\n",
      "Training finished for quantile 0.5\n",
      "Training finished for quantile 0.75\n",
      "Training finished for quantile 0.975\n"
     ]
    }
   ],
   "source": [
    "models = train_all_models(x_train, y_train, x_test, y_test)"
   ]
  },
  {
   "cell_type": "code",
   "execution_count": 21,
   "id": "d5239c95-13b3-42e9-ab89-1e0ca5f45738",
   "metadata": {},
   "outputs": [
    {
     "name": "stdout",
     "output_type": "stream",
     "text": [
      "WARNING:tensorflow:5 out of the last 226 calls to <function Model.make_predict_function.<locals>.predict_function at 0x000001D58D462160> triggered tf.function retracing. Tracing is expensive and the excessive number of tracings could be due to (1) creating @tf.function repeatedly in a loop, (2) passing tensors with different shapes, (3) passing Python objects instead of tensors. For (1), please define your @tf.function outside of the loop. For (2), @tf.function has experimental_relax_shapes=True option that relaxes argument shapes that can avoid unnecessary retracing. For (3), please refer to https://www.tensorflow.org/guide/function#controlling_retracing and https://www.tensorflow.org/api_docs/python/tf/function for  more details.\n",
      "WARNING:tensorflow:6 out of the last 227 calls to <function Model.make_predict_function.<locals>.predict_function at 0x000001D58D6B2040> triggered tf.function retracing. Tracing is expensive and the excessive number of tracings could be due to (1) creating @tf.function repeatedly in a loop, (2) passing tensors with different shapes, (3) passing Python objects instead of tensors. For (1), please define your @tf.function outside of the loop. For (2), @tf.function has experimental_relax_shapes=True option that relaxes argument shapes that can avoid unnecessary retracing. For (3), please refer to https://www.tensorflow.org/guide/function#controlling_retracing and https://www.tensorflow.org/api_docs/python/tf/function for  more details.\n"
     ]
    }
   ],
   "source": [
    "future_pred = np.zeros(shape = (5,5))\n",
    "for cnt,quantile in enumerate(quantiles):\n",
    "    new_pred = models[quantile].predict(x_pred)\n",
    "    for horizon in horizons:\n",
    "        future_pred[cnt,horizon-1] = new_pred[horizon-1,0]\n",
    "#Renormalize\n",
    "for h in range(5):\n",
    "    future_pred[:,h] = future_pred[:,h]*train_sd[h+1] + train_mean[h+1]"
   ]
  },
  {
   "cell_type": "code",
   "execution_count": 22,
   "id": "866b2486-be0c-496a-857c-20881ed1b403",
   "metadata": {},
   "outputs": [],
   "source": [
    "df_horizons = [1,2,5,6,7]\n",
    "final_prediction = pd.DataFrame(columns = [\"forecast_date\",\"target\",\"horizon\",\"q0.025\",\"q0.25\",\"q0.5\",\"q0.75\",\"q0.975\"])\n",
    "final_prediction[\"forecast_date\"] = [(current_day).strftime(\"%Y-%m-%d\") for x in df_horizons]\n",
    "final_prediction[\"horizon\"] = [\"{} day\".format(x) for x in df_horizons]\n",
    "final_prediction[\"target\"] = \"DAX\"\n",
    "\n",
    "for cnt, quantile in enumerate(quantiles):\n",
    "    final_prediction[\"q{}\".format(quantile)] = future_pred[cnt,:]"
   ]
  },
  {
   "cell_type": "code",
   "execution_count": 23,
   "id": "66c00a68-461d-4091-b3ed-10ee6f8369c7",
   "metadata": {},
   "outputs": [
    {
     "data": {
      "text/html": [
       "<div>\n",
       "<style scoped>\n",
       "    .dataframe tbody tr th:only-of-type {\n",
       "        vertical-align: middle;\n",
       "    }\n",
       "\n",
       "    .dataframe tbody tr th {\n",
       "        vertical-align: top;\n",
       "    }\n",
       "\n",
       "    .dataframe thead th {\n",
       "        text-align: right;\n",
       "    }\n",
       "</style>\n",
       "<table border=\"1\" class=\"dataframe\">\n",
       "  <thead>\n",
       "    <tr style=\"text-align: right;\">\n",
       "      <th></th>\n",
       "      <th>forecast_date</th>\n",
       "      <th>target</th>\n",
       "      <th>horizon</th>\n",
       "      <th>q0.025</th>\n",
       "      <th>q0.25</th>\n",
       "      <th>q0.5</th>\n",
       "      <th>q0.75</th>\n",
       "      <th>q0.975</th>\n",
       "    </tr>\n",
       "  </thead>\n",
       "  <tbody>\n",
       "    <tr>\n",
       "      <th>0</th>\n",
       "      <td>2021-11-24</td>\n",
       "      <td>DAX</td>\n",
       "      <td>1 day</td>\n",
       "      <td>-2.467739</td>\n",
       "      <td>-0.504437</td>\n",
       "      <td>0.102366</td>\n",
       "      <td>0.728461</td>\n",
       "      <td>2.509569</td>\n",
       "    </tr>\n",
       "    <tr>\n",
       "      <th>1</th>\n",
       "      <td>2021-11-24</td>\n",
       "      <td>DAX</td>\n",
       "      <td>2 day</td>\n",
       "      <td>-3.456577</td>\n",
       "      <td>-0.676890</td>\n",
       "      <td>0.150206</td>\n",
       "      <td>1.028780</td>\n",
       "      <td>3.542781</td>\n",
       "    </tr>\n",
       "    <tr>\n",
       "      <th>2</th>\n",
       "      <td>2021-11-24</td>\n",
       "      <td>DAX</td>\n",
       "      <td>5 day</td>\n",
       "      <td>-4.182802</td>\n",
       "      <td>-0.766539</td>\n",
       "      <td>0.188933</td>\n",
       "      <td>1.253820</td>\n",
       "      <td>4.289406</td>\n",
       "    </tr>\n",
       "    <tr>\n",
       "      <th>3</th>\n",
       "      <td>2021-11-24</td>\n",
       "      <td>DAX</td>\n",
       "      <td>6 day</td>\n",
       "      <td>-4.779356</td>\n",
       "      <td>-0.908036</td>\n",
       "      <td>0.222214</td>\n",
       "      <td>1.439894</td>\n",
       "      <td>4.897632</td>\n",
       "    </tr>\n",
       "    <tr>\n",
       "      <th>4</th>\n",
       "      <td>2021-11-24</td>\n",
       "      <td>DAX</td>\n",
       "      <td>7 day</td>\n",
       "      <td>-5.323389</td>\n",
       "      <td>-1.033752</td>\n",
       "      <td>0.253510</td>\n",
       "      <td>1.610077</td>\n",
       "      <td>5.492815</td>\n",
       "    </tr>\n",
       "  </tbody>\n",
       "</table>\n",
       "</div>"
      ],
      "text/plain": [
       "  forecast_date target horizon    q0.025     q0.25      q0.5     q0.75  \\\n",
       "0    2021-11-24    DAX   1 day -2.467739 -0.504437  0.102366  0.728461   \n",
       "1    2021-11-24    DAX   2 day -3.456577 -0.676890  0.150206  1.028780   \n",
       "2    2021-11-24    DAX   5 day -4.182802 -0.766539  0.188933  1.253820   \n",
       "3    2021-11-24    DAX   6 day -4.779356 -0.908036  0.222214  1.439894   \n",
       "4    2021-11-24    DAX   7 day -5.323389 -1.033752  0.253510  1.610077   \n",
       "\n",
       "     q0.975  \n",
       "0  2.509569  \n",
       "1  3.542781  \n",
       "2  4.289406  \n",
       "3  4.897632  \n",
       "4  5.492815  "
      ]
     },
     "execution_count": 23,
     "metadata": {},
     "output_type": "execute_result"
    }
   ],
   "source": [
    "final_prediction"
   ]
  },
  {
   "cell_type": "markdown",
   "id": "ca3cce8f-ca95-4020-bfca-607e106acdb1",
   "metadata": {},
   "source": [
    "## Save final prediction"
   ]
  },
  {
   "cell_type": "code",
   "execution_count": 24,
   "id": "e668b977-a6ca-4a75-84ab-65e20dc17ea4",
   "metadata": {},
   "outputs": [],
   "source": [
    "current_date = date.today().strftime(\"%Y-%m-%d\")\n",
    "final_prediction.to_pickle(\"../evaluation/predictions/single/DAX_{}\".format(current_date))"
   ]
  },
  {
   "cell_type": "code",
   "execution_count": null,
   "id": "6af0347f-1716-4885-8823-7e95680b5629",
   "metadata": {},
   "outputs": [],
   "source": []
  }
 ],
 "metadata": {
  "kernelspec": {
   "display_name": "Python 3 (ipykernel)",
   "language": "python",
   "name": "python3"
  },
  "language_info": {
   "codemirror_mode": {
    "name": "ipython",
    "version": 3
   },
   "file_extension": ".py",
   "mimetype": "text/x-python",
   "name": "python",
   "nbconvert_exporter": "python",
   "pygments_lexer": "ipython3",
   "version": "3.8.8"
  },
  "toc-autonumbering": true
 },
 "nbformat": 4,
 "nbformat_minor": 5
}
