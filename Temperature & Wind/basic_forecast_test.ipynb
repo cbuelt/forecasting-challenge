{
 "cells": [
  {
   "cell_type": "code",
   "execution_count": 1,
   "id": "1e7179d3-ecb1-452c-83d4-a4822ab1f739",
   "metadata": {},
   "outputs": [],
   "source": [
    "import numpy as np\n",
    "import pandas as pd\n",
    "from datetime import date, timedelta, datetime"
   ]
  },
  {
   "cell_type": "markdown",
   "id": "f3ec92ea-6026-462c-bb96-ecead9d7f0fd",
   "metadata": {},
   "source": [
    "# Read data"
   ]
  },
  {
   "cell_type": "code",
   "execution_count": 2,
   "id": "5055a59f-ca90-43b6-93bd-dbc4f76837dc",
   "metadata": {},
   "outputs": [],
   "source": [
    "def get_current_data():\n",
    "    current_date = date.today().strftime(\"%Y%m%d\")\n",
    "    data_file = \"icon-eu-eps_\"+current_date+\"00_{}_Karlsruhe.txt\"\n",
    "    #Read data\n",
    "    try:\n",
    "        temp_data = pd.read_csv(\"data/\"+data_file.format(\"t_2m\"), sep = \"|\", skiprows = 3).dropna(axis = 1)\n",
    "        temp_data.columns = temp_data.columns.str.replace(\" \", \"\")\n",
    "        wind_data = pd.read_csv(\"data/\"+data_file.format(\"wind_mean_10m\"), sep = \"|\", skiprows = 3).dropna(axis = 1)\n",
    "        wind_data.columns = wind_data.columns.str.replace(\" \", \"\")\n",
    "    except:\n",
    "        print(\"Data not available\")\n",
    "    return temp_data, wind_data"
   ]
  },
  {
   "cell_type": "code",
   "execution_count": 3,
   "id": "4b3ce1d8-a060-4c0f-a843-0debf49d6c93",
   "metadata": {},
   "outputs": [],
   "source": [
    "temp_data, wind_data = get_current_data()"
   ]
  },
  {
   "cell_type": "markdown",
   "id": "8d12cb1e-3338-45a6-b7bd-456477339dac",
   "metadata": {},
   "source": [
    "## Create basic quantile prediction"
   ]
  },
  {
   "cell_type": "code",
   "execution_count": 4,
   "id": "eba98cee-dbaf-431e-94a8-024f87bf89e6",
   "metadata": {},
   "outputs": [],
   "source": [
    "horizons = [36, 48, 60, 72, 84]\n",
    "quantiles = [0.025, 0.25, 0.5, 0.75, 0.975]"
   ]
  },
  {
   "cell_type": "code",
   "execution_count": 5,
   "id": "4ecc6131-e797-483d-a241-a47240f24279",
   "metadata": {},
   "outputs": [],
   "source": [
    "def get_naive_prediction(data, quantiles, horizons):\n",
    "    prediction = pd.DataFrame(index = quantiles, columns = horizons)\n",
    "    for horizon in horizons:\n",
    "        data_horizon = data[data[\"fcst_hour\"] == horizon].drop(\"fcst_hour\", axis = 1)\n",
    "        pred_quantiles = np.quantile(data_horizon, quantiles)\n",
    "        prediction.loc[:,horizon] = pred_quantiles\n",
    "    return prediction"
   ]
  },
  {
   "cell_type": "code",
   "execution_count": 6,
   "id": "d7bb18d4-187f-4bb4-99b8-7ed10b71c946",
   "metadata": {},
   "outputs": [],
   "source": [
    "temp_pred = get_naive_prediction(temp_data, quantiles, horizons)\n",
    "wind_pred = get_naive_prediction(wind_data, quantiles, horizons)"
   ]
  },
  {
   "cell_type": "code",
   "execution_count": 10,
   "id": "ba597d37-ae1f-4c83-a3be-b788bef9f6d4",
   "metadata": {},
   "outputs": [],
   "source": [
    "# Prepare final format\n",
    "def get_final_format(data, target, save = True):\n",
    "    final_prediction = pd.DataFrame(columns = [\"forecast_date\",\"target\",\"horizon\",\"q0.025\",\"q0.25\",\"q0.5\",\"q0.75\",\"q0.975\"], index = np.arange(0,5))\n",
    "    final_prediction[\"forecast_date\"] = datetime.today().strftime(\"%Y-%m-%d\")\n",
    "    final_prediction[\"horizon\"] = [\"{} hour\".format(x) for x in horizons]\n",
    "    final_prediction[\"target\"] = target\n",
    "\n",
    "    for quantile in quantiles:\n",
    "        final_prediction.loc[:,\"q{}\".format(quantile)] = data.loc[quantile].values\n",
    "    #Save data\n",
    "    if save == True:        \n",
    "        final_prediction.to_pickle(\"../evaluation/predictions/single/{}_{}\".format(target, date.today().strftime(\"%Y-%m-%d\")))\n",
    "    else:\n",
    "        return final_prediction   "
   ]
  },
  {
   "cell_type": "code",
   "execution_count": 11,
   "id": "b03ec27d-2523-4402-8585-776bb03d5c9a",
   "metadata": {},
   "outputs": [],
   "source": [
    "get_final_format(temp_pred, \"temperature\")\n",
    "get_final_format(wind_pred, \"wind\")"
   ]
  },
  {
   "cell_type": "code",
   "execution_count": null,
   "id": "1396116d-444f-4b22-be58-5967609b4e8b",
   "metadata": {},
   "outputs": [],
   "source": []
  }
 ],
 "metadata": {
  "kernelspec": {
   "display_name": "Python 3 (ipykernel)",
   "language": "python",
   "name": "python3"
  },
  "language_info": {
   "codemirror_mode": {
    "name": "ipython",
    "version": 3
   },
   "file_extension": ".py",
   "mimetype": "text/x-python",
   "name": "python",
   "nbconvert_exporter": "python",
   "pygments_lexer": "ipython3",
   "version": "3.9.7"
  }
 },
 "nbformat": 4,
 "nbformat_minor": 5
}
