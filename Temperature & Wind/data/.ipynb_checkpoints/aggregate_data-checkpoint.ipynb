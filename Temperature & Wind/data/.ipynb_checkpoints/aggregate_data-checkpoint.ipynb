{
 "cells": [
  {
   "cell_type": "code",
   "execution_count": 9,
   "id": "81c5890d-2a7e-4ccb-8353-9e4cdf05dff0",
   "metadata": {},
   "outputs": [],
   "source": [
    "import pandas as pd\n",
    "import pyreadr\n",
    "from glob import glob"
   ]
  },
  {
   "cell_type": "markdown",
   "id": "f69c55a1-5e88-4b3d-b0f8-133e6e448d55",
   "metadata": {
    "tags": []
   },
   "source": [
    "# Read data"
   ]
  },
  {
   "cell_type": "markdown",
   "id": "0421050a-3dfa-4f6b-81fe-75b53a3fc34b",
   "metadata": {},
   "source": [
    "## Base data"
   ]
  },
  {
   "cell_type": "code",
   "execution_count": 8,
   "id": "223b0618-d169-476a-95f4-1a86b62fa122",
   "metadata": {},
   "outputs": [
    {
     "ename": "LibrdataError",
     "evalue": "Invalid file, or file has unsupported features",
     "output_type": "error",
     "traceback": [
      "\u001b[1;31m---------------------------------------------------------------------------\u001b[0m",
      "\u001b[1;31mLibrdataError\u001b[0m                             Traceback (most recent call last)",
      "\u001b[1;32m~\\AppData\\Local\\Temp/ipykernel_16588/1373618062.py\u001b[0m in \u001b[0;36m<module>\u001b[1;34m\u001b[0m\n\u001b[1;32m----> 1\u001b[1;33m \u001b[0mtemperature\u001b[0m \u001b[1;33m=\u001b[0m \u001b[0mpyreadr\u001b[0m\u001b[1;33m.\u001b[0m\u001b[0mread_r\u001b[0m\u001b[1;33m(\u001b[0m\u001b[1;34m'icon_eps_wind_10m.RData'\u001b[0m\u001b[1;33m)\u001b[0m\u001b[1;33m\u001b[0m\u001b[1;33m\u001b[0m\u001b[0m\n\u001b[0m",
      "\u001b[1;32m~\\anaconda3\\envs\\forecasting\\lib\\site-packages\\pyreadr\\pyreadr.py\u001b[0m in \u001b[0;36mread_r\u001b[1;34m(path, use_objects, timezone)\u001b[0m\n\u001b[0;32m     64\u001b[0m     \u001b[1;32mif\u001b[0m \u001b[1;32mnot\u001b[0m \u001b[0mos\u001b[0m\u001b[1;33m.\u001b[0m\u001b[0mpath\u001b[0m\u001b[1;33m.\u001b[0m\u001b[0misfile\u001b[0m\u001b[1;33m(\u001b[0m\u001b[0mfilename_bytes\u001b[0m\u001b[1;33m)\u001b[0m\u001b[1;33m:\u001b[0m\u001b[1;33m\u001b[0m\u001b[1;33m\u001b[0m\u001b[0m\n\u001b[0;32m     65\u001b[0m         \u001b[1;32mraise\u001b[0m \u001b[0mPyreadrError\u001b[0m\u001b[1;33m(\u001b[0m\u001b[1;34m\"File {0} does not exist!\"\u001b[0m\u001b[1;33m.\u001b[0m\u001b[0mformat\u001b[0m\u001b[1;33m(\u001b[0m\u001b[0mfilename_bytes\u001b[0m\u001b[1;33m)\u001b[0m\u001b[1;33m)\u001b[0m\u001b[1;33m\u001b[0m\u001b[1;33m\u001b[0m\u001b[0m\n\u001b[1;32m---> 66\u001b[1;33m     \u001b[0mparser\u001b[0m\u001b[1;33m.\u001b[0m\u001b[0mparse\u001b[0m\u001b[1;33m(\u001b[0m\u001b[0mfilename_bytes\u001b[0m\u001b[1;33m)\u001b[0m\u001b[1;33m\u001b[0m\u001b[1;33m\u001b[0m\u001b[0m\n\u001b[0m\u001b[0;32m     67\u001b[0m \u001b[1;33m\u001b[0m\u001b[0m\n\u001b[0;32m     68\u001b[0m     \u001b[0mresult\u001b[0m \u001b[1;33m=\u001b[0m \u001b[0mOrderedDict\u001b[0m\u001b[1;33m(\u001b[0m\u001b[1;33m)\u001b[0m\u001b[1;33m\u001b[0m\u001b[1;33m\u001b[0m\u001b[0m\n",
      "\u001b[1;32m~\\anaconda3\\envs\\forecasting\\lib\\site-packages\\pyreadr\\librdata.pyx\u001b[0m in \u001b[0;36mpyreadr.librdata.Parser.parse\u001b[1;34m()\u001b[0m\n",
      "\u001b[1;32m~\\anaconda3\\envs\\forecasting\\lib\\site-packages\\pyreadr\\librdata.pyx\u001b[0m in \u001b[0;36mpyreadr.librdata.Parser.parse\u001b[1;34m()\u001b[0m\n",
      "\u001b[1;31mLibrdataError\u001b[0m: Invalid file, or file has unsupported features"
     ]
    }
   ],
   "source": [
    "temperature = pyreadr.read_r('icon_eps_wind_10m.RData')"
   ]
  },
  {
   "cell_type": "markdown",
   "id": "d501a765-ed15-4b40-bdd5-bd7135731a04",
   "metadata": {},
   "source": [
    "## Realizations"
   ]
  },
  {
   "cell_type": "code",
   "execution_count": 17,
   "id": "c7c1019c-de20-45f4-b17c-678913b3906f",
   "metadata": {},
   "outputs": [],
   "source": [
    "filename_temp = glob('produkt_ff*.txt')[0]\n",
    "filename_wind = glob('produkt_tu*.txt')[0]"
   ]
  },
  {
   "cell_type": "code",
   "execution_count": 19,
   "id": "aa73e648-d4a0-4666-9d7c-fd19c02c4b3c",
   "metadata": {},
   "outputs": [],
   "source": [
    "realizations_temp = pd.read_csv(filename_temp, sep = \";\")\n",
    "realizations_wind = pd.read_csv(filename_wind, sep = \";\")"
   ]
  },
  {
   "cell_type": "code",
   "execution_count": null,
   "id": "d292f65f-71be-4033-8b86-4b4e5944da3f",
   "metadata": {},
   "outputs": [],
   "source": []
  }
 ],
 "metadata": {
  "kernelspec": {
   "display_name": "Python 3 (ipykernel)",
   "language": "python",
   "name": "python3"
  },
  "language_info": {
   "codemirror_mode": {
    "name": "ipython",
    "version": 3
   },
   "file_extension": ".py",
   "mimetype": "text/x-python",
   "name": "python",
   "nbconvert_exporter": "python",
   "pygments_lexer": "ipython3",
   "version": "3.9.7"
  }
 },
 "nbformat": 4,
 "nbformat_minor": 5
}
