{
 "cells": [
  {
   "cell_type": "code",
   "execution_count": 141,
   "id": "81c5890d-2a7e-4ccb-8353-9e4cdf05dff0",
   "metadata": {},
   "outputs": [],
   "source": [
    "import pandas as pd\n",
    "from glob import glob\n",
    "import seaborn as sns\n",
    "from datetime import datetime, timedelta\n",
    "from matplotlib import pyplot as plt\n",
    "from urllib.request import urlopen\n",
    "from io import BytesIO\n",
    "from zipfile import ZipFile"
   ]
  },
  {
   "cell_type": "markdown",
   "id": "d5f8d7e3-9225-4119-81bf-3c0527b3e604",
   "metadata": {},
   "source": [
    "# Methods"
   ]
  },
  {
   "cell_type": "code",
   "execution_count": 142,
   "id": "ff566d69-3233-4c3d-85b7-7e85e471e1d8",
   "metadata": {},
   "outputs": [],
   "source": [
    "def download_and_unzip(url, extract_to='dwd_data/'):\n",
    "    http_response = urlopen(url)\n",
    "    zipfile = ZipFile(BytesIO(http_response.read()))\n",
    "    zipfile.extractall(path=extract_to)"
   ]
  },
  {
   "cell_type": "code",
   "execution_count": 143,
   "id": "fce594a0-aac9-4de9-ac7e-5ae47b6e9beb",
   "metadata": {},
   "outputs": [],
   "source": [
    "def get_realizations():\n",
    "    filename_wind = glob('dwd_data/produkt_ff*.txt')[0]\n",
    "    filename_temp = glob('dwd_data/produkt_tu*.txt')[0]\n",
    "    realizations_temp = pd.read_csv(filename_temp, sep = \";\")\n",
    "    realizations_wind = pd.read_csv(filename_wind, sep = \";\")\n",
    "    realizations_wind.columns = realizations_wind.columns.str.replace(\" \",\"\")\n",
    "    realizations_temp[\"MESS_DATUM\"] = pd.to_datetime(realizations_temp[\"MESS_DATUM\"], format = \"%Y%m%d%H\")\n",
    "    realizations_wind[\"MESS_DATUM\"] = pd.to_datetime(realizations_wind[\"MESS_DATUM\"], format = \"%Y%m%d%H\")\n",
    "\n",
    "    #Drop unecessary columns\n",
    "    realizations_wind = realizations_wind[[\"MESS_DATUM\",\"F\"]]\n",
    "    realizations_temp = realizations_temp[[\"MESS_DATUM\", \"TT_TU\"]]\n",
    "    \n",
    "    #Set index\n",
    "    realizations_temp.set_index(\"MESS_DATUM\", inplace = True)\n",
    "    realizations_wind.set_index(\"MESS_DATUM\", inplace = True)\n",
    "    \n",
    "    return (realizations_temp, realizations_wind)"
   ]
  },
  {
   "cell_type": "code",
   "execution_count": 144,
   "id": "99809ff4-564c-4d98-bffa-4176d6653f86",
   "metadata": {},
   "outputs": [],
   "source": [
    "def get_observed_time(x):\n",
    "    res = pd.to_datetime(x[\"init_tm\"]) + timedelta(hours = x[\"fcst_hour\"])\n",
    "    return res"
   ]
  },
  {
   "cell_type": "code",
   "execution_count": 146,
   "id": "3b496b46-2881-40c7-a86c-3d1043726dec",
   "metadata": {},
   "outputs": [],
   "source": [
    "def get_base_data():\n",
    "    temperature = pd.read_csv(\"historic_data/icon_eps_t_2m.csv\")\n",
    "    wind = pd.read_csv(\"historic_data/icon_eps_wind_10m.csv\")\n",
    "    temperature[\"obs_tm\"] = pd.to_datetime(temperature[\"obs_tm\"])\n",
    "    wind[\"obs_tm\"] = pd.to_datetime(wind[\"obs_tm\"])\n",
    "    return (temperature, wind)"
   ]
  },
  {
   "cell_type": "code",
   "execution_count": 149,
   "id": "7c0172d1-cd3a-4b67-95f2-c75aceb81d7a",
   "metadata": {},
   "outputs": [],
   "source": [
    "def add_observations(data, realizations, name, dropna):\n",
    "    if name == \"temperature\":\n",
    "        column = \"TT_TU\"\n",
    "    elif name == \"wind\":\n",
    "        column = \"F\"\n",
    "    else:\n",
    "        print(\"Error\")\n",
    "        return None\n",
    "    \n",
    "    #Join data\n",
    "    index = data.loc[data[\"obs\"].isna()][[\"obs_tm\"]]\n",
    "    fill_blancs = index.merge(realizations, left_on = \"obs_tm\", right_on = \"MESS_DATUM\", how = \"left\")[column]\n",
    "    data.loc[data[\"obs\"].isna(),\"obs\"] = fill_blancs.values\n",
    "    \n",
    "    #Dropna\n",
    "    if dropna ==True:\n",
    "        data.dropna(inplace = True)\n",
    "    \n",
    "    return data"
   ]
  },
  {
   "cell_type": "code",
   "execution_count": 155,
   "id": "77b76715-624e-46e2-a045-b90e4cb1477b",
   "metadata": {},
   "outputs": [],
   "source": [
    "def add_new_data(data, realizations, name, save = False):\n",
    "    \n",
    "    if name == \"temperature\":\n",
    "        column = \"TT_TU\"\n",
    "        method = \"t_2m\"\n",
    "        name = method\n",
    "        factor = 1\n",
    "    elif name == \"wind\":\n",
    "        column = \"F\"\n",
    "        method = \"wind_10m\"\n",
    "        name = \"wind_mean_10m\"\n",
    "        factor = 3.6\n",
    "    else:\n",
    "        print(\"Error\")\n",
    "        return None\n",
    "    #Get day to start adding new data\n",
    "    start_init_date = pd.to_datetime(data[\"init_tm\"]).iloc[-1] + timedelta(1)\n",
    "\n",
    "    #Get index of possible realizations\n",
    "    index = realizations[realizations.index >= start_init_date].index\n",
    "    #Get days of index to load data\n",
    "    days = index.strftime(\"%Y-%m-%d\").drop_duplicates()\n",
    "    \n",
    "    #Obtain columns for dataframe\n",
    "    true_columns = data.columns\n",
    "    new_df = pd.DataFrame(columns = true_columns)\n",
    "\n",
    "    #Iterate over all new days\n",
    "    for current_date in days:\n",
    "        #current_date = start_init_date\n",
    "        path = \"icon_data/icon-eu-eps_{}00_{}_Karlsruhe.txt\"\n",
    "        new_data = pd.read_csv(path.format(current_date.replace(\"-\",\"\"), name), skiprows = 3, sep = \"|\").dropna(axis = 1)\n",
    "        new_data.columns = new_data.columns.str.replace(\" \", \"\")\n",
    "        columns = [\"fcst_hour\"]\n",
    "        columns.extend(true_columns[6:-2])\n",
    "        new_data.columns = columns\n",
    "        #Add missing columns\n",
    "        new_data[\"ens_mean\"] = new_data.iloc[:,1:].mean(axis = 1)\n",
    "        new_data[\"ens_var\"] = new_data.iloc[:,1:-1].std(axis = 1)\n",
    "        new_data.insert(0, \"init_tm\", current_date)\n",
    "        new_data.insert(1, \"met_var\", method)\n",
    "        new_data.insert(2, \"location\", \"Karlsruhe\")\n",
    "        new_data.insert(3, \"obs_tm\", 0)\n",
    "        new_data[\"obs_tm\"] = new_data[[\"init_tm\", \"fcst_hour\"]].apply(lambda x: get_observed_time(x), axis = 1)\n",
    "\n",
    "        #Need to add observations than finished\n",
    "        index = new_data[\"obs_tm\"]\n",
    "        new_obs = realizations[realizations.index.isin(index)][column] * factor\n",
    "        new_data = new_data.merge(new_obs, left_on = \"obs_tm\", right_index = True)\n",
    "\n",
    "        #Append to dataframe\n",
    "        new_df = new_df.append(new_data)\n",
    "\n",
    "    #Change columns\n",
    "    new_df[\"obs\"] = new_df[column]\n",
    "    new_df.drop(column, axis = 1, inplace = True)\n",
    "    \n",
    "    #Aggregate data\n",
    "    data = data.append(new_df)\n",
    "    data[\"fcst_hour\"] = data[\"fcst_hour\"].astype(\"int\")\n",
    "    data = data.reset_index().drop(\"index\", axis = 1)\n",
    "    \n",
    "    if save == True:\n",
    "        data.to_pickle(\"complete_data_{}\".format(method))\n",
    "    else:          \n",
    "        return data"
   ]
  },
  {
   "cell_type": "markdown",
   "id": "bddfe740-9c45-49bd-9d2a-252e36f08bcb",
   "metadata": {
    "tags": []
   },
   "source": [
    "# Combine data"
   ]
  },
  {
   "cell_type": "code",
   "execution_count": 145,
   "id": "f2cacf0c-6f86-460b-bec2-e6ea1e77e512",
   "metadata": {},
   "outputs": [],
   "source": [
    "url_temp = \"https://opendata.dwd.de/climate_environment/CDC/observations_germany/climate/hourly/air_temperature/recent/stundenwerte_TU_04177_akt.zip\"\n",
    "url_wind = \"https://opendata.dwd.de/climate_environment/CDC/observations_germany/climate/hourly/wind/recent/stundenwerte_FF_04177_akt.zip\"\n",
    "download_and_unzip(url_temp)\n",
    "download_and_unzip(url_wind)"
   ]
  },
  {
   "cell_type": "code",
   "execution_count": 147,
   "id": "57137ea4-fab5-4e19-b096-a8b355bc7cd5",
   "metadata": {},
   "outputs": [],
   "source": [
    "temperature, wind = get_base_data()"
   ]
  },
  {
   "cell_type": "code",
   "execution_count": 148,
   "id": "ccda2d53-db67-4edb-a3ad-9b7122a30947",
   "metadata": {},
   "outputs": [],
   "source": [
    "realizations_temp, realizations_wind = get_realizations()"
   ]
  },
  {
   "cell_type": "code",
   "execution_count": 150,
   "id": "45149b2e-c189-4808-bc93-329b01d1d52d",
   "metadata": {},
   "outputs": [],
   "source": [
    "temperature = add_observations(temperature, realizations_temp, \"temperature\", dropna = False)\n",
    "wind = add_observations(wind, realizations_wind, \"wind\", dropna = True)"
   ]
  },
  {
   "cell_type": "code",
   "execution_count": 156,
   "id": "53cbf771-4c3c-4432-8c0a-19733a6fa6fb",
   "metadata": {},
   "outputs": [],
   "source": [
    "add_new_data(temperature, realizations_temp, \"temperature\",save = True)"
   ]
  },
  {
   "cell_type": "code",
   "execution_count": 157,
   "id": "cfcde726-6588-460e-8fae-9f74024990f1",
   "metadata": {},
   "outputs": [],
   "source": [
    "add_new_data(wind, realizations_wind, \"wind\", save = True)"
   ]
  }
 ],
 "metadata": {
  "kernelspec": {
   "display_name": "Python 3 (ipykernel)",
   "language": "python",
   "name": "python3"
  },
  "language_info": {
   "codemirror_mode": {
    "name": "ipython",
    "version": 3
   },
   "file_extension": ".py",
   "mimetype": "text/x-python",
   "name": "python",
   "nbconvert_exporter": "python",
   "pygments_lexer": "ipython3",
   "version": "3.8.8"
  }
 },
 "nbformat": 4,
 "nbformat_minor": 5
}
