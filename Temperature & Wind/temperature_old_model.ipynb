{
 "cells": [
  {
   "cell_type": "code",
   "execution_count": 1,
   "id": "5dcc675b-a528-47d8-817d-66cd81b07b81",
   "metadata": {},
   "outputs": [],
   "source": [
    "import pandas as pd\n",
    "import numpy as np\n",
    "import time\n",
    "import matplotlib.pyplot as plt\n",
    "import seaborn as sns\n",
    "from datetime import date, datetime, timedelta\n",
    "import tensorflow as tf\n",
    "from tensorflow import keras\n",
    "from tensorflow.keras.layers import *\n",
    "from tensorflow.keras.models import Model\n",
    "import random\n",
    "from sklearn.model_selection import train_test_split\n",
    "import tensorflow.keras.backend as K\n",
    "from scipy.stats import norm\n",
    "from sklearn.preprocessing import Normalizer,StandardScaler, LabelEncoder\n",
    "from tensorflow_addons.losses import pinball_loss\n",
    "from sklearn.metrics import mean_pinball_loss\n",
    "from scipy import stats\n",
    "import math"
   ]
  },
  {
   "cell_type": "code",
   "execution_count": 2,
   "id": "72a7bd45-3634-4ef0-9ea6-38c2b9c97c06",
   "metadata": {},
   "outputs": [],
   "source": [
    "quantiles = [0.025, 0.25, 0.5, 0.75, 0.975]\n",
    "horizons = [36, 48 ,60, 72, 84]"
   ]
  },
  {
   "cell_type": "markdown",
   "id": "e4510d11-04a6-4c31-a2ec-0b842336dafc",
   "metadata": {},
   "source": [
    "# Prepare data"
   ]
  },
  {
   "cell_type": "code",
   "execution_count": 3,
   "id": "33903f39-2172-42bf-8827-7ec99afc0f3c",
   "metadata": {},
   "outputs": [
    {
     "data": {
      "text/html": [
       "<div>\n",
       "<style scoped>\n",
       "    .dataframe tbody tr th:only-of-type {\n",
       "        vertical-align: middle;\n",
       "    }\n",
       "\n",
       "    .dataframe tbody tr th {\n",
       "        vertical-align: top;\n",
       "    }\n",
       "\n",
       "    .dataframe thead th {\n",
       "        text-align: right;\n",
       "    }\n",
       "</style>\n",
       "<table border=\"1\" class=\"dataframe\">\n",
       "  <thead>\n",
       "    <tr style=\"text-align: right;\">\n",
       "      <th></th>\n",
       "      <th>init_tm</th>\n",
       "      <th>met_var</th>\n",
       "      <th>location</th>\n",
       "      <th>fcst_hour</th>\n",
       "      <th>obs_tm</th>\n",
       "      <th>obs</th>\n",
       "      <th>ens_1</th>\n",
       "      <th>ens_2</th>\n",
       "      <th>ens_3</th>\n",
       "      <th>ens_4</th>\n",
       "      <th>...</th>\n",
       "      <th>ens_33</th>\n",
       "      <th>ens_34</th>\n",
       "      <th>ens_35</th>\n",
       "      <th>ens_36</th>\n",
       "      <th>ens_37</th>\n",
       "      <th>ens_38</th>\n",
       "      <th>ens_39</th>\n",
       "      <th>ens_40</th>\n",
       "      <th>ens_mean</th>\n",
       "      <th>ens_var</th>\n",
       "    </tr>\n",
       "  </thead>\n",
       "  <tbody>\n",
       "    <tr>\n",
       "      <th>0</th>\n",
       "      <td>2018-12-13 00:00:00+00:00</td>\n",
       "      <td>t_2m</td>\n",
       "      <td>Berlin</td>\n",
       "      <td>0.0</td>\n",
       "      <td>2018-12-13 00:00:00+00:00</td>\n",
       "      <td>2.3</td>\n",
       "      <td>0.05</td>\n",
       "      <td>0.03</td>\n",
       "      <td>0.32</td>\n",
       "      <td>0.61</td>\n",
       "      <td>...</td>\n",
       "      <td>0.30</td>\n",
       "      <td>-0.03</td>\n",
       "      <td>0.44</td>\n",
       "      <td>0.42</td>\n",
       "      <td>0.05</td>\n",
       "      <td>0.47</td>\n",
       "      <td>0.51</td>\n",
       "      <td>0.74</td>\n",
       "      <td>0.34500</td>\n",
       "      <td>0.148036</td>\n",
       "    </tr>\n",
       "    <tr>\n",
       "      <th>1</th>\n",
       "      <td>2018-12-13 00:00:00+00:00</td>\n",
       "      <td>t_2m</td>\n",
       "      <td>Berlin</td>\n",
       "      <td>1.0</td>\n",
       "      <td>2018-12-13 01:00:00+00:00</td>\n",
       "      <td>2.3</td>\n",
       "      <td>0.06</td>\n",
       "      <td>0.00</td>\n",
       "      <td>0.34</td>\n",
       "      <td>0.51</td>\n",
       "      <td>...</td>\n",
       "      <td>0.13</td>\n",
       "      <td>0.05</td>\n",
       "      <td>0.39</td>\n",
       "      <td>0.38</td>\n",
       "      <td>0.04</td>\n",
       "      <td>0.38</td>\n",
       "      <td>0.33</td>\n",
       "      <td>0.60</td>\n",
       "      <td>0.30125</td>\n",
       "      <td>0.162580</td>\n",
       "    </tr>\n",
       "    <tr>\n",
       "      <th>2</th>\n",
       "      <td>2018-12-13 00:00:00+00:00</td>\n",
       "      <td>t_2m</td>\n",
       "      <td>Berlin</td>\n",
       "      <td>2.0</td>\n",
       "      <td>2018-12-13 02:00:00+00:00</td>\n",
       "      <td>2.2</td>\n",
       "      <td>0.10</td>\n",
       "      <td>0.11</td>\n",
       "      <td>0.40</td>\n",
       "      <td>0.45</td>\n",
       "      <td>...</td>\n",
       "      <td>0.08</td>\n",
       "      <td>0.15</td>\n",
       "      <td>0.57</td>\n",
       "      <td>0.37</td>\n",
       "      <td>0.08</td>\n",
       "      <td>0.42</td>\n",
       "      <td>0.31</td>\n",
       "      <td>0.57</td>\n",
       "      <td>0.32525</td>\n",
       "      <td>0.171626</td>\n",
       "    </tr>\n",
       "    <tr>\n",
       "      <th>3</th>\n",
       "      <td>2018-12-13 00:00:00+00:00</td>\n",
       "      <td>t_2m</td>\n",
       "      <td>Berlin</td>\n",
       "      <td>3.0</td>\n",
       "      <td>2018-12-13 03:00:00+00:00</td>\n",
       "      <td>2.2</td>\n",
       "      <td>0.12</td>\n",
       "      <td>0.32</td>\n",
       "      <td>0.48</td>\n",
       "      <td>0.42</td>\n",
       "      <td>...</td>\n",
       "      <td>0.05</td>\n",
       "      <td>0.19</td>\n",
       "      <td>0.68</td>\n",
       "      <td>0.32</td>\n",
       "      <td>0.08</td>\n",
       "      <td>0.28</td>\n",
       "      <td>0.35</td>\n",
       "      <td>0.60</td>\n",
       "      <td>0.31700</td>\n",
       "      <td>0.161878</td>\n",
       "    </tr>\n",
       "    <tr>\n",
       "      <th>4</th>\n",
       "      <td>2018-12-13 00:00:00+00:00</td>\n",
       "      <td>t_2m</td>\n",
       "      <td>Berlin</td>\n",
       "      <td>4.0</td>\n",
       "      <td>2018-12-13 04:00:00+00:00</td>\n",
       "      <td>2.1</td>\n",
       "      <td>0.11</td>\n",
       "      <td>0.57</td>\n",
       "      <td>0.54</td>\n",
       "      <td>0.35</td>\n",
       "      <td>...</td>\n",
       "      <td>0.03</td>\n",
       "      <td>0.17</td>\n",
       "      <td>0.76</td>\n",
       "      <td>0.30</td>\n",
       "      <td>0.10</td>\n",
       "      <td>0.11</td>\n",
       "      <td>0.34</td>\n",
       "      <td>0.56</td>\n",
       "      <td>0.29275</td>\n",
       "      <td>0.150544</td>\n",
       "    </tr>\n",
       "  </tbody>\n",
       "</table>\n",
       "<p>5 rows × 48 columns</p>\n",
       "</div>"
      ],
      "text/plain": [
       "                    init_tm met_var location  fcst_hour  \\\n",
       "0 2018-12-13 00:00:00+00:00    t_2m   Berlin        0.0   \n",
       "1 2018-12-13 00:00:00+00:00    t_2m   Berlin        1.0   \n",
       "2 2018-12-13 00:00:00+00:00    t_2m   Berlin        2.0   \n",
       "3 2018-12-13 00:00:00+00:00    t_2m   Berlin        3.0   \n",
       "4 2018-12-13 00:00:00+00:00    t_2m   Berlin        4.0   \n",
       "\n",
       "                     obs_tm  obs  ens_1  ens_2  ens_3  ens_4  ...  ens_33  \\\n",
       "0 2018-12-13 00:00:00+00:00  2.3   0.05   0.03   0.32   0.61  ...    0.30   \n",
       "1 2018-12-13 01:00:00+00:00  2.3   0.06   0.00   0.34   0.51  ...    0.13   \n",
       "2 2018-12-13 02:00:00+00:00  2.2   0.10   0.11   0.40   0.45  ...    0.08   \n",
       "3 2018-12-13 03:00:00+00:00  2.2   0.12   0.32   0.48   0.42  ...    0.05   \n",
       "4 2018-12-13 04:00:00+00:00  2.1   0.11   0.57   0.54   0.35  ...    0.03   \n",
       "\n",
       "   ens_34  ens_35  ens_36  ens_37  ens_38  ens_39  ens_40  ens_mean   ens_var  \n",
       "0   -0.03    0.44    0.42    0.05    0.47    0.51    0.74   0.34500  0.148036  \n",
       "1    0.05    0.39    0.38    0.04    0.38    0.33    0.60   0.30125  0.162580  \n",
       "2    0.15    0.57    0.37    0.08    0.42    0.31    0.57   0.32525  0.171626  \n",
       "3    0.19    0.68    0.32    0.08    0.28    0.35    0.60   0.31700  0.161878  \n",
       "4    0.17    0.76    0.30    0.10    0.11    0.34    0.56   0.29275  0.150544  \n",
       "\n",
       "[5 rows x 48 columns]"
      ]
     },
     "execution_count": 3,
     "metadata": {},
     "output_type": "execute_result"
    }
   ],
   "source": [
    "data = pd.read_feather(\"data/berlin_data/historic_data/icon_eps_t_2m.feather\")\n",
    "\n",
    "data.dropna(inplace=True)\n",
    "data.head()"
   ]
  },
  {
   "cell_type": "markdown",
   "id": "596e7897-3be3-43ac-a61f-b3bcbad342ef",
   "metadata": {},
   "source": [
    "## Calculate positional encoding for day of year"
   ]
  },
  {
   "cell_type": "code",
   "execution_count": 4,
   "id": "d97f158e-3517-4952-828a-1274982f187b",
   "metadata": {},
   "outputs": [],
   "source": [
    "pos_enc = pd.DataFrame(index=pd.DatetimeIndex(data[\"obs_tm\"]))\n",
    "pos_enc[\"Dayofyear\"] = pos_enc.index.dayofyear\n",
    "pos_enc[\"n_days\"] = 365\n",
    "pos_enc.loc[pos_enc.index.year==2020,\"n_days\"] = 366\n",
    "#Calculate actual positional encoding\n",
    "cos_encoding = np.cos(2*math.pi*pos_enc[\"Dayofyear\"]/pos_enc[\"n_days\"])\n",
    "data[\"pos_enc_1\"] = cos_encoding.to_numpy()"
   ]
  },
  {
   "cell_type": "markdown",
   "id": "4a3556da-7ec8-4619-93f2-a911db38f0db",
   "metadata": {},
   "source": [
    "## Train, val, test split"
   ]
  },
  {
   "cell_type": "code",
   "execution_count": 5,
   "id": "bd6c0048-357c-4145-9a03-f78d32d81a91",
   "metadata": {},
   "outputs": [],
   "source": [
    "train_val_dataframe, test_dataframe = train_test_split(data, test_size = 0.2, random_state = 1)\n",
    "train_dataframe, val_dataframe = train_test_split(data, test_size = 0.2, random_state = 2)"
   ]
  },
  {
   "cell_type": "markdown",
   "id": "06dca02c-d2f6-4e83-b68b-a0f78e15466d",
   "metadata": {},
   "source": [
    "## Normalize and change format"
   ]
  },
  {
   "cell_type": "code",
   "execution_count": 6,
   "id": "19dee4e5-8eba-4f60-a4ad-75d930725ef9",
   "metadata": {},
   "outputs": [],
   "source": [
    "def normalize(dataframe, label_encoder = None,feature_scaler = None, target_scaler = None, learn = False):\n",
    "    #Drop unused columns\n",
    "    data = dataframe.copy()\n",
    "    data.drop([\"init_tm\", \"met_var\", \"location\", \"ens_var\", \"obs_tm\"], axis = 1, inplace = True)\n",
    "    data = data.to_numpy()\n",
    "    if learn == True:\n",
    "        label_encoder = LabelEncoder()\n",
    "        feature_scaler = StandardScaler()\n",
    "        target_scaler = StandardScaler()\n",
    "        #Learn label encoding for horizons\n",
    "        label = label_encoder.fit_transform(data[:,0])\n",
    "        #Learn target scaling\n",
    "        target_scaled = target_scaler.fit_transform(data[:,1].reshape(-1,1))\n",
    "        #Learn feature scaling\n",
    "        features_scaled = feature_scaler.fit_transform(data[:,2:])\n",
    "        #Append\n",
    "        data[:,0] = label\n",
    "        data[:,1] = target_scaled.reshape(-1)\n",
    "        data[:,2:] = features_scaled\n",
    "        \n",
    "        return data, label_encoder, feature_scaler, target_scaler\n",
    "    \n",
    "    else:\n",
    "        #Learn labels\n",
    "        label = label_encoder.transform(data[:,0])\n",
    "        #Scale target\n",
    "        target_scaled = target_scaler.transform(data[:,1].reshape(-1,1))\n",
    "        #Scale features\n",
    "        features_scaled = feature_scaler.transform(data[:,2:])\n",
    "        #Append\n",
    "        data[:,0] = label\n",
    "        data[:,1] = target_scaled.reshape(-1)\n",
    "        data[:,2:] = features_scaled\n",
    "        \n",
    "        return data"
   ]
  },
  {
   "cell_type": "code",
   "execution_count": 7,
   "id": "3bab981b-fa00-4102-9f15-a7b9b6baf764",
   "metadata": {},
   "outputs": [],
   "source": [
    "train_val, label_encoder, feature_scaler, target_scaler = normalize(train_val_dataframe, learn = True)\n",
    "train= normalize(train_dataframe, label_encoder, feature_scaler, target_scaler)\n",
    "test = normalize(test_dataframe, label_encoder, feature_scaler, target_scaler)\n",
    "val = normalize(val_dataframe, label_encoder, feature_scaler, target_scaler)\n",
    "#Number of encodings\n",
    "n_encodings = len(np.unique(train[:,0]))"
   ]
  },
  {
   "cell_type": "code",
   "execution_count": 8,
   "id": "e91ce055-b236-4060-926a-36fa33dea304",
   "metadata": {},
   "outputs": [],
   "source": [
    "def convert_format(input_data, predict = False):\n",
    "    #Extract forecast embedding\n",
    "    horizon_emb = input_data[:,0]\n",
    "    \n",
    "    if predict == False:        \n",
    "        #Extract features\n",
    "        features = input_data[:,2:]\n",
    "        # Extract target\n",
    "        target = np.expand_dims(input_data[:,1],1)\n",
    "        return [features, horizon_emb], target\n",
    "    else:\n",
    "        #Extract features\n",
    "        features = input_data[:,1:]\n",
    "        return [features, horizon_emb]"
   ]
  },
  {
   "cell_type": "code",
   "execution_count": 9,
   "id": "55bd7ffb-df12-420f-80f7-cab75ab53795",
   "metadata": {},
   "outputs": [],
   "source": [
    "train_data, train_target = convert_format(train)\n",
    "val_data, val_target = convert_format(val)\n",
    "test_data, test_target = convert_format(test)"
   ]
  },
  {
   "cell_type": "markdown",
   "id": "6afe6315-fa3a-4000-a2de-7c7714564f6e",
   "metadata": {},
   "source": [
    "# Build model"
   ]
  },
  {
   "cell_type": "code",
   "execution_count": 10,
   "id": "2c401b24-2bb3-4032-8387-68d8759625eb",
   "metadata": {},
   "outputs": [],
   "source": [
    "BATCH_SIZE = 512\n",
    "EPOCHS = 100\n",
    "learning_rate = 0.001"
   ]
  },
  {
   "cell_type": "code",
   "execution_count": 11,
   "id": "650ec674-e165-43a9-b763-fe6b866ac6c3",
   "metadata": {},
   "outputs": [],
   "source": [
    "class base_model(tf.keras.Model):    \n",
    "    def __init__(self, n_embeddings = n_encodings):\n",
    "        super(base_model, self).__init__()\n",
    "        #Embedding layers\n",
    "        self.embedding = Embedding(input_dim = n_embeddings, output_dim = 4)\n",
    "        #Create Dense layers\n",
    "        self.hidden = Dense(64, activation = \"relu\")\n",
    "        self.hidden2 = Dense(32, activation = \"relu\")\n",
    "        self.out = Dense(1, activation = \"linear\")\n",
    "        #Create Dropout\n",
    "        self.dropout = Dropout(rate = 0.1)\n",
    "\n",
    "    def call(self, input_data):\n",
    "        #Extract data\n",
    "        features, horizon_emb = input_data\n",
    "        #Calculate embedding\n",
    "        emb = self.embedding(horizon_emb)\n",
    "        emb = tf.squeeze(emb, axis = 1)\n",
    "        conc = Concatenate(axis = 1)([features, emb])\n",
    "        #Calculate output\n",
    "        output = self.hidden(conc)\n",
    "        output = self.hidden2(output)\n",
    "        output = self.dropout(output)\n",
    "        output = self.out(output)\n",
    "\n",
    "        return output"
   ]
  },
  {
   "cell_type": "code",
   "execution_count": 12,
   "id": "c9260e5d-229c-41e5-9411-64bb7c727707",
   "metadata": {},
   "outputs": [],
   "source": [
    "def train_model(model, quantile, train_data, train_target, validation_data, batch_size, epochs, learning_rate):\n",
    "    #Define optimizer\n",
    "    optimizer = tf.keras.optimizers.Adam(learning_rate = learning_rate)\n",
    "    #Early stopping\n",
    "    callback = tf.keras.callbacks.EarlyStopping(monitor='val_loss', patience = 5, min_delta = 1e-5)\n",
    "    #Compile model\n",
    "    model.compile(optimizer = optimizer, loss = lambda true,pred: pinball_loss(true, pred, tau = quantile))\n",
    "    model.fit(x = train_data, y = train_target, validation_data = validation_data, epochs = epochs, batch_size = batch_size, callbacks = [callback], shuffle = True, verbose = False)"
   ]
  },
  {
   "cell_type": "code",
   "execution_count": 13,
   "id": "80f7ad14-9daa-4c85-b8c8-5a1d6145b812",
   "metadata": {},
   "outputs": [],
   "source": [
    "def create_all_models(train_data, train_target, validation_data, batch_size = BATCH_SIZE, epochs = EPOCHS, learning_rate = learning_rate, quantiles = quantiles):\n",
    "    models = dict()\n",
    "    for quantile in quantiles:\n",
    "        model = base_model()\n",
    "        train_model(model, quantile, train_data, train_target, validation_data, batch_size, epochs, learning_rate)\n",
    "        print(\"Training finished for quantile: {}\".format(quantile))\n",
    "        \n",
    "        #Fine tuning\n",
    "        enc_horizons = label_encoder.transform(horizons)\n",
    "        train_filtering = np.isin(train_data[1], enc_horizons)\n",
    "        train_data_fine = [train_data[0][train_filtering], train_data[1][train_filtering]]\n",
    "        train_target_fine = train_target[train_filtering]\n",
    "        #Val filtering\n",
    "        val_data, val_target = validation_data\n",
    "        val_filtering = np.isin(val_data[1], enc_horizons)\n",
    "        val_data_fine = [val_data[0][val_filtering], val_data[1][val_filtering]]\n",
    "        val_target_fine = val_target[val_filtering]\n",
    "        validation_data_fine = (val_data_fine, val_target_fine)\n",
    "        \n",
    "        train_model(model, quantile, train_data_fine, train_target_fine, validation_data_fine, batch_size, epochs, learning_rate/10)\n",
    "        print(\"Fine tuning finished for quantile: {}\".format(quantile))\n",
    "        \n",
    "        \n",
    "        models[quantile] = model\n",
    "    return models"
   ]
  },
  {
   "cell_type": "code",
   "execution_count": 14,
   "id": "4835ea46-5637-496d-97a5-e22b4be0c6c6",
   "metadata": {},
   "outputs": [
    {
     "name": "stdout",
     "output_type": "stream",
     "text": [
      "Training finished for quantile: 0.025\n",
      "Fine tuning finished for quantile: 0.025\n",
      "Training finished for quantile: 0.25\n",
      "Fine tuning finished for quantile: 0.25\n",
      "Training finished for quantile: 0.5\n",
      "Fine tuning finished for quantile: 0.5\n",
      "Training finished for quantile: 0.75\n",
      "Fine tuning finished for quantile: 0.75\n",
      "Training finished for quantile: 0.975\n",
      "Fine tuning finished for quantile: 0.975\n"
     ]
    }
   ],
   "source": [
    "trained_models = create_all_models(train_data, train_target, (val_data, val_target))"
   ]
  },
  {
   "cell_type": "markdown",
   "id": "77040432-055d-4329-b3c5-832009a895bc",
   "metadata": {},
   "source": [
    "# Predict test data"
   ]
  },
  {
   "cell_type": "code",
   "execution_count": 15,
   "id": "4d5b603f-9ae8-4e1c-ad60-3fe8cb878c1d",
   "metadata": {},
   "outputs": [],
   "source": [
    "predictions = dict()\n",
    "for quantile in quantiles:\n",
    "    pred = trained_models[quantile].predict(test_data)\n",
    "    predictions[quantile] = pred"
   ]
  },
  {
   "cell_type": "markdown",
   "id": "aa06d9e6-501e-4dc9-9774-e2eeb9f3df0d",
   "metadata": {},
   "source": [
    "## Evaluate pinball loss for naive prediction"
   ]
  },
  {
   "cell_type": "code",
   "execution_count": 16,
   "id": "1c292058-fa01-498e-947c-513092bb5be0",
   "metadata": {},
   "outputs": [
    {
     "name": "stdout",
     "output_type": "stream",
     "text": [
      "Pinball loss for quantile 0.025 : \t 0.01504019309356905\n",
      "Pinball loss for quantile 0.25 : \t 0.05320266036452158\n",
      "Pinball loss for quantile 0.5 : \t 0.06394653946409957\n",
      "Pinball loss for quantile 0.75 : \t 0.05288566459588374\n",
      "Pinball loss for quantile 0.975 : \t 0.016231234855670993\n",
      "Pinball Loss total: 0.040261258474748984\n"
     ]
    }
   ],
   "source": [
    "total_loss = 0\n",
    "naive_pred = np.quantile(test_data[0], quantiles, axis = 1)\n",
    "for cnt,quantile in enumerate(quantiles):\n",
    "    loss = mean_pinball_loss(np.squeeze(test_target), naive_pred[cnt], alpha = quantile)\n",
    "    total_loss += loss\n",
    "    print(\"Pinball loss for quantile {} : \\t {}\".format(quantile,loss))\n",
    "print(\"Pinball Loss total: {}\".format(total_loss/len(quantiles)))"
   ]
  },
  {
   "cell_type": "markdown",
   "id": "d35c449a-9d86-4c65-bf50-70fe9e426cd7",
   "metadata": {},
   "source": [
    "## Pinball Loss"
   ]
  },
  {
   "cell_type": "markdown",
   "id": "fc7b0440-1857-44b8-bf9a-ba004d23deca",
   "metadata": {},
   "source": [
    "### All horizons"
   ]
  },
  {
   "cell_type": "code",
   "execution_count": 17,
   "id": "dedbcd7d-de28-4b17-a90f-a633a40163cc",
   "metadata": {},
   "outputs": [
    {
     "name": "stdout",
     "output_type": "stream",
     "text": [
      "Pinball loss for quantile 0.025 : \t 0.010252307591973191\n",
      "Pinball loss for quantile 0.25 : \t 0.0497844646755115\n",
      "Pinball loss for quantile 0.5 : \t 0.06066117424003985\n",
      "Pinball loss for quantile 0.75 : \t 0.04937437300609751\n",
      "Pinball loss for quantile 0.975 : \t 0.009789063109949401\n",
      "Pinball Loss total: 0.03597227652471429\n"
     ]
    }
   ],
   "source": [
    "total_loss = 0\n",
    "for quantile in quantiles:\n",
    "    loss = mean_pinball_loss(test_target.reshape(-1), predictions[quantile].reshape(-1), alpha = quantile)\n",
    "    total_loss += loss\n",
    "    print(\"Pinball loss for quantile {} : \\t {}\".format(quantile,loss))\n",
    "print(\"Pinball Loss total: {}\".format(total_loss/len(quantiles)))"
   ]
  },
  {
   "cell_type": "markdown",
   "id": "07bbcec0-4362-4516-a220-0552e8f26741",
   "metadata": {},
   "source": [
    "### Specific horizons"
   ]
  },
  {
   "cell_type": "code",
   "execution_count": 18,
   "id": "7e7e6fb3-89f1-4a60-bdcd-abc98e3b1daa",
   "metadata": {},
   "outputs": [
    {
     "name": "stdout",
     "output_type": "stream",
     "text": [
      "Pinball loss for quantile 0.025 : \t 0.011303062391151041\n",
      "Pinball loss for quantile 0.25 : \t 0.055871733860264124\n",
      "Pinball loss for quantile 0.5 : \t 0.07004640555029555\n",
      "Pinball loss for quantile 0.75 : \t 0.05663968967436327\n",
      "Pinball loss for quantile 0.975 : \t 0.010673590010046157\n",
      "Pinball Loss total: 0.040906896297224035\n"
     ]
    }
   ],
   "source": [
    "eval_df = test_dataframe[[\"fcst_hour\",\"obs\"]].copy()\n",
    "eval_df[\"obs\"] = target_scaler.transform(eval_df[\"obs\"].to_numpy().reshape(-1,1))\n",
    "for quantile in quantiles:\n",
    "    eval_df[quantile] = predictions[quantile]\n",
    "eval_df = eval_df[eval_df[\"fcst_hour\"].isin(horizons)]\n",
    "\n",
    "total_loss = 0\n",
    "for quantile in quantiles:\n",
    "    loss = mean_pinball_loss(eval_df[\"obs\"], eval_df[quantile], alpha = quantile)\n",
    "    total_loss += loss\n",
    "    print(\"Pinball loss for quantile {} : \\t {}\".format(quantile,loss))\n",
    "print(\"Pinball Loss total: {}\".format(total_loss/len(quantiles)))"
   ]
  },
  {
   "cell_type": "markdown",
   "id": "77f1cbc6-a34a-4719-bd4d-f164a8ae4029",
   "metadata": {},
   "source": [
    "## Plausability"
   ]
  },
  {
   "cell_type": "markdown",
   "id": "bee93304-2b5f-4a5f-a329-e14556854d06",
   "metadata": {},
   "source": [
    "### All horizons"
   ]
  },
  {
   "cell_type": "code",
   "execution_count": 19,
   "id": "bdbf0f5a-5eed-4f66-b62a-c54cc195a909",
   "metadata": {},
   "outputs": [
    {
     "name": "stdout",
     "output_type": "stream",
     "text": [
      "Quantile met for quantile = 0.025: \t 1.5599999999999998 %\n",
      "Quantile met for quantile = 0.25: \t 21.65 %\n",
      "Quantile met for quantile = 0.5: \t 50.05 %\n",
      "Quantile met for quantile = 0.75: \t 80.71000000000001 %\n",
      "Quantile met for quantile = 0.975: \t 98.87 %\n"
     ]
    }
   ],
   "source": [
    "for quantile in quantiles:\n",
    "    q_smaller = (predictions[quantile] > test_target).sum()\n",
    "    emp_quant = q_smaller / predictions[quantile].size\n",
    "    print(\"Quantile met for quantile = {}: \\t {} %\".format(quantile, np.round(emp_quant,4)*100))"
   ]
  },
  {
   "cell_type": "markdown",
   "id": "1bedf2ef-32f9-4bd2-83e6-120e70188ce5",
   "metadata": {},
   "source": [
    "### Specific horizons"
   ]
  },
  {
   "cell_type": "code",
   "execution_count": 20,
   "id": "1498f74a-02e6-42c2-a709-e11e25bdd157",
   "metadata": {},
   "outputs": [
    {
     "name": "stdout",
     "output_type": "stream",
     "text": [
      "Quantile met for quantile = 0.025: \t 2.1399999999999997 %\n",
      "Quantile met for quantile = 0.25: \t 23.419999999999998 %\n",
      "Quantile met for quantile = 0.5: \t 50.0 %\n",
      "Quantile met for quantile = 0.75: \t 79.74 %\n",
      "Quantile met for quantile = 0.975: \t 99.08 %\n"
     ]
    }
   ],
   "source": [
    "for quantile in quantiles:\n",
    "    q_smaller = (eval_df[quantile] > eval_df[\"obs\"]).sum()\n",
    "    emp_quant = q_smaller / eval_df[quantile].size\n",
    "    print(\"Quantile met for quantile = {}: \\t {} %\".format(quantile, np.round(emp_quant,4)*100))"
   ]
  },
  {
   "cell_type": "markdown",
   "id": "ab2911c2-d2a0-40dd-88e2-e82ae6661666",
   "metadata": {},
   "source": [
    "### Analyze crossing of quantiles"
   ]
  },
  {
   "cell_type": "code",
   "execution_count": 21,
   "id": "7c31faa4-d7e8-4f19-aa0b-9f71e4ff3c3c",
   "metadata": {},
   "outputs": [],
   "source": [
    "pred_total = np.zeros((predictions[0.025].shape[0],5))\n",
    "for cnt,quant in enumerate(quantiles):\n",
    "    pred_total[:,cnt] = np.squeeze(predictions[quant])"
   ]
  },
  {
   "cell_type": "code",
   "execution_count": 22,
   "id": "b48affc4-488a-42be-9055-855b4f325e28",
   "metadata": {},
   "outputs": [
    {
     "name": "stdout",
     "output_type": "stream",
     "text": [
      "Amount of wrongly specified quantiles in prediction: 1.0144%\n"
     ]
    }
   ],
   "source": [
    "#Group prediction\n",
    "perc_wrong_total = np.sum(np.diff(pred_total) < 0) / len(pred_total) * 100\n",
    "\n",
    "print(\"Amount of wrongly specified quantiles in prediction: {:.4f}%\".format(perc_wrong_total))"
   ]
  },
  {
   "cell_type": "markdown",
   "id": "57334dab-8d7b-48b8-bfdb-299c3477cc0c",
   "metadata": {},
   "source": [
    "## Visualize predictions"
   ]
  },
  {
   "cell_type": "code",
   "execution_count": 23,
   "id": "a06e776f-ff12-42c2-956d-49d82a155573",
   "metadata": {},
   "outputs": [
    {
     "data": {
      "text/plain": [
       "<matplotlib.legend.Legend at 0x1a72135d7f0>"
      ]
     },
     "execution_count": 23,
     "metadata": {},
     "output_type": "execute_result"
    },
    {
     "data": {
      "image/png": "[encoded data removed]",
      "text/plain": [
       "<Figure size 1440x720 with 1 Axes>"
      ]
     },
     "metadata": {
      "needs_background": "light"
     },
     "output_type": "display_data"
    }
   ],
   "source": [
    "# Create plotting dataframe\n",
    "data_plot = test_dataframe[[\"obs_tm\",\"obs\",\"fcst_hour\"]].copy()\n",
    "for cnt, quantile in enumerate(quantiles):\n",
    "    data_plot[\"q{}\".format(quantile)] = target_scaler.inverse_transform(predictions[quantile]).reshape(-1)\n",
    "\n",
    "#Extract horizon\n",
    "h=72\n",
    "data_plot = data_plot[data_plot[\"fcst_hour\"]==h]\n",
    "\n",
    "fig, axs = plt.subplots(figsize = (20,10))\n",
    "sns.scatterplot(x = \"obs_tm\", y = \"obs\", data = data_plot, label = \"True value\")\n",
    "sns.scatterplot(x = \"obs_tm\", y = \"q0.5\", data = data_plot, label = \"50% quantile\")\n",
    "sns.scatterplot(x = \"obs_tm\", y = \"q0.025\", data = data_plot, color = \"blue\", label = \"95% interval\")\n",
    "sns.scatterplot(x = \"obs_tm\", y = \"q0.975\", data = data_plot, color = \"blue\")\n",
    "\n",
    "sns.scatterplot(x = \"obs_tm\", y = \"q0.25\", data = data_plot, color = \"green\", label = \"50% interval\")\n",
    "sns.scatterplot(x = \"obs_tm\", y = \"q0.75\", data = data_plot, color = \"green\")\n",
    "axs.set_title(\"Plot for horizon: h = {}\".format(h),size = 17)\n",
    "axs.legend()"
   ]
  },
  {
   "cell_type": "markdown",
   "id": "e3aa53c3-7838-4d56-b1df-d3bc626bdd52",
   "metadata": {},
   "source": [
    "# Predict new data"
   ]
  },
  {
   "cell_type": "markdown",
   "id": "9e557515-41c9-4fff-8e2b-e9d3b44837de",
   "metadata": {
    "tags": []
   },
   "source": [
    "## Train on complete data"
   ]
  },
  {
   "cell_type": "code",
   "execution_count": 24,
   "id": "1b9b4ac5-2dd0-44ce-89a4-4e7f3362d0dc",
   "metadata": {},
   "outputs": [],
   "source": [
    "train_data, train_target = convert_format(train_val)\n",
    "val_data, val_target = convert_format(test)"
   ]
  },
  {
   "cell_type": "code",
   "execution_count": 25,
   "id": "39bec11b-7fba-4209-923d-85d082a1ec03",
   "metadata": {},
   "outputs": [
    {
     "name": "stdout",
     "output_type": "stream",
     "text": [
      "Training finished for quantile: 0.025\n",
      "Fine tuning finished for quantile: 0.025\n",
      "Training finished for quantile: 0.25\n",
      "Fine tuning finished for quantile: 0.25\n",
      "Training finished for quantile: 0.5\n",
      "Fine tuning finished for quantile: 0.5\n",
      "Training finished for quantile: 0.75\n",
      "Fine tuning finished for quantile: 0.75\n",
      "Training finished for quantile: 0.975\n",
      "Fine tuning finished for quantile: 0.975\n"
     ]
    }
   ],
   "source": [
    "trained_models = create_all_models(train_data, train_target, (val_data, val_target))"
   ]
  },
  {
   "cell_type": "markdown",
   "id": "6c62998b-cc46-461b-b433-a5a42a637265",
   "metadata": {},
   "source": [
    "## Predict new data"
   ]
  },
  {
   "cell_type": "code",
   "execution_count": 26,
   "id": "766e47da-37bc-4465-b36a-1990b4820fb5",
   "metadata": {},
   "outputs": [],
   "source": [
    "current_date = date.today().strftime(\"%Y%m%d\")\n",
    "path = \"data/berlin_data/icon_data/icon-eu-eps_{}00_t_2m_Berlin.txt\".format(current_date)\n",
    "new_data = pd.read_csv(path.format(current_date.replace(\"-\",\"\")), skiprows = 3, sep = \"|\").dropna(axis = 1)\n",
    "new_data.columns = new_data.columns.str.replace(\" \", \"\")\n",
    "new_data = new_data[new_data[\"fcst_hour\"].isin(horizons)]\n",
    "#Create positional encoding\n",
    "date_list = [(date.today()+timedelta(x)) for x in horizons]\n",
    "new_data[\"day\"] = pd.DatetimeIndex(date_list).dayofyear\n",
    "new_data[\"pos_enc_1\"] = np.sin(2*math.pi*new_data[\"day\"]/365)\n",
    "new_data[\"pos_enc_2\"] = np.cos(2*math.pi*new_data[\"day\"]/365)\n",
    "new_data.drop(\"day\", axis = 1, inplace = True)\n",
    "# Normalize and get horizons\n",
    "new_data = new_data[new_data[\"fcst_hour\"].isin(horizons)].to_numpy()\n",
    "new_data[:,1:] = feature_scaler.transform(new_data[:,1:])\n",
    "new_data[:,0] = label_encoder.transform(new_data[:,0])"
   ]
  },
  {
   "cell_type": "code",
   "execution_count": 27,
   "id": "7d47376d-15f3-41d4-bb62-7c6b26fd78b7",
   "metadata": {},
   "outputs": [],
   "source": [
    "pred_data = convert_format(new_data, predict = True)"
   ]
  },
  {
   "cell_type": "code",
   "execution_count": 28,
   "id": "81cc69c7-8540-47c6-be2f-cfd97b244c7a",
   "metadata": {},
   "outputs": [],
   "source": [
    "#Prepare dataframe\n",
    "final_prediction = pd.DataFrame(columns = [\"forecast_date\",\"target\",\"horizon\",\"q0.025\",\"q0.25\",\"q0.5\",\"q0.75\",\"q0.975\"], index = np.arange(0,5))\n",
    "final_prediction[\"forecast_date\"] = datetime.today().strftime(\"%Y-%m-%d\")\n",
    "final_prediction[\"horizon\"] = [\"{} hour\".format(x) for x in horizons]\n",
    "final_prediction[\"target\"] = \"temperature\""
   ]
  },
  {
   "cell_type": "code",
   "execution_count": 29,
   "id": "fa59a62f-fb9b-45e9-aa3e-cf8fbb366c34",
   "metadata": {},
   "outputs": [
    {
     "name": "stdout",
     "output_type": "stream",
     "text": [
      "WARNING:tensorflow:5 out of the last 408 calls to <function Model.make_predict_function.<locals>.predict_function at 0x000001A725FA3B80> triggered tf.function retracing. Tracing is expensive and the excessive number of tracings could be due to (1) creating @tf.function repeatedly in a loop, (2) passing tensors with different shapes, (3) passing Python objects instead of tensors. For (1), please define your @tf.function outside of the loop. For (2), @tf.function has experimental_relax_shapes=True option that relaxes argument shapes that can avoid unnecessary retracing. For (3), please refer to https://www.tensorflow.org/guide/function#controlling_retracing and https://www.tensorflow.org/api_docs/python/tf/function for  more details.\n",
      "WARNING:tensorflow:6 out of the last 409 calls to <function Model.make_predict_function.<locals>.predict_function at 0x000001A726434040> triggered tf.function retracing. Tracing is expensive and the excessive number of tracings could be due to (1) creating @tf.function repeatedly in a loop, (2) passing tensors with different shapes, (3) passing Python objects instead of tensors. For (1), please define your @tf.function outside of the loop. For (2), @tf.function has experimental_relax_shapes=True option that relaxes argument shapes that can avoid unnecessary retracing. For (3), please refer to https://www.tensorflow.org/guide/function#controlling_retracing and https://www.tensorflow.org/api_docs/python/tf/function for  more details.\n"
     ]
    }
   ],
   "source": [
    "for cnt, quantile in enumerate(quantiles):\n",
    "    #Get prediction\n",
    "    prediction = trained_models[quantile].predict(pred_data)\n",
    "    #Retransform\n",
    "    final_pred = target_scaler.inverse_transform(prediction)\n",
    "    final_prediction.loc[:,\"q{}\".format(quantile)] = final_pred"
   ]
  },
  {
   "cell_type": "code",
   "execution_count": 30,
   "id": "4b85780f-828b-4b27-800f-a70956cf7b8e",
   "metadata": {},
   "outputs": [
    {
     "data": {
      "text/html": [
       "<div>\n",
       "<style scoped>\n",
       "    .dataframe tbody tr th:only-of-type {\n",
       "        vertical-align: middle;\n",
       "    }\n",
       "\n",
       "    .dataframe tbody tr th {\n",
       "        vertical-align: top;\n",
       "    }\n",
       "\n",
       "    .dataframe thead th {\n",
       "        text-align: right;\n",
       "    }\n",
       "</style>\n",
       "<table border=\"1\" class=\"dataframe\">\n",
       "  <thead>\n",
       "    <tr style=\"text-align: right;\">\n",
       "      <th></th>\n",
       "      <th>forecast_date</th>\n",
       "      <th>target</th>\n",
       "      <th>horizon</th>\n",
       "      <th>q0.025</th>\n",
       "      <th>q0.25</th>\n",
       "      <th>q0.5</th>\n",
       "      <th>q0.75</th>\n",
       "      <th>q0.975</th>\n",
       "    </tr>\n",
       "  </thead>\n",
       "  <tbody>\n",
       "    <tr>\n",
       "      <th>0</th>\n",
       "      <td>2021-12-22</td>\n",
       "      <td>temperature</td>\n",
       "      <td>36 hour</td>\n",
       "      <td>-3.266139</td>\n",
       "      <td>-0.576967</td>\n",
       "      <td>0.522983</td>\n",
       "      <td>1.522225</td>\n",
       "      <td>3.171143</td>\n",
       "    </tr>\n",
       "    <tr>\n",
       "      <th>1</th>\n",
       "      <td>2021-12-22</td>\n",
       "      <td>temperature</td>\n",
       "      <td>48 hour</td>\n",
       "      <td>-2.623967</td>\n",
       "      <td>0.667200</td>\n",
       "      <td>1.345534</td>\n",
       "      <td>2.358640</td>\n",
       "      <td>4.067821</td>\n",
       "    </tr>\n",
       "    <tr>\n",
       "      <th>2</th>\n",
       "      <td>2021-12-22</td>\n",
       "      <td>temperature</td>\n",
       "      <td>60 hour</td>\n",
       "      <td>-1.832837</td>\n",
       "      <td>2.664071</td>\n",
       "      <td>3.339573</td>\n",
       "      <td>5.585933</td>\n",
       "      <td>6.925385</td>\n",
       "    </tr>\n",
       "    <tr>\n",
       "      <th>3</th>\n",
       "      <td>2021-12-22</td>\n",
       "      <td>temperature</td>\n",
       "      <td>72 hour</td>\n",
       "      <td>-4.376172</td>\n",
       "      <td>-0.202460</td>\n",
       "      <td>0.640282</td>\n",
       "      <td>2.834351</td>\n",
       "      <td>5.637070</td>\n",
       "    </tr>\n",
       "    <tr>\n",
       "      <th>4</th>\n",
       "      <td>2021-12-22</td>\n",
       "      <td>temperature</td>\n",
       "      <td>84 hour</td>\n",
       "      <td>-4.931462</td>\n",
       "      <td>-1.217430</td>\n",
       "      <td>0.263290</td>\n",
       "      <td>2.048362</td>\n",
       "      <td>5.066379</td>\n",
       "    </tr>\n",
       "  </tbody>\n",
       "</table>\n",
       "</div>"
      ],
      "text/plain": [
       "  forecast_date       target  horizon    q0.025     q0.25      q0.5     q0.75  \\\n",
       "0    2021-12-22  temperature  36 hour -3.266139 -0.576967  0.522983  1.522225   \n",
       "1    2021-12-22  temperature  48 hour -2.623967  0.667200  1.345534  2.358640   \n",
       "2    2021-12-22  temperature  60 hour -1.832837  2.664071  3.339573  5.585933   \n",
       "3    2021-12-22  temperature  72 hour -4.376172 -0.202460  0.640282  2.834351   \n",
       "4    2021-12-22  temperature  84 hour -4.931462 -1.217430  0.263290  2.048362   \n",
       "\n",
       "     q0.975  \n",
       "0  3.171143  \n",
       "1  4.067821  \n",
       "2  6.925385  \n",
       "3  5.637070  \n",
       "4  5.066379  "
      ]
     },
     "execution_count": 30,
     "metadata": {},
     "output_type": "execute_result"
    }
   ],
   "source": [
    "final_prediction"
   ]
  },
  {
   "cell_type": "code",
   "execution_count": 31,
   "id": "95977220-fde7-4cd4-a1e9-47330f8d52bf",
   "metadata": {},
   "outputs": [
    {
     "data": {
      "text/plain": [
       "36   -0.36\n",
       "48    0.83\n",
       "52    3.47\n",
       "56    0.18\n",
       "58   -0.34\n",
       "Name: 0.5, dtype: float64"
      ]
     },
     "execution_count": 31,
     "metadata": {},
     "output_type": "execute_result"
    }
   ],
   "source": [
    "new_data = pd.read_csv(path.format(current_date.replace(\"-\",\"\")), skiprows = 3, sep = \"|\").dropna(axis = 1)\n",
    "new_data.columns = new_data.columns.str.replace(\" \", \"\")\n",
    "new_data[new_data[\"fcst_hour\"].isin(horizons)].quantile(0.5, axis = 1)"
   ]
  },
  {
   "cell_type": "code",
   "execution_count": 32,
   "id": "d25019c0-38cc-4bae-9aff-24414fda88fb",
   "metadata": {},
   "outputs": [],
   "source": [
    "final_prediction.to_pickle(\"../evaluation/predictions/single/{}_{}\".format(\"temperature\", date.today().strftime(\"%Y-%m-%d\")))"
   ]
  },
  {
   "cell_type": "code",
   "execution_count": null,
   "id": "171f61e2-6f31-4586-9208-724379da9218",
   "metadata": {},
   "outputs": [],
   "source": []
  },
  {
   "cell_type": "markdown",
   "id": "6a706b55-1332-448e-9f11-fab023928c75",
   "metadata": {},
   "source": [
    "# Old code"
   ]
  },
  {
   "cell_type": "markdown",
   "id": "8950c0c7-dd4e-44f8-baf6-8e17c9a7cc45",
   "metadata": {},
   "source": [
    "## Check relationship with time"
   ]
  },
  {
   "cell_type": "code",
   "execution_count": 33,
   "id": "847f1804-adcd-40d2-9198-e6a64cd70d26",
   "metadata": {},
   "outputs": [
    {
     "ename": "KeyError",
     "evalue": "0",
     "output_type": "error",
     "traceback": [
      "\u001b[1;31m---------------------------------------------------------------------------\u001b[0m",
      "\u001b[1;31mKeyError\u001b[0m                                  Traceback (most recent call last)",
      "\u001b[1;32m~\\AppData\\Local\\Temp/ipykernel_5860/3200768872.py\u001b[0m in \u001b[0;36m<module>\u001b[1;34m\u001b[0m\n\u001b[0;32m      3\u001b[0m \u001b[1;32mfor\u001b[0m \u001b[0mcnt\u001b[0m\u001b[1;33m,\u001b[0m \u001b[0mquantile\u001b[0m \u001b[1;32min\u001b[0m \u001b[0menumerate\u001b[0m\u001b[1;33m(\u001b[0m\u001b[0mquantiles\u001b[0m\u001b[1;33m)\u001b[0m\u001b[1;33m:\u001b[0m\u001b[1;33m\u001b[0m\u001b[1;33m\u001b[0m\u001b[0m\n\u001b[0;32m      4\u001b[0m     \u001b[1;31m#Renormalize and calculate forecast error\u001b[0m\u001b[1;33m\u001b[0m\u001b[1;33m\u001b[0m\u001b[1;33m\u001b[0m\u001b[0m\n\u001b[1;32m----> 5\u001b[1;33m     \u001b[0merror\u001b[0m \u001b[1;33m=\u001b[0m \u001b[0mmean_pinball_loss\u001b[0m\u001b[1;33m(\u001b[0m\u001b[0mtest_dataframe\u001b[0m\u001b[1;33m[\u001b[0m\u001b[1;34m\"obs\"\u001b[0m\u001b[1;33m]\u001b[0m\u001b[1;33m.\u001b[0m\u001b[0mto_numpy\u001b[0m\u001b[1;33m(\u001b[0m\u001b[1;33m)\u001b[0m\u001b[1;33m.\u001b[0m\u001b[0mreshape\u001b[0m\u001b[1;33m(\u001b[0m\u001b[1;36m1\u001b[0m\u001b[1;33m,\u001b[0m\u001b[1;33m-\u001b[0m\u001b[1;36m1\u001b[0m\u001b[1;33m)\u001b[0m\u001b[1;33m,\u001b[0m \u001b[0mtarget_scaler\u001b[0m\u001b[1;33m.\u001b[0m\u001b[0minverse_transform\u001b[0m\u001b[1;33m(\u001b[0m\u001b[0mpredictions\u001b[0m\u001b[1;33m[\u001b[0m\u001b[0mcnt\u001b[0m\u001b[1;33m]\u001b[0m\u001b[1;33m)\u001b[0m\u001b[1;33m.\u001b[0m\u001b[0mreshape\u001b[0m\u001b[1;33m(\u001b[0m\u001b[1;36m1\u001b[0m\u001b[1;33m,\u001b[0m\u001b[1;33m-\u001b[0m\u001b[1;36m1\u001b[0m\u001b[1;33m)\u001b[0m\u001b[1;33m,\u001b[0m \u001b[0mmultioutput\u001b[0m\u001b[1;33m=\u001b[0m\u001b[1;34m\"raw_values\"\u001b[0m\u001b[1;33m,\u001b[0m \u001b[0malpha\u001b[0m\u001b[1;33m=\u001b[0m\u001b[0mquantile\u001b[0m\u001b[1;33m)\u001b[0m\u001b[1;33m\u001b[0m\u001b[1;33m\u001b[0m\u001b[0m\n\u001b[0m\u001b[0;32m      6\u001b[0m     \u001b[0mtest_dataframe\u001b[0m\u001b[1;33m[\u001b[0m\u001b[1;34m\"Forecast_error\"\u001b[0m\u001b[1;33m]\u001b[0m \u001b[1;33m=\u001b[0m \u001b[0merror\u001b[0m\u001b[1;33m\u001b[0m\u001b[1;33m\u001b[0m\u001b[0m\n\u001b[0;32m      7\u001b[0m     \u001b[0mtest_dataframe\u001b[0m\u001b[1;33m[\u001b[0m\u001b[1;34m\"day\"\u001b[0m\u001b[1;33m]\u001b[0m \u001b[1;33m=\u001b[0m \u001b[0mpd\u001b[0m\u001b[1;33m.\u001b[0m\u001b[0mDatetimeIndex\u001b[0m\u001b[1;33m(\u001b[0m\u001b[0mtest_dataframe\u001b[0m\u001b[1;33m[\u001b[0m\u001b[1;34m\"obs_tm\"\u001b[0m\u001b[1;33m]\u001b[0m\u001b[1;33m)\u001b[0m\u001b[1;33m.\u001b[0m\u001b[0mdayofyear\u001b[0m\u001b[1;33m\u001b[0m\u001b[1;33m\u001b[0m\u001b[0m\n",
      "\u001b[1;31mKeyError\u001b[0m: 0"
     ]
    },
    {
     "data": {
      "image/png": "[encoded data removed]",
      "text/plain": [
       "<Figure size 1800x1080 with 6 Axes>"
      ]
     },
     "metadata": {
      "needs_background": "light"
     },
     "output_type": "display_data"
    }
   ],
   "source": [
    "fig, ax = plt.subplots(2,3,figsize=(25,15))\n",
    "ax = ax.ravel()\n",
    "for cnt, quantile in enumerate(quantiles):\n",
    "    #Renormalize and calculate forecast error\n",
    "    error = mean_pinball_loss(test_dataframe[\"obs\"].to_numpy().reshape(1,-1), target_scaler.inverse_transform(predictions[cnt]).reshape(1,-1), multioutput=\"raw_values\", alpha=quantile)\n",
    "    test_dataframe[\"Forecast_error\"] = error\n",
    "    test_dataframe[\"day\"] = pd.DatetimeIndex(test_dataframe[\"obs_tm\"]).dayofyear\n",
    "    plot = test_dataframe.groupby(\"day\").mean().reset_index()\n",
    "\n",
    "    sns.regplot(x = \"day\", y = \"Forecast_error\", data=plot, ax = ax[cnt])\n",
    "    ax[cnt].set_xlabel(\"Day of year\",size = 15)\n",
    "    ax[cnt].set_ylabel(\"Forecast error\", size = 17)\n",
    "    ax[cnt].set_title(\"Correlation for q = {}\".format(quantile),size = 20)\n",
    "    r = stats.pearsonr(plot[\"day\"], plot[\"Forecast_error\"])[0]\n",
    "    rho = stats.spearmanr(plot[\"day\"], plot[\"Forecast_error\"])[0]\n",
    "    ax[cnt].annotate('Correlation:\\nr = {:.4f}\\n'.format(r)+r'$\\rho$ = {:.4f}'.format(rho),xy = (.01,.02), xycoords=ax[cnt].transAxes, size = 15)\n",
    "    \n",
    "plt.savefig(\"temp_time_correlation_plot.pdf\", dpi=300)"
   ]
  },
  {
   "cell_type": "code",
   "execution_count": null,
   "id": "33cd0d39-9e8d-446a-9ac6-c329c3bf9d5e",
   "metadata": {},
   "outputs": [],
   "source": []
  }
 ],
 "metadata": {
  "kernelspec": {
   "display_name": "Python 3 (ipykernel)",
   "language": "python",
   "name": "python3"
  },
  "language_info": {
   "codemirror_mode": {
    "name": "ipython",
    "version": 3
   },
   "file_extension": ".py",
   "mimetype": "text/x-python",
   "name": "python",
   "nbconvert_exporter": "python",
   "pygments_lexer": "ipython3",
   "version": "3.8.8"
  }
 },
 "nbformat": 4,
 "nbformat_minor": 5
}
