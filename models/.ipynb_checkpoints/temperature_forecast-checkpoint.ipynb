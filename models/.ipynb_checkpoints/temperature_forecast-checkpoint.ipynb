{
 "cells": [
  {
   "cell_type": "code",
   "execution_count": 1,
   "id": "5dcc675b-a528-47d8-817d-66cd81b07b81",
   "metadata": {},
   "outputs": [],
   "source": [
    "import pandas as pd\n",
    "import numpy as np\n",
    "import time\n",
    "import matplotlib.pyplot as plt\n",
    "import seaborn as sns\n",
    "from datetime import date, datetime, timedelta\n",
    "import tensorflow as tf\n",
    "from tensorflow import keras\n",
    "from tensorflow.keras.layers import *\n",
    "from tensorflow.keras.models import Model\n",
    "import random\n",
    "from sklearn.model_selection import train_test_split\n",
    "import tensorflow.keras.backend as K\n",
    "from scipy.stats import norm\n",
    "from sklearn.metrics import mean_pinball_loss\n",
    "from scipy import stats\n",
    "import math\n",
    "import statsmodels.formula.api as smf\n",
    "\n",
    "#Import own code\n",
    "from losses import *\n",
    "from models import wind_temp_model, train_wind_temp_model, aggregate_wind_temp\n",
    "from utils import normalize_wind_temp_data, convert_wind_temp_format"
   ]
  },
  {
   "cell_type": "code",
   "execution_count": 2,
   "id": "72a7bd45-3634-4ef0-9ea6-38c2b9c97c06",
   "metadata": {},
   "outputs": [],
   "source": [
    "quantiles = [0.025, 0.25, 0.5, 0.75, 0.975]\n",
    "horizons = [36, 48 ,60, 72, 84]"
   ]
  },
  {
   "cell_type": "markdown",
   "id": "e4510d11-04a6-4c31-a2ec-0b842336dafc",
   "metadata": {},
   "source": [
    "# Prepare data"
   ]
  },
  {
   "cell_type": "code",
   "execution_count": 3,
   "id": "33903f39-2172-42bf-8827-7ec99afc0f3c",
   "metadata": {},
   "outputs": [
    {
     "data": {
      "text/html": [
       "<div>\n",
       "<style scoped>\n",
       "    .dataframe tbody tr th:only-of-type {\n",
       "        vertical-align: middle;\n",
       "    }\n",
       "\n",
       "    .dataframe tbody tr th {\n",
       "        vertical-align: top;\n",
       "    }\n",
       "\n",
       "    .dataframe thead th {\n",
       "        text-align: right;\n",
       "    }\n",
       "</style>\n",
       "<table border=\"1\" class=\"dataframe\">\n",
       "  <thead>\n",
       "    <tr style=\"text-align: right;\">\n",
       "      <th></th>\n",
       "      <th>init_tm</th>\n",
       "      <th>met_var</th>\n",
       "      <th>location</th>\n",
       "      <th>fcst_hour</th>\n",
       "      <th>obs_tm</th>\n",
       "      <th>obs</th>\n",
       "      <th>ens_1</th>\n",
       "      <th>ens_2</th>\n",
       "      <th>ens_3</th>\n",
       "      <th>ens_4</th>\n",
       "      <th>...</th>\n",
       "      <th>ens_33</th>\n",
       "      <th>ens_34</th>\n",
       "      <th>ens_35</th>\n",
       "      <th>ens_36</th>\n",
       "      <th>ens_37</th>\n",
       "      <th>ens_38</th>\n",
       "      <th>ens_39</th>\n",
       "      <th>ens_40</th>\n",
       "      <th>ens_mean</th>\n",
       "      <th>ens_var</th>\n",
       "    </tr>\n",
       "  </thead>\n",
       "  <tbody>\n",
       "    <tr>\n",
       "      <th>0</th>\n",
       "      <td>2018-12-13 00:00:00+00:00</td>\n",
       "      <td>t_2m</td>\n",
       "      <td>Berlin</td>\n",
       "      <td>0.0</td>\n",
       "      <td>2018-12-13 00:00:00+00:00</td>\n",
       "      <td>2.3</td>\n",
       "      <td>0.05</td>\n",
       "      <td>0.03</td>\n",
       "      <td>0.32</td>\n",
       "      <td>0.61</td>\n",
       "      <td>...</td>\n",
       "      <td>0.30</td>\n",
       "      <td>-0.03</td>\n",
       "      <td>0.44</td>\n",
       "      <td>0.42</td>\n",
       "      <td>0.05</td>\n",
       "      <td>0.47</td>\n",
       "      <td>0.51</td>\n",
       "      <td>0.74</td>\n",
       "      <td>0.34500</td>\n",
       "      <td>0.148036</td>\n",
       "    </tr>\n",
       "    <tr>\n",
       "      <th>1</th>\n",
       "      <td>2018-12-13 00:00:00+00:00</td>\n",
       "      <td>t_2m</td>\n",
       "      <td>Berlin</td>\n",
       "      <td>1.0</td>\n",
       "      <td>2018-12-13 01:00:00+00:00</td>\n",
       "      <td>2.3</td>\n",
       "      <td>0.06</td>\n",
       "      <td>0.00</td>\n",
       "      <td>0.34</td>\n",
       "      <td>0.51</td>\n",
       "      <td>...</td>\n",
       "      <td>0.13</td>\n",
       "      <td>0.05</td>\n",
       "      <td>0.39</td>\n",
       "      <td>0.38</td>\n",
       "      <td>0.04</td>\n",
       "      <td>0.38</td>\n",
       "      <td>0.33</td>\n",
       "      <td>0.60</td>\n",
       "      <td>0.30125</td>\n",
       "      <td>0.162580</td>\n",
       "    </tr>\n",
       "    <tr>\n",
       "      <th>2</th>\n",
       "      <td>2018-12-13 00:00:00+00:00</td>\n",
       "      <td>t_2m</td>\n",
       "      <td>Berlin</td>\n",
       "      <td>2.0</td>\n",
       "      <td>2018-12-13 02:00:00+00:00</td>\n",
       "      <td>2.2</td>\n",
       "      <td>0.10</td>\n",
       "      <td>0.11</td>\n",
       "      <td>0.40</td>\n",
       "      <td>0.45</td>\n",
       "      <td>...</td>\n",
       "      <td>0.08</td>\n",
       "      <td>0.15</td>\n",
       "      <td>0.57</td>\n",
       "      <td>0.37</td>\n",
       "      <td>0.08</td>\n",
       "      <td>0.42</td>\n",
       "      <td>0.31</td>\n",
       "      <td>0.57</td>\n",
       "      <td>0.32525</td>\n",
       "      <td>0.171626</td>\n",
       "    </tr>\n",
       "    <tr>\n",
       "      <th>3</th>\n",
       "      <td>2018-12-13 00:00:00+00:00</td>\n",
       "      <td>t_2m</td>\n",
       "      <td>Berlin</td>\n",
       "      <td>3.0</td>\n",
       "      <td>2018-12-13 03:00:00+00:00</td>\n",
       "      <td>2.2</td>\n",
       "      <td>0.12</td>\n",
       "      <td>0.32</td>\n",
       "      <td>0.48</td>\n",
       "      <td>0.42</td>\n",
       "      <td>...</td>\n",
       "      <td>0.05</td>\n",
       "      <td>0.19</td>\n",
       "      <td>0.68</td>\n",
       "      <td>0.32</td>\n",
       "      <td>0.08</td>\n",
       "      <td>0.28</td>\n",
       "      <td>0.35</td>\n",
       "      <td>0.60</td>\n",
       "      <td>0.31700</td>\n",
       "      <td>0.161878</td>\n",
       "    </tr>\n",
       "    <tr>\n",
       "      <th>4</th>\n",
       "      <td>2018-12-13 00:00:00+00:00</td>\n",
       "      <td>t_2m</td>\n",
       "      <td>Berlin</td>\n",
       "      <td>4.0</td>\n",
       "      <td>2018-12-13 04:00:00+00:00</td>\n",
       "      <td>2.1</td>\n",
       "      <td>0.11</td>\n",
       "      <td>0.57</td>\n",
       "      <td>0.54</td>\n",
       "      <td>0.35</td>\n",
       "      <td>...</td>\n",
       "      <td>0.03</td>\n",
       "      <td>0.17</td>\n",
       "      <td>0.76</td>\n",
       "      <td>0.30</td>\n",
       "      <td>0.10</td>\n",
       "      <td>0.11</td>\n",
       "      <td>0.34</td>\n",
       "      <td>0.56</td>\n",
       "      <td>0.29275</td>\n",
       "      <td>0.150544</td>\n",
       "    </tr>\n",
       "  </tbody>\n",
       "</table>\n",
       "<p>5 rows × 48 columns</p>\n",
       "</div>"
      ],
      "text/plain": [
       "                    init_tm met_var location  fcst_hour  \\\n",
       "0 2018-12-13 00:00:00+00:00    t_2m   Berlin        0.0   \n",
       "1 2018-12-13 00:00:00+00:00    t_2m   Berlin        1.0   \n",
       "2 2018-12-13 00:00:00+00:00    t_2m   Berlin        2.0   \n",
       "3 2018-12-13 00:00:00+00:00    t_2m   Berlin        3.0   \n",
       "4 2018-12-13 00:00:00+00:00    t_2m   Berlin        4.0   \n",
       "\n",
       "                     obs_tm  obs  ens_1  ens_2  ens_3  ens_4  ...  ens_33  \\\n",
       "0 2018-12-13 00:00:00+00:00  2.3   0.05   0.03   0.32   0.61  ...    0.30   \n",
       "1 2018-12-13 01:00:00+00:00  2.3   0.06   0.00   0.34   0.51  ...    0.13   \n",
       "2 2018-12-13 02:00:00+00:00  2.2   0.10   0.11   0.40   0.45  ...    0.08   \n",
       "3 2018-12-13 03:00:00+00:00  2.2   0.12   0.32   0.48   0.42  ...    0.05   \n",
       "4 2018-12-13 04:00:00+00:00  2.1   0.11   0.57   0.54   0.35  ...    0.03   \n",
       "\n",
       "   ens_34  ens_35  ens_36  ens_37  ens_38  ens_39  ens_40  ens_mean   ens_var  \n",
       "0   -0.03    0.44    0.42    0.05    0.47    0.51    0.74   0.34500  0.148036  \n",
       "1    0.05    0.39    0.38    0.04    0.38    0.33    0.60   0.30125  0.162580  \n",
       "2    0.15    0.57    0.37    0.08    0.42    0.31    0.57   0.32525  0.171626  \n",
       "3    0.19    0.68    0.32    0.08    0.28    0.35    0.60   0.31700  0.161878  \n",
       "4    0.17    0.76    0.30    0.10    0.11    0.34    0.56   0.29275  0.150544  \n",
       "\n",
       "[5 rows x 48 columns]"
      ]
     },
     "execution_count": 3,
     "metadata": {},
     "output_type": "execute_result"
    }
   ],
   "source": [
    "data = pd.read_feather(\"../data/berlin_data/historic_data/icon_eps_t_2m.feather\")\n",
    "\n",
    "data.dropna(inplace=True)\n",
    "data.head()"
   ]
  },
  {
   "cell_type": "markdown",
   "id": "596e7897-3be3-43ac-a61f-b3bcbad342ef",
   "metadata": {},
   "source": [
    "## Calculate positional encoding for day of year"
   ]
  },
  {
   "cell_type": "code",
   "execution_count": 4,
   "id": "d97f158e-3517-4952-828a-1274982f187b",
   "metadata": {},
   "outputs": [],
   "source": [
    "pos_enc = pd.DataFrame(index=pd.DatetimeIndex(data[\"obs_tm\"]))\n",
    "pos_enc[\"Dayofyear\"] = pos_enc.index.dayofyear\n",
    "pos_enc[\"n_days\"] = 365\n",
    "pos_enc.loc[pos_enc.index.year==2020,\"n_days\"] = 366\n",
    "#Calculate actual positional encoding\n",
    "cos_encoding = np.cos(2*math.pi*pos_enc[\"Dayofyear\"]/pos_enc[\"n_days\"])\n",
    "data[\"pos_enc_1\"] = cos_encoding.to_numpy()"
   ]
  },
  {
   "cell_type": "markdown",
   "id": "4a3556da-7ec8-4619-93f2-a911db38f0db",
   "metadata": {},
   "source": [
    "## Train, val, test split"
   ]
  },
  {
   "cell_type": "code",
   "execution_count": 5,
   "id": "bd6c0048-357c-4145-9a03-f78d32d81a91",
   "metadata": {},
   "outputs": [],
   "source": [
    "train_val_dataframe, test_dataframe = train_test_split(data, test_size = 0.2)\n",
    "train_dataframe, val_dataframe = train_test_split(data, test_size = 0.2)"
   ]
  },
  {
   "cell_type": "markdown",
   "id": "06dca02c-d2f6-4e83-b68b-a0f78e15466d",
   "metadata": {},
   "source": [
    "## Normalize and change format"
   ]
  },
  {
   "cell_type": "code",
   "execution_count": 7,
   "id": "3bab981b-fa00-4102-9f15-a7b9b6baf764",
   "metadata": {},
   "outputs": [],
   "source": [
    "train_val, label_encoder, feature_scaler, target_scaler = normalize_wind_temp_data(train_val_dataframe, learn = True)\n",
    "train= normalize_wind_temp_data(train_dataframe, label_encoder, feature_scaler, target_scaler)\n",
    "test = normalize_wind_temp_data(test_dataframe, label_encoder, feature_scaler, target_scaler)\n",
    "val = normalize_wind_temp_data(val_dataframe, label_encoder, feature_scaler, target_scaler)\n",
    "#Number of encodings\n",
    "n_encodings = len(np.unique(train[:,0]))"
   ]
  },
  {
   "cell_type": "code",
   "execution_count": 9,
   "id": "55bd7ffb-df12-420f-80f7-cab75ab53795",
   "metadata": {},
   "outputs": [],
   "source": [
    "train_data, train_target = convert_wind_temp_format(train)\n",
    "val_data, val_target = convert_wind_temp_format(val)\n",
    "test_data, test_target = convert_wind_temp_format(test)"
   ]
  },
  {
   "cell_type": "markdown",
   "id": "6afe6315-fa3a-4000-a2de-7c7714564f6e",
   "metadata": {},
   "source": [
    "# Build model"
   ]
  },
  {
   "cell_type": "markdown",
   "id": "b9d9752e-0b84-4fba-908e-c7f7634ae819",
   "metadata": {},
   "source": [
    "## Obtain optimal parameters"
   ]
  },
  {
   "cell_type": "code",
   "execution_count": 10,
   "id": "f2f9efad-6959-4bc6-837b-44b6f1fa17b1",
   "metadata": {},
   "outputs": [],
   "source": [
    "opt_params = {'alpha': 0.003228856882727001,\n",
    "              'batch_size': 7,\n",
    "              'dropout': 0.05,\n",
    "              'learning_rate': 0.0005,\n",
    "              'loss': 'huber',\n",
    "              'n_layers': 2,\n",
    "              'n_units_1': 64,\n",
    "              'n_units_2': 60}"
   ]
  },
  {
   "cell_type": "code",
   "execution_count": 11,
   "id": "2c401b24-2bb3-4032-8387-68d8759625eb",
   "metadata": {},
   "outputs": [],
   "source": [
    "batch_size = 2**opt_params[\"batch_size\"]\n",
    "epochs = 100\n",
    "learning_rate = opt_params[\"learning_rate\"]"
   ]
  },
  {
   "cell_type": "code",
   "execution_count": 12,
   "id": "7f6f3e9a-c04f-45c7-9e89-84f12337bc3e",
   "metadata": {},
   "outputs": [
    {
     "name": "stdout",
     "output_type": "stream",
     "text": [
      "Finished Training 1\n"
     ]
    }
   ],
   "source": [
    "predictions = aggregate_wind_temp(train_data, train_target, (val_data,val_target), test_data, batch_size, epochs, learning_rate,\n",
    "                                  n_encodings, opt_params, label_encoder, quantiles, horizons, n = 1)"
   ]
  },
  {
   "cell_type": "markdown",
   "id": "d35c449a-9d86-4c65-bf50-70fe9e426cd7",
   "metadata": {},
   "source": [
    "## Pinball Loss"
   ]
  },
  {
   "cell_type": "markdown",
   "id": "fc7b0440-1857-44b8-bf9a-ba004d23deca",
   "metadata": {},
   "source": [
    "### All horizons"
   ]
  },
  {
   "cell_type": "code",
   "execution_count": 13,
   "id": "dedbcd7d-de28-4b17-a90f-a633a40163cc",
   "metadata": {},
   "outputs": [
    {
     "name": "stdout",
     "output_type": "stream",
     "text": [
      "Pinball loss for quantile 0.025 : \t 0.009489052104375664\n",
      "Pinball loss for quantile 0.25 : \t 0.04699892887827311\n",
      "Pinball loss for quantile 0.5 : \t 0.05613891129958257\n",
      "Pinball loss for quantile 0.75 : \t 0.0442984241186709\n",
      "Pinball loss for quantile 0.975 : \t 0.008842945410604779\n",
      "Pinball Loss total: 0.0331536523623014\n"
     ]
    }
   ],
   "source": [
    "total_loss = 0\n",
    "for cnt,quantile in enumerate(quantiles):\n",
    "    loss = mean_pinball_loss(test_target.reshape(-1), predictions[:,cnt].reshape(-1), alpha = quantile)\n",
    "    total_loss += loss\n",
    "    print(\"Pinball loss for quantile {} : \\t {}\".format(quantile,loss))\n",
    "print(\"Pinball Loss total: {}\".format(total_loss/len(quantiles)))"
   ]
  },
  {
   "cell_type": "markdown",
   "id": "07bbcec0-4362-4516-a220-0552e8f26741",
   "metadata": {},
   "source": [
    "### Specific horizons"
   ]
  },
  {
   "cell_type": "code",
   "execution_count": 14,
   "id": "7e7e6fb3-89f1-4a60-bdcd-abc98e3b1daa",
   "metadata": {},
   "outputs": [
    {
     "name": "stdout",
     "output_type": "stream",
     "text": [
      "Pinball loss for quantile 0.025 : \t 0.009610110616448356\n",
      "Pinball loss for quantile 0.25 : \t 0.05207556668892051\n",
      "Pinball loss for quantile 0.5 : \t 0.06197241025440155\n",
      "Pinball loss for quantile 0.75 : \t 0.04870395701613168\n",
      "Pinball loss for quantile 0.975 : \t 0.009439158274888896\n",
      "Pinball Loss total: 0.0363602405701582\n"
     ]
    }
   ],
   "source": [
    "eval_df = test_dataframe[[\"fcst_hour\",\"obs\"]].copy()\n",
    "eval_df[\"obs\"] = target_scaler.transform(eval_df[\"obs\"].to_numpy().reshape(-1,1))\n",
    "for cnt,quantile in enumerate(quantiles):\n",
    "    eval_df[quantile] = predictions[:,cnt]\n",
    "eval_df = eval_df[eval_df[\"fcst_hour\"].isin(horizons)]\n",
    "\n",
    "total_loss = 0\n",
    "for cnt,quantile in enumerate(quantiles):\n",
    "    loss = mean_pinball_loss(eval_df[\"obs\"], eval_df[quantile], alpha = quantile)\n",
    "    total_loss += loss\n",
    "    print(\"Pinball loss for quantile {} : \\t {}\".format(quantile,loss))\n",
    "print(\"Pinball Loss total: {}\".format(total_loss/len(quantiles)))"
   ]
  },
  {
   "cell_type": "markdown",
   "id": "77f1cbc6-a34a-4719-bd4d-f164a8ae4029",
   "metadata": {},
   "source": [
    "## Plausability"
   ]
  },
  {
   "cell_type": "markdown",
   "id": "bee93304-2b5f-4a5f-a329-e14556854d06",
   "metadata": {
    "tags": []
   },
   "source": [
    "### All horizons"
   ]
  },
  {
   "cell_type": "code",
   "execution_count": 15,
   "id": "bdbf0f5a-5eed-4f66-b62a-c54cc195a909",
   "metadata": {},
   "outputs": [
    {
     "name": "stdout",
     "output_type": "stream",
     "text": [
      "Quantile met for quantile = 0.025: \t 2.06 %\n",
      "Quantile met for quantile = 0.25: \t 18.73 %\n",
      "Quantile met for quantile = 0.5: \t 43.5 %\n",
      "Quantile met for quantile = 0.75: \t 72.15 %\n",
      "Quantile met for quantile = 0.975: \t 97.42 %\n"
     ]
    }
   ],
   "source": [
    "for cnt,quantile in enumerate(quantiles):\n",
    "    q_smaller = (predictions[:,cnt] > test_target.flatten()).sum()\n",
    "    emp_quant = q_smaller / predictions[:,cnt].size\n",
    "    print(\"Quantile met for quantile = {}: \\t {} %\".format(quantile, np.round(emp_quant,4)*100))"
   ]
  },
  {
   "cell_type": "markdown",
   "id": "1bedf2ef-32f9-4bd2-83e6-120e70188ce5",
   "metadata": {},
   "source": [
    "### Specific horizons"
   ]
  },
  {
   "cell_type": "code",
   "execution_count": 16,
   "id": "1498f74a-02e6-42c2-a709-e11e25bdd157",
   "metadata": {},
   "outputs": [
    {
     "name": "stdout",
     "output_type": "stream",
     "text": [
      "Quantile met for quantile = 0.025: \t 1.9800000000000002 %\n",
      "Quantile met for quantile = 0.25: \t 21.7 %\n",
      "Quantile met for quantile = 0.5: \t 43.41 %\n",
      "Quantile met for quantile = 0.75: \t 72.75 %\n",
      "Quantile met for quantile = 0.975: \t 97.52 %\n"
     ]
    }
   ],
   "source": [
    "for quantile in quantiles:\n",
    "    q_smaller = (eval_df[quantile] > eval_df[\"obs\"]).sum()\n",
    "    emp_quant = q_smaller / eval_df[quantile].size\n",
    "    print(\"Quantile met for quantile = {}: \\t {} %\".format(quantile, np.round(emp_quant,4)*100))"
   ]
  },
  {
   "cell_type": "markdown",
   "id": "ab2911c2-d2a0-40dd-88e2-e82ae6661666",
   "metadata": {
    "tags": []
   },
   "source": [
    "### Analyze crossing of quantiles"
   ]
  },
  {
   "cell_type": "code",
   "execution_count": 21,
   "id": "7c31faa4-d7e8-4f19-aa0b-9f71e4ff3c3c",
   "metadata": {},
   "outputs": [
    {
     "name": "stdout",
     "output_type": "stream",
     "text": [
      "Amount of wrongly specified quantiles in single prediction: 0.0077%\n",
      "Amount of wrongly specified quantiles in aggregated prediction: 0.0%\n"
     ]
    }
   ],
   "source": [
    "#Group prediction\n",
    "perc_wrong_total = np.sum(np.diff(predictions) < 0) / len(predictions) * 100\n",
    "\n",
    "#Single prediction\n",
    "model,_ = train_model(train_data, train_target, (val_data, val_target), batch_size, epochs, learning_rate)\n",
    "predictions_single = model.predict(test_data)\n",
    "#Get amount of wrongly specified quantiles\n",
    "perc_wrong_single = np.sum(np.diff(predictions_single) < 0) / len(predictions_single) * 100\n",
    "\n",
    "print(\"Amount of wrongly specified quantiles in single prediction: {:.4f}%\\nAmount of wrongly specified quantiles in aggregated prediction: {}%\".format(perc_wrong_single, perc_wrong_total))"
   ]
  },
  {
   "cell_type": "markdown",
   "id": "3e6fe2db-c7f5-4597-8f2d-bece8989a37d",
   "metadata": {},
   "source": [
    "## MZ-Regression"
   ]
  },
  {
   "cell_type": "code",
   "execution_count": 26,
   "id": "9c606024-e7d4-4059-bb8f-2b4b45000766",
   "metadata": {},
   "outputs": [],
   "source": [
    "results = pd.DataFrame(index = pd.MultiIndex.from_product([quantiles,horizons],                                                          \n",
    "                                                          names=[\"quantile\", \"horizon\"]),\n",
    "                       columns = ['Intercept', 'Intercept_CI', 'Slope', 'Slope_CI', \"Correctly specified\"])"
   ]
  },
  {
   "cell_type": "code",
   "execution_count": 27,
   "id": "cb37fcfa-1985-4f64-811c-707c2a70d4d9",
   "metadata": {},
   "outputs": [],
   "source": [
    "for quantile in quantiles:\n",
    "    for horizon in horizons:\n",
    "        df = eval_df.loc[eval_df[\"fcst_hour\"] == horizon, [\"obs\",quantile]]\n",
    "        df.rename({quantile:\"pred\"},axis = 1, inplace = True)\n",
    "        #Quantile regression\n",
    "        quantreg = smf.quantreg(\"obs ~ pred\", df)\n",
    "        res = quantreg.fit(q = quantile).summary().tables[1]\n",
    "        results_frame = pd.read_html(res.as_html(), header=0, index_col=0)[0]\n",
    "        results_df = np.array([results_frame.loc[\"Intercept\",\"coef\"],[results_frame.loc[\"Intercept\",\"[0.025\"],\n",
    "                                        results_frame.loc[\"Intercept\",\"0.975]\"]],results_frame.loc[\"pred\",\"coef\"],\n",
    "                                        [results_frame.loc[\"pred\",\"[0.025\"],results_frame.loc[\"pred\",\"0.975]\"]]], dtype = object)\n",
    "\n",
    "        #Check specification\n",
    "        #Intercept\n",
    "        specification = (0 > results_df[1][0]) & (0 < results_df[1][1]) & (1 > results_df[3][0]) & (1 < results_df[3][1])\n",
    "        \n",
    "        #Fit to final frame\n",
    "        results.loc[quantile,horizon] = np.append(results_df, specification)"
   ]
  },
  {
   "cell_type": "code",
   "execution_count": 28,
   "id": "a14bae65-6de9-453f-a3df-05a963cb0678",
   "metadata": {},
   "outputs": [
    {
     "data": {
      "text/html": [
       "<div>\n",
       "<style scoped>\n",
       "    .dataframe tbody tr th:only-of-type {\n",
       "        vertical-align: middle;\n",
       "    }\n",
       "\n",
       "    .dataframe tbody tr th {\n",
       "        vertical-align: top;\n",
       "    }\n",
       "\n",
       "    .dataframe thead th {\n",
       "        text-align: right;\n",
       "    }\n",
       "</style>\n",
       "<table border=\"1\" class=\"dataframe\">\n",
       "  <thead>\n",
       "    <tr style=\"text-align: right;\">\n",
       "      <th></th>\n",
       "      <th></th>\n",
       "      <th>Intercept</th>\n",
       "      <th>Intercept_CI</th>\n",
       "      <th>Slope</th>\n",
       "      <th>Slope_CI</th>\n",
       "      <th>Correctly specified</th>\n",
       "    </tr>\n",
       "    <tr>\n",
       "      <th>quantile</th>\n",
       "      <th>horizon</th>\n",
       "      <th></th>\n",
       "      <th></th>\n",
       "      <th></th>\n",
       "      <th></th>\n",
       "      <th></th>\n",
       "    </tr>\n",
       "  </thead>\n",
       "  <tbody>\n",
       "    <tr>\n",
       "      <th rowspan=\"5\" valign=\"top\">0.025</th>\n",
       "      <th>36</th>\n",
       "      <td>0.0207</td>\n",
       "      <td>[-0.032, 0.073]</td>\n",
       "      <td>1.0338</td>\n",
       "      <td>[0.977, 1.091]</td>\n",
       "      <td>True</td>\n",
       "    </tr>\n",
       "    <tr>\n",
       "      <th>48</th>\n",
       "      <td>0.0357</td>\n",
       "      <td>[-0.008, 0.079]</td>\n",
       "      <td>1.0077</td>\n",
       "      <td>[0.96, 1.055]</td>\n",
       "      <td>True</td>\n",
       "    </tr>\n",
       "    <tr>\n",
       "      <th>60</th>\n",
       "      <td>0.0534</td>\n",
       "      <td>[-0.019, 0.126]</td>\n",
       "      <td>1.0603</td>\n",
       "      <td>[0.984, 1.137]</td>\n",
       "      <td>True</td>\n",
       "    </tr>\n",
       "    <tr>\n",
       "      <th>72</th>\n",
       "      <td>0.0357</td>\n",
       "      <td>[-0.023, 0.094]</td>\n",
       "      <td>1.0243</td>\n",
       "      <td>[0.965, 1.083]</td>\n",
       "      <td>True</td>\n",
       "    </tr>\n",
       "    <tr>\n",
       "      <th>84</th>\n",
       "      <td>0.024</td>\n",
       "      <td>[-0.039, 0.087]</td>\n",
       "      <td>1.0708</td>\n",
       "      <td>[0.992, 1.15]</td>\n",
       "      <td>True</td>\n",
       "    </tr>\n",
       "  </tbody>\n",
       "</table>\n",
       "</div>"
      ],
      "text/plain": [
       "                 Intercept     Intercept_CI   Slope        Slope_CI  \\\n",
       "quantile horizon                                                      \n",
       "0.025    36         0.0207  [-0.032, 0.073]  1.0338  [0.977, 1.091]   \n",
       "         48         0.0357  [-0.008, 0.079]  1.0077   [0.96, 1.055]   \n",
       "         60         0.0534  [-0.019, 0.126]  1.0603  [0.984, 1.137]   \n",
       "         72         0.0357  [-0.023, 0.094]  1.0243  [0.965, 1.083]   \n",
       "         84          0.024  [-0.039, 0.087]  1.0708   [0.992, 1.15]   \n",
       "\n",
       "                 Correctly specified  \n",
       "quantile horizon                      \n",
       "0.025    36                     True  \n",
       "         48                     True  \n",
       "         60                     True  \n",
       "         72                     True  \n",
       "         84                     True  "
      ]
     },
     "execution_count": 28,
     "metadata": {},
     "output_type": "execute_result"
    }
   ],
   "source": [
    "results.head()"
   ]
  },
  {
   "cell_type": "code",
   "execution_count": 29,
   "id": "14971043-50a1-4d5b-ac36-b1d70536962c",
   "metadata": {},
   "outputs": [],
   "source": [
    "results.to_excel(\"temperature_mz.xlsx\")"
   ]
  },
  {
   "cell_type": "code",
   "execution_count": 30,
   "id": "5a6f32f5-e0aa-4d37-8c9e-a48e4aa8ea50",
   "metadata": {},
   "outputs": [
    {
     "data": {
      "text/html": [
       "<div>\n",
       "<style scoped>\n",
       "    .dataframe tbody tr th:only-of-type {\n",
       "        vertical-align: middle;\n",
       "    }\n",
       "\n",
       "    .dataframe tbody tr th {\n",
       "        vertical-align: top;\n",
       "    }\n",
       "\n",
       "    .dataframe thead th {\n",
       "        text-align: right;\n",
       "    }\n",
       "</style>\n",
       "<table border=\"1\" class=\"dataframe\">\n",
       "  <thead>\n",
       "    <tr style=\"text-align: right;\">\n",
       "      <th></th>\n",
       "      <th>Correctly specified</th>\n",
       "    </tr>\n",
       "    <tr>\n",
       "      <th>quantile</th>\n",
       "      <th></th>\n",
       "    </tr>\n",
       "  </thead>\n",
       "  <tbody>\n",
       "    <tr>\n",
       "      <th>0.025</th>\n",
       "      <td>100.0</td>\n",
       "    </tr>\n",
       "    <tr>\n",
       "      <th>0.250</th>\n",
       "      <td>40.0</td>\n",
       "    </tr>\n",
       "    <tr>\n",
       "      <th>0.500</th>\n",
       "      <td>100.0</td>\n",
       "    </tr>\n",
       "    <tr>\n",
       "      <th>0.750</th>\n",
       "      <td>100.0</td>\n",
       "    </tr>\n",
       "    <tr>\n",
       "      <th>0.975</th>\n",
       "      <td>60.0</td>\n",
       "    </tr>\n",
       "  </tbody>\n",
       "</table>\n",
       "</div>"
      ],
      "text/plain": [
       "          Correctly specified\n",
       "quantile                     \n",
       "0.025                   100.0\n",
       "0.250                    40.0\n",
       "0.500                   100.0\n",
       "0.750                   100.0\n",
       "0.975                    60.0"
      ]
     },
     "execution_count": 30,
     "metadata": {},
     "output_type": "execute_result"
    }
   ],
   "source": [
    "#Amount of auto-calibrated results\n",
    "results[results[\"Correctly specified\"] == True].reset_index().groupby(\"quantile\").count()[[\"Correctly specified\"]] / 0.05"
   ]
  },
  {
   "cell_type": "markdown",
   "id": "57334dab-8d7b-48b8-bfdb-299c3477cc0c",
   "metadata": {},
   "source": [
    "## Visualize predictions"
   ]
  },
  {
   "cell_type": "code",
   "execution_count": 22,
   "id": "a06e776f-ff12-42c2-956d-49d82a155573",
   "metadata": {},
   "outputs": [
    {
     "data": {
      "text/plain": [
       "<matplotlib.legend.Legend at 0x2018eea6f40>"
      ]
     },
     "execution_count": 22,
     "metadata": {},
     "output_type": "execute_result"
    },
    {
     "data": {
      "image/png": "[encoded data removed]",
      "text/plain": [
       "<Figure size 1440x720 with 1 Axes>"
      ]
     },
     "metadata": {
      "needs_background": "light"
     },
     "output_type": "display_data"
    }
   ],
   "source": [
    "# Create plotting dataframe\n",
    "data_plot = test_dataframe[[\"obs_tm\",\"obs\",\"fcst_hour\"]].copy()\n",
    "for cnt, quantile in enumerate(quantiles):\n",
    "    data_plot[\"q{}\".format(quantile)] = target_scaler.inverse_transform(predictions[:,cnt].reshape(-1,1)).reshape(-1)\n",
    "\n",
    "#Extract horizon\n",
    "h=72\n",
    "data_plot = data_plot[data_plot[\"fcst_hour\"]==h]\n",
    "\n",
    "fig, axs = plt.subplots(figsize = (20,10))\n",
    "sns.scatterplot(x = \"obs_tm\", y = \"obs\", data = data_plot, label = \"True value\")\n",
    "sns.scatterplot(x = \"obs_tm\", y = \"q0.5\", data = data_plot, label = \"50% quantile\")\n",
    "sns.scatterplot(x = \"obs_tm\", y = \"q0.025\", data = data_plot, color = \"blue\", label = \"95% interval\")\n",
    "sns.scatterplot(x = \"obs_tm\", y = \"q0.975\", data = data_plot, color = \"blue\")\n",
    "\n",
    "sns.scatterplot(x = \"obs_tm\", y = \"q0.25\", data = data_plot, color = \"green\", label = \"50% interval\")\n",
    "sns.scatterplot(x = \"obs_tm\", y = \"q0.75\", data = data_plot, color = \"green\")\n",
    "axs.set_title(\"Plot for horizon: h = {}\".format(h),size = 17)\n",
    "axs.legend()"
   ]
  },
  {
   "cell_type": "markdown",
   "id": "e3aa53c3-7838-4d56-b1df-d3bc626bdd52",
   "metadata": {},
   "source": [
    "# Predict new data"
   ]
  },
  {
   "cell_type": "markdown",
   "id": "9e557515-41c9-4fff-8e2b-e9d3b44837de",
   "metadata": {
    "tags": []
   },
   "source": [
    "## Train on complete data"
   ]
  },
  {
   "cell_type": "code",
   "execution_count": 16,
   "id": "1b9b4ac5-2dd0-44ce-89a4-4e7f3362d0dc",
   "metadata": {},
   "outputs": [],
   "source": [
    "train_data, train_target = convert_wind_temp_format(train_val)\n",
    "val_data, val_target = convert_wind_temp_format(test)"
   ]
  },
  {
   "cell_type": "markdown",
   "id": "6c62998b-cc46-461b-b433-a5a42a637265",
   "metadata": {},
   "source": [
    "## Predict new data"
   ]
  },
  {
   "cell_type": "code",
   "execution_count": 17,
   "id": "766e47da-37bc-4465-b36a-1990b4820fb5",
   "metadata": {},
   "outputs": [],
   "source": [
    "current_date = date.today().strftime(\"%Y%m%d\")\n",
    "path = \"../data/berlin_data/icon_data/icon-eu-eps_{}00_t_2m_Berlin.txt\".format(current_date)\n",
    "new_data = pd.read_csv(path.format(current_date.replace(\"-\",\"\")), skiprows = 3, sep = \"|\").dropna(axis = 1)\n",
    "new_data.columns = new_data.columns.str.replace(\" \", \"\")\n",
    "new_data = new_data[new_data[\"fcst_hour\"].isin(horizons)]\n",
    "#Create positional encoding\n",
    "date_list = [(date.today()+timedelta(x)) for x in horizons]\n",
    "new_data[\"day\"] = pd.DatetimeIndex(date_list).dayofyear\n",
    "new_data[\"pos_enc_1\"] = np.sin(2*math.pi*new_data[\"day\"]/365)\n",
    "new_data[\"pos_enc_2\"] = np.cos(2*math.pi*new_data[\"day\"]/365)\n",
    "new_data.drop(\"day\", axis = 1, inplace = True)\n",
    "# Normalize and get horizons\n",
    "new_data = new_data[new_data[\"fcst_hour\"].isin(horizons)].to_numpy()\n",
    "new_data[:,1:] = feature_scaler.transform(new_data[:,1:])\n",
    "new_data[:,0] = label_encoder.transform(new_data[:,0])"
   ]
  },
  {
   "cell_type": "code",
   "execution_count": 18,
   "id": "7d47376d-15f3-41d4-bb62-7c6b26fd78b7",
   "metadata": {},
   "outputs": [],
   "source": [
    "pred_data = convert_wind_temp_format(new_data, predict = True)"
   ]
  },
  {
   "cell_type": "code",
   "execution_count": 19,
   "id": "81cc69c7-8540-47c6-be2f-cfd97b244c7a",
   "metadata": {},
   "outputs": [],
   "source": [
    "#Prepare dataframe\n",
    "final_prediction = pd.DataFrame(columns = [\"forecast_date\",\"target\",\"horizon\",\"q0.025\",\"q0.25\",\"q0.5\",\"q0.75\",\"q0.975\"], index = np.arange(0,5))\n",
    "final_prediction[\"forecast_date\"] = datetime.today().strftime(\"%Y-%m-%d\")\n",
    "final_prediction[\"horizon\"] = [\"{} hour\".format(x) for x in horizons]\n",
    "final_prediction[\"target\"] = \"temperature\""
   ]
  },
  {
   "cell_type": "code",
   "execution_count": 20,
   "id": "fa59a62f-fb9b-45e9-aa3e-cf8fbb366c34",
   "metadata": {},
   "outputs": [
    {
     "name": "stdout",
     "output_type": "stream",
     "text": [
      "Finished Training 1\n",
      "Finished Training 2\n",
      "Finished Training 3\n",
      "Finished Training 4\n",
      "WARNING:tensorflow:5 out of the last 5 calls to <function Model.make_predict_function.<locals>.predict_function at 0x000001E494E52A60> triggered tf.function retracing. Tracing is expensive and the excessive number of tracings could be due to (1) creating @tf.function repeatedly in a loop, (2) passing tensors with different shapes, (3) passing Python objects instead of tensors. For (1), please define your @tf.function outside of the loop. For (2), @tf.function has experimental_relax_shapes=True option that relaxes argument shapes that can avoid unnecessary retracing. For (3), please refer to https://www.tensorflow.org/guide/function#controlling_retracing and https://www.tensorflow.org/api_docs/python/tf/function for  more details.\n",
      "Finished Training 5\n",
      "WARNING:tensorflow:6 out of the last 6 calls to <function Model.make_predict_function.<locals>.predict_function at 0x000001E288310160> triggered tf.function retracing. Tracing is expensive and the excessive number of tracings could be due to (1) creating @tf.function repeatedly in a loop, (2) passing tensors with different shapes, (3) passing Python objects instead of tensors. For (1), please define your @tf.function outside of the loop. For (2), @tf.function has experimental_relax_shapes=True option that relaxes argument shapes that can avoid unnecessary retracing. For (3), please refer to https://www.tensorflow.org/guide/function#controlling_retracing and https://www.tensorflow.org/api_docs/python/tf/function for  more details.\n",
      "Finished Training 6\n",
      "WARNING:tensorflow:7 out of the last 7 calls to <function Model.make_predict_function.<locals>.predict_function at 0x000001E48EEC50D0> triggered tf.function retracing. Tracing is expensive and the excessive number of tracings could be due to (1) creating @tf.function repeatedly in a loop, (2) passing tensors with different shapes, (3) passing Python objects instead of tensors. For (1), please define your @tf.function outside of the loop. For (2), @tf.function has experimental_relax_shapes=True option that relaxes argument shapes that can avoid unnecessary retracing. For (3), please refer to https://www.tensorflow.org/guide/function#controlling_retracing and https://www.tensorflow.org/api_docs/python/tf/function for  more details.\n",
      "Finished Training 7\n",
      "WARNING:tensorflow:8 out of the last 8 calls to <function Model.make_predict_function.<locals>.predict_function at 0x000001E2C82084C0> triggered tf.function retracing. Tracing is expensive and the excessive number of tracings could be due to (1) creating @tf.function repeatedly in a loop, (2) passing tensors with different shapes, (3) passing Python objects instead of tensors. For (1), please define your @tf.function outside of the loop. For (2), @tf.function has experimental_relax_shapes=True option that relaxes argument shapes that can avoid unnecessary retracing. For (3), please refer to https://www.tensorflow.org/guide/function#controlling_retracing and https://www.tensorflow.org/api_docs/python/tf/function for  more details.\n",
      "Finished Training 8\n",
      "WARNING:tensorflow:9 out of the last 9 calls to <function Model.make_predict_function.<locals>.predict_function at 0x000001E4956B4310> triggered tf.function retracing. Tracing is expensive and the excessive number of tracings could be due to (1) creating @tf.function repeatedly in a loop, (2) passing tensors with different shapes, (3) passing Python objects instead of tensors. For (1), please define your @tf.function outside of the loop. For (2), @tf.function has experimental_relax_shapes=True option that relaxes argument shapes that can avoid unnecessary retracing. For (3), please refer to https://www.tensorflow.org/guide/function#controlling_retracing and https://www.tensorflow.org/api_docs/python/tf/function for  more details.\n",
      "Finished Training 9\n",
      "WARNING:tensorflow:10 out of the last 10 calls to <function Model.make_predict_function.<locals>.predict_function at 0x000001E2C8208820> triggered tf.function retracing. Tracing is expensive and the excessive number of tracings could be due to (1) creating @tf.function repeatedly in a loop, (2) passing tensors with different shapes, (3) passing Python objects instead of tensors. For (1), please define your @tf.function outside of the loop. For (2), @tf.function has experimental_relax_shapes=True option that relaxes argument shapes that can avoid unnecessary retracing. For (3), please refer to https://www.tensorflow.org/guide/function#controlling_retracing and https://www.tensorflow.org/api_docs/python/tf/function for  more details.\n",
      "Finished Training 10\n"
     ]
    }
   ],
   "source": [
    "# Predict data\n",
    "predictions = aggregate_wind_temp(train_data, train_target, (val_data,val_target), pred_data, batch_size, epochs, learning_rate,\n",
    "                                  n_encodings, opt_params, label_encoder, quantiles, horizons)"
   ]
  },
  {
   "cell_type": "code",
   "execution_count": 21,
   "id": "4e337799-85d2-4eef-8bd2-083ac6cb9b0d",
   "metadata": {},
   "outputs": [],
   "source": [
    "for cnt, quantile in enumerate(quantiles):\n",
    "    #Retransform predictions\n",
    "    final_pred = target_scaler.inverse_transform(predictions[:,cnt].reshape(-1,1))\n",
    "    final_prediction.loc[:,\"q{}\".format(quantile)] = final_pred"
   ]
  },
  {
   "cell_type": "code",
   "execution_count": 22,
   "id": "4b85780f-828b-4b27-800f-a70956cf7b8e",
   "metadata": {},
   "outputs": [
    {
     "data": {
      "text/html": [
       "<div>\n",
       "<style scoped>\n",
       "    .dataframe tbody tr th:only-of-type {\n",
       "        vertical-align: middle;\n",
       "    }\n",
       "\n",
       "    .dataframe tbody tr th {\n",
       "        vertical-align: top;\n",
       "    }\n",
       "\n",
       "    .dataframe thead th {\n",
       "        text-align: right;\n",
       "    }\n",
       "</style>\n",
       "<table border=\"1\" class=\"dataframe\">\n",
       "  <thead>\n",
       "    <tr style=\"text-align: right;\">\n",
       "      <th></th>\n",
       "      <th>forecast_date</th>\n",
       "      <th>target</th>\n",
       "      <th>horizon</th>\n",
       "      <th>q0.025</th>\n",
       "      <th>q0.25</th>\n",
       "      <th>q0.5</th>\n",
       "      <th>q0.75</th>\n",
       "      <th>q0.975</th>\n",
       "    </tr>\n",
       "  </thead>\n",
       "  <tbody>\n",
       "    <tr>\n",
       "      <th>0</th>\n",
       "      <td>2022-02-09</td>\n",
       "      <td>temperature</td>\n",
       "      <td>36 hour</td>\n",
       "      <td>5.587419</td>\n",
       "      <td>7.367847</td>\n",
       "      <td>8.272338</td>\n",
       "      <td>9.184538</td>\n",
       "      <td>11.078611</td>\n",
       "    </tr>\n",
       "    <tr>\n",
       "      <th>1</th>\n",
       "      <td>2022-02-09</td>\n",
       "      <td>temperature</td>\n",
       "      <td>48 hour</td>\n",
       "      <td>1.512319</td>\n",
       "      <td>3.299235</td>\n",
       "      <td>4.139887</td>\n",
       "      <td>4.897067</td>\n",
       "      <td>6.441108</td>\n",
       "    </tr>\n",
       "    <tr>\n",
       "      <th>2</th>\n",
       "      <td>2022-02-09</td>\n",
       "      <td>temperature</td>\n",
       "      <td>60 hour</td>\n",
       "      <td>2.386265</td>\n",
       "      <td>4.220159</td>\n",
       "      <td>5.065325</td>\n",
       "      <td>5.856074</td>\n",
       "      <td>7.673434</td>\n",
       "    </tr>\n",
       "    <tr>\n",
       "      <th>3</th>\n",
       "      <td>2022-02-09</td>\n",
       "      <td>temperature</td>\n",
       "      <td>72 hour</td>\n",
       "      <td>-1.581747</td>\n",
       "      <td>0.451113</td>\n",
       "      <td>1.358995</td>\n",
       "      <td>2.200481</td>\n",
       "      <td>3.865679</td>\n",
       "    </tr>\n",
       "    <tr>\n",
       "      <th>4</th>\n",
       "      <td>2022-02-09</td>\n",
       "      <td>temperature</td>\n",
       "      <td>84 hour</td>\n",
       "      <td>0.069483</td>\n",
       "      <td>2.169208</td>\n",
       "      <td>3.095051</td>\n",
       "      <td>3.950053</td>\n",
       "      <td>5.825777</td>\n",
       "    </tr>\n",
       "  </tbody>\n",
       "</table>\n",
       "</div>"
      ],
      "text/plain": [
       "  forecast_date       target  horizon    q0.025     q0.25      q0.5     q0.75  \\\n",
       "0    2022-02-09  temperature  36 hour  5.587419  7.367847  8.272338  9.184538   \n",
       "1    2022-02-09  temperature  48 hour  1.512319  3.299235  4.139887  4.897067   \n",
       "2    2022-02-09  temperature  60 hour  2.386265  4.220159  5.065325  5.856074   \n",
       "3    2022-02-09  temperature  72 hour -1.581747  0.451113  1.358995  2.200481   \n",
       "4    2022-02-09  temperature  84 hour  0.069483  2.169208  3.095051  3.950053   \n",
       "\n",
       "      q0.975  \n",
       "0  11.078611  \n",
       "1   6.441108  \n",
       "2   7.673434  \n",
       "3   3.865679  \n",
       "4   5.825777  "
      ]
     },
     "execution_count": 22,
     "metadata": {},
     "output_type": "execute_result"
    }
   ],
   "source": [
    "final_prediction"
   ]
  },
  {
   "cell_type": "code",
   "execution_count": 23,
   "id": "95977220-fde7-4cd4-a1e9-47330f8d52bf",
   "metadata": {},
   "outputs": [
    {
     "data": {
      "text/plain": [
       "36    8.39\n",
       "48    3.41\n",
       "52    4.81\n",
       "56   -0.19\n",
       "58    3.05\n",
       "Name: 0.5, dtype: float64"
      ]
     },
     "execution_count": 23,
     "metadata": {},
     "output_type": "execute_result"
    }
   ],
   "source": [
    "new_data = pd.read_csv(path.format(current_date.replace(\"-\",\"\")), skiprows = 3, sep = \"|\").dropna(axis = 1)\n",
    "new_data.columns = new_data.columns.str.replace(\" \", \"\")"
   ]
  },
  {
   "cell_type": "code",
   "execution_count": 24,
   "id": "d25019c0-38cc-4bae-9aff-24414fda88fb",
   "metadata": {},
   "outputs": [],
   "source": [
    "final_prediction.to_pickle(\"../evaluation/predictions/single/{}_{}\".format(\"temperature\", date.today().strftime(\"%Y-%m-%d\")))"
   ]
  }
 ],
 "metadata": {
  "kernelspec": {
   "display_name": "Python 3 (ipykernel)",
   "language": "python",
   "name": "python3"
  },
  "language_info": {
   "codemirror_mode": {
    "name": "ipython",
    "version": 3
   },
   "file_extension": ".py",
   "mimetype": "text/x-python",
   "name": "python",
   "nbconvert_exporter": "python",
   "pygments_lexer": "ipython3",
   "version": "3.8.8"
  }
 },
 "nbformat": 4,
 "nbformat_minor": 5
}
