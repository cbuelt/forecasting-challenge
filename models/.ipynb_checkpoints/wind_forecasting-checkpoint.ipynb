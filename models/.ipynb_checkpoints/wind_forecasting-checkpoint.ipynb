{
 "cells": [
  {
   "cell_type": "code",
   "execution_count": 1,
   "id": "95c87b87-6742-42a5-a360-caf0067f0a65",
   "metadata": {},
   "outputs": [],
   "source": [
    "import pandas as pd\n",
    "import numpy as np\n",
    "import time\n",
    "import matplotlib.pyplot as plt\n",
    "import seaborn as sns\n",
    "from datetime import date, datetime, timedelta\n",
    "import tensorflow as tf\n",
    "from tensorflow import keras\n",
    "import random\n",
    "from sklearn.model_selection import train_test_split\n",
    "from scipy.stats import norm\n",
    "from sklearn.metrics import mean_pinball_loss\n",
    "from scipy import stats\n",
    "import math\n",
    "import statsmodels.formula.api as smf\n",
    "\n",
    "#Import own code\n",
    "from losses import *\n",
    "from models import wind_temp_model, train_wind_temp_model, aggregate_wind_temp\n",
    "from utils import normalize_wind_temp_data, convert_wind_temp_format"
   ]
  },
  {
   "cell_type": "code",
   "execution_count": 2,
   "id": "38a61ef2-6979-4c75-b699-8ab25c8b97cd",
   "metadata": {},
   "outputs": [],
   "source": [
    "quantiles = [0.025, 0.25, 0.5, 0.75, 0.975]\n",
    "horizons = [36, 48 ,60, 72, 84]"
   ]
  },
  {
   "cell_type": "markdown",
   "id": "bb6b058c-cc23-4ea4-8879-2fa0d4454cc4",
   "metadata": {},
   "source": [
    "# Read and preprocess data"
   ]
  },
  {
   "cell_type": "code",
   "execution_count": 3,
   "id": "33d46b04-690f-4c5e-9826-865a90030282",
   "metadata": {},
   "outputs": [
    {
     "data": {
      "text/html": [
       "<div>\n",
       "<style scoped>\n",
       "    .dataframe tbody tr th:only-of-type {\n",
       "        vertical-align: middle;\n",
       "    }\n",
       "\n",
       "    .dataframe tbody tr th {\n",
       "        vertical-align: top;\n",
       "    }\n",
       "\n",
       "    .dataframe thead th {\n",
       "        text-align: right;\n",
       "    }\n",
       "</style>\n",
       "<table border=\"1\" class=\"dataframe\">\n",
       "  <thead>\n",
       "    <tr style=\"text-align: right;\">\n",
       "      <th></th>\n",
       "      <th>init_tm</th>\n",
       "      <th>met_var</th>\n",
       "      <th>location</th>\n",
       "      <th>fcst_hour</th>\n",
       "      <th>obs_tm</th>\n",
       "      <th>obs</th>\n",
       "      <th>ens_1</th>\n",
       "      <th>ens_2</th>\n",
       "      <th>ens_3</th>\n",
       "      <th>ens_4</th>\n",
       "      <th>...</th>\n",
       "      <th>ens_36</th>\n",
       "      <th>ens_37</th>\n",
       "      <th>ens_38</th>\n",
       "      <th>ens_39</th>\n",
       "      <th>ens_40</th>\n",
       "      <th>ens_mean</th>\n",
       "      <th>ens_var</th>\n",
       "      <th>mean_pressure</th>\n",
       "      <th>cloud_coverage</th>\n",
       "      <th>vmax</th>\n",
       "    </tr>\n",
       "  </thead>\n",
       "  <tbody>\n",
       "    <tr>\n",
       "      <th>65</th>\n",
       "      <td>2018-12-19 00:00:00+00:00</td>\n",
       "      <td>wind_10m</td>\n",
       "      <td>Berlin</td>\n",
       "      <td>0.0</td>\n",
       "      <td>2018-12-19 00:00:00+00:00</td>\n",
       "      <td>12.60</td>\n",
       "      <td>9.69</td>\n",
       "      <td>9.60</td>\n",
       "      <td>9.85</td>\n",
       "      <td>9.80</td>\n",
       "      <td>...</td>\n",
       "      <td>10.53</td>\n",
       "      <td>11.33</td>\n",
       "      <td>9.40</td>\n",
       "      <td>9.62</td>\n",
       "      <td>9.97</td>\n",
       "      <td>9.71750</td>\n",
       "      <td>1.179127</td>\n",
       "      <td>1022.41475</td>\n",
       "      <td>3.26025</td>\n",
       "      <td>23.36562</td>\n",
       "    </tr>\n",
       "    <tr>\n",
       "      <th>66</th>\n",
       "      <td>2018-12-19 00:00:00+00:00</td>\n",
       "      <td>wind_10m</td>\n",
       "      <td>Berlin</td>\n",
       "      <td>1.0</td>\n",
       "      <td>2018-12-19 01:00:00+00:00</td>\n",
       "      <td>12.60</td>\n",
       "      <td>10.97</td>\n",
       "      <td>10.49</td>\n",
       "      <td>10.26</td>\n",
       "      <td>10.12</td>\n",
       "      <td>...</td>\n",
       "      <td>11.43</td>\n",
       "      <td>11.85</td>\n",
       "      <td>10.08</td>\n",
       "      <td>10.76</td>\n",
       "      <td>9.39</td>\n",
       "      <td>10.29675</td>\n",
       "      <td>1.028694</td>\n",
       "      <td>1021.70900</td>\n",
       "      <td>0.58050</td>\n",
       "      <td>23.36562</td>\n",
       "    </tr>\n",
       "    <tr>\n",
       "      <th>67</th>\n",
       "      <td>2018-12-19 00:00:00+00:00</td>\n",
       "      <td>wind_10m</td>\n",
       "      <td>Berlin</td>\n",
       "      <td>2.0</td>\n",
       "      <td>2018-12-19 02:00:00+00:00</td>\n",
       "      <td>12.24</td>\n",
       "      <td>11.76</td>\n",
       "      <td>11.47</td>\n",
       "      <td>10.54</td>\n",
       "      <td>10.51</td>\n",
       "      <td>...</td>\n",
       "      <td>11.90</td>\n",
       "      <td>12.27</td>\n",
       "      <td>10.36</td>\n",
       "      <td>11.58</td>\n",
       "      <td>9.67</td>\n",
       "      <td>10.99725</td>\n",
       "      <td>0.896077</td>\n",
       "      <td>1020.92025</td>\n",
       "      <td>0.96325</td>\n",
       "      <td>23.36562</td>\n",
       "    </tr>\n",
       "    <tr>\n",
       "      <th>68</th>\n",
       "      <td>2018-12-19 00:00:00+00:00</td>\n",
       "      <td>wind_10m</td>\n",
       "      <td>Berlin</td>\n",
       "      <td>3.0</td>\n",
       "      <td>2018-12-19 03:00:00+00:00</td>\n",
       "      <td>11.52</td>\n",
       "      <td>12.16</td>\n",
       "      <td>12.04</td>\n",
       "      <td>10.95</td>\n",
       "      <td>11.47</td>\n",
       "      <td>...</td>\n",
       "      <td>12.23</td>\n",
       "      <td>12.78</td>\n",
       "      <td>10.41</td>\n",
       "      <td>11.60</td>\n",
       "      <td>10.23</td>\n",
       "      <td>11.40975</td>\n",
       "      <td>0.622141</td>\n",
       "      <td>1020.62650</td>\n",
       "      <td>12.33875</td>\n",
       "      <td>23.36562</td>\n",
       "    </tr>\n",
       "    <tr>\n",
       "      <th>69</th>\n",
       "      <td>2018-12-19 00:00:00+00:00</td>\n",
       "      <td>wind_10m</td>\n",
       "      <td>Berlin</td>\n",
       "      <td>4.0</td>\n",
       "      <td>2018-12-19 04:00:00+00:00</td>\n",
       "      <td>10.08</td>\n",
       "      <td>12.57</td>\n",
       "      <td>12.79</td>\n",
       "      <td>11.21</td>\n",
       "      <td>12.36</td>\n",
       "      <td>...</td>\n",
       "      <td>12.91</td>\n",
       "      <td>13.52</td>\n",
       "      <td>11.14</td>\n",
       "      <td>12.16</td>\n",
       "      <td>11.34</td>\n",
       "      <td>12.02400</td>\n",
       "      <td>0.558978</td>\n",
       "      <td>1020.63250</td>\n",
       "      <td>32.37400</td>\n",
       "      <td>23.36562</td>\n",
       "    </tr>\n",
       "  </tbody>\n",
       "</table>\n",
       "<p>5 rows × 51 columns</p>\n",
       "</div>"
      ],
      "text/plain": [
       "                     init_tm   met_var location  fcst_hour  \\\n",
       "65 2018-12-19 00:00:00+00:00  wind_10m   Berlin        0.0   \n",
       "66 2018-12-19 00:00:00+00:00  wind_10m   Berlin        1.0   \n",
       "67 2018-12-19 00:00:00+00:00  wind_10m   Berlin        2.0   \n",
       "68 2018-12-19 00:00:00+00:00  wind_10m   Berlin        3.0   \n",
       "69 2018-12-19 00:00:00+00:00  wind_10m   Berlin        4.0   \n",
       "\n",
       "                      obs_tm    obs  ens_1  ens_2  ens_3  ens_4  ...  ens_36  \\\n",
       "65 2018-12-19 00:00:00+00:00  12.60   9.69   9.60   9.85   9.80  ...   10.53   \n",
       "66 2018-12-19 01:00:00+00:00  12.60  10.97  10.49  10.26  10.12  ...   11.43   \n",
       "67 2018-12-19 02:00:00+00:00  12.24  11.76  11.47  10.54  10.51  ...   11.90   \n",
       "68 2018-12-19 03:00:00+00:00  11.52  12.16  12.04  10.95  11.47  ...   12.23   \n",
       "69 2018-12-19 04:00:00+00:00  10.08  12.57  12.79  11.21  12.36  ...   12.91   \n",
       "\n",
       "    ens_37  ens_38  ens_39  ens_40  ens_mean   ens_var  mean_pressure  \\\n",
       "65   11.33    9.40    9.62    9.97   9.71750  1.179127     1022.41475   \n",
       "66   11.85   10.08   10.76    9.39  10.29675  1.028694     1021.70900   \n",
       "67   12.27   10.36   11.58    9.67  10.99725  0.896077     1020.92025   \n",
       "68   12.78   10.41   11.60   10.23  11.40975  0.622141     1020.62650   \n",
       "69   13.52   11.14   12.16   11.34  12.02400  0.558978     1020.63250   \n",
       "\n",
       "    cloud_coverage      vmax  \n",
       "65         3.26025  23.36562  \n",
       "66         0.58050  23.36562  \n",
       "67         0.96325  23.36562  \n",
       "68        12.33875  23.36562  \n",
       "69        32.37400  23.36562  \n",
       "\n",
       "[5 rows x 51 columns]"
      ]
     },
     "execution_count": 3,
     "metadata": {},
     "output_type": "execute_result"
    }
   ],
   "source": [
    "#Wind data\n",
    "wind_data = pd.read_feather(\"../data/berlin_data/historic_data/icon_eps_wind_10m.feather\")\n",
    "#Pressure data\n",
    "pressure_data = pd.read_feather(\"../data/berlin_data/historic_data/icon_eps_mslp.feather\")\n",
    "pressure_data.rename({\"ens_mean\":\"mean_pressure\"}, axis = 1, inplace = True)\n",
    "#Cloud data\n",
    "cloud_data = pd.read_feather(\"../data/berlin_data/historic_data/icon_eps_clct.feather\")\n",
    "cloud_data.rename({\"ens_mean\":\"cloud_coverage\"}, axis = 1, inplace = True)\n",
    "#Vmax data\n",
    "max_data = pd.read_feather(\"../data/berlin_data/historic_data/icon_eps_vmax_10m.feather\")\n",
    "max_data.rename({\"ens_mean\":\"vmax\"}, axis = 1, inplace = True)\n",
    "\n",
    "\n",
    "data = wind_data.merge(pressure_data[[\"init_tm\",\"fcst_hour\",\"mean_pressure\"]], on = [\"init_tm\",\"fcst_hour\"], how = \"left\")\n",
    "data = data.merge(cloud_data[[\"init_tm\",\"fcst_hour\",\"cloud_coverage\"]], on = [\"init_tm\",\"fcst_hour\"], how = \"left\")\n",
    "data = data.merge(max_data[[\"init_tm\",\"fcst_hour\",\"vmax\"]], on = [\"init_tm\",\"fcst_hour\"], how = \"left\")\n",
    "#Replace vmax NaNs by mean\n",
    "vmax_mean = data[\"vmax\"].mean()\n",
    "data.loc[:,\"vmax\"].fillna(vmax_mean, inplace = True)\n",
    "data.dropna(inplace=True)\n",
    "data.head()"
   ]
  },
  {
   "cell_type": "markdown",
   "id": "ab4b5481-eb7e-49ca-afec-58682f55ec56",
   "metadata": {},
   "source": [
    "## Create positional encoding"
   ]
  },
  {
   "cell_type": "code",
   "execution_count": 4,
   "id": "f126faa5-7653-40c0-8747-891f31410285",
   "metadata": {},
   "outputs": [],
   "source": [
    "pos_enc = pd.DataFrame(index=pd.DatetimeIndex(data[\"obs_tm\"]))\n",
    "pos_enc[\"Dayofyear\"] = pos_enc.index.dayofyear\n",
    "pos_enc[\"n_days\"] = 365\n",
    "pos_enc.loc[pos_enc.index.year==2020,\"n_days\"] = 366\n",
    "#Calculate actual positional encoding\n",
    "cos_encoding = np.cos(2*math.pi*pos_enc[\"Dayofyear\"]/pos_enc[\"n_days\"])\n",
    "data[\"pos_enc_1\"] = cos_encoding.to_numpy()"
   ]
  },
  {
   "cell_type": "markdown",
   "id": "6b102af7-0f3f-4a64-a4a9-5ca473ece0e7",
   "metadata": {},
   "source": [
    "## Train, val, test split"
   ]
  },
  {
   "cell_type": "code",
   "execution_count": 5,
   "id": "e235d099-c210-4ffd-8f05-ded00a446025",
   "metadata": {},
   "outputs": [],
   "source": [
    "train_val_dataframe, test_dataframe = train_test_split(data, test_size = 0.2)\n",
    "train_dataframe, val_dataframe = train_test_split(data, test_size = 0.2)"
   ]
  },
  {
   "cell_type": "markdown",
   "id": "24d7426d-03b3-45db-89db-c30902fb7655",
   "metadata": {},
   "source": [
    "### Normalize"
   ]
  },
  {
   "cell_type": "code",
   "execution_count": 7,
   "id": "40e886bd-d209-4638-b8dc-2200bf8d96d1",
   "metadata": {},
   "outputs": [],
   "source": [
    "train_val, label_encoder, feature_scaler, target_scaler = normalize_wind_temp_data(train_val_dataframe, learn = True)\n",
    "train = normalize_wind_temp_data(train_dataframe, label_encoder, feature_scaler, target_scaler)\n",
    "test = normalize_wind_temp_data(test_dataframe, label_encoder, feature_scaler, target_scaler)\n",
    "val = normalize_wind_temp_data(val_dataframe, label_encoder, feature_scaler, target_scaler)\n",
    "#Number of encodings\n",
    "n_encodings = len(np.unique(train[:,0]))"
   ]
  },
  {
   "cell_type": "code",
   "execution_count": 9,
   "id": "f64c0313-aaba-4927-b7e0-c028ef2871de",
   "metadata": {},
   "outputs": [],
   "source": [
    "train_data, train_target = convert_wind_temp_format(train)\n",
    "val_data, val_target = convert_wind_temp_format(val)\n",
    "test_data, test_target = convert_wind_temp_format(test)"
   ]
  },
  {
   "cell_type": "markdown",
   "id": "285f9a31-842f-4af8-9e5e-65938d9aa29c",
   "metadata": {},
   "source": [
    "# Create Model"
   ]
  },
  {
   "cell_type": "markdown",
   "id": "625ca9a4-c370-41c9-a969-17330a43c836",
   "metadata": {},
   "source": [
    "## Obtain optimal parameters"
   ]
  },
  {
   "cell_type": "code",
   "execution_count": 10,
   "id": "98f39b22-870b-4f70-9781-0a8f594e14d6",
   "metadata": {},
   "outputs": [],
   "source": [
    "opt_params = {'alpha': 0.006540716476444487,\n",
    "              'batch_size': 7,\n",
    "              'dropout': 0.1,\n",
    "              'learning_rate': 0.001,\n",
    "              'loss': 'huber',\n",
    "              'n_layers': 2,\n",
    "              'n_units_1': 58,\n",
    "              'n_units_2': 64}"
   ]
  },
  {
   "cell_type": "code",
   "execution_count": 11,
   "id": "6330b732-4945-4fee-928d-68ce05bc9ecf",
   "metadata": {},
   "outputs": [],
   "source": [
    "#Define parameters\n",
    "batch_size = 2**opt_params[\"batch_size\"]\n",
    "epochs = 100\n",
    "learning_rate = opt_params[\"learning_rate\"]"
   ]
  },
  {
   "cell_type": "markdown",
   "id": "9b654dc1-0fad-4efa-a1b2-7555e6a901e1",
   "metadata": {},
   "source": [
    "# Predict test data"
   ]
  },
  {
   "cell_type": "code",
   "execution_count": 12,
   "id": "e9f4c25b-7d16-4082-982b-b149e3026feb",
   "metadata": {},
   "outputs": [
    {
     "name": "stdout",
     "output_type": "stream",
     "text": [
      "Finished Training 1\n"
     ]
    }
   ],
   "source": [
    "predictions = aggregate_wind_temp(train_data, train_target, (val_data,val_target), test_data, batch_size, epochs, learning_rate,\n",
    "                                  n_encodings, opt_params, label_encoder, quantiles, horizons, n = 1)"
   ]
  },
  {
   "cell_type": "markdown",
   "id": "e95e9db2-9a20-48f2-a977-e6ccff02f431",
   "metadata": {
    "tags": []
   },
   "source": [
    "## Pinball Loss"
   ]
  },
  {
   "cell_type": "markdown",
   "id": "b93d8f98-b230-4d0f-951e-49095c770aab",
   "metadata": {},
   "source": [
    "### All horizons"
   ]
  },
  {
   "cell_type": "code",
   "execution_count": 13,
   "id": "633d0669-31d8-4edc-be3a-d3cce8bae007",
   "metadata": {},
   "outputs": [
    {
     "name": "stdout",
     "output_type": "stream",
     "text": [
      "Pinball loss for quantile 0.025 : \t 0.028700194992589\n",
      "Pinball loss for quantile 0.25 : \t 0.16058515637595322\n",
      "Pinball loss for quantile 0.5 : \t 0.20630618385574642\n",
      "Pinball loss for quantile 0.75 : \t 0.17279315669790302\n",
      "Pinball loss for quantile 0.975 : \t 0.035751899035114956\n",
      "Pinball Loss total: 0.12082731819146134\n"
     ]
    }
   ],
   "source": [
    "total_loss = 0\n",
    "for cnt,quantile in enumerate(quantiles):\n",
    "    loss = mean_pinball_loss(test_target.reshape(-1), predictions[:,cnt].reshape(-1), alpha = quantile)\n",
    "    total_loss += loss\n",
    "    print(\"Pinball loss for quantile {} : \\t {}\".format(quantile,loss))\n",
    "print(\"Pinball Loss total: {}\".format(total_loss/len(quantiles)))"
   ]
  },
  {
   "cell_type": "markdown",
   "id": "43a7d0da-aae3-4f23-84ef-ef7349ee69fb",
   "metadata": {},
   "source": [
    "### Specific horizons"
   ]
  },
  {
   "cell_type": "code",
   "execution_count": 14,
   "id": "a3887da4-dcd0-4f3a-be2b-5551a8ec1884",
   "metadata": {},
   "outputs": [
    {
     "name": "stdout",
     "output_type": "stream",
     "text": [
      "Pinball loss for quantile 0.025 : \t 0.03057914455939155\n",
      "Pinball loss for quantile 0.25 : \t 0.1518019426496375\n",
      "Pinball loss for quantile 0.5 : \t 0.19065707465970713\n",
      "Pinball loss for quantile 0.75 : \t 0.15922737124989525\n",
      "Pinball loss for quantile 0.975 : \t 0.03346567798793075\n",
      "Pinball Loss total: 0.11314624222131245\n"
     ]
    }
   ],
   "source": [
    "eval_df = test_dataframe[[\"fcst_hour\",\"obs\"]].copy()\n",
    "eval_df[\"obs\"] = target_scaler.transform(eval_df[\"obs\"].to_numpy().reshape(-1,1))\n",
    "for cnt,quantile in enumerate(quantiles):\n",
    "    eval_df[quantile] = predictions[:,cnt]\n",
    "eval_df = eval_df[eval_df[\"fcst_hour\"].isin(horizons)]\n",
    "\n",
    "total_loss = 0\n",
    "for cnt,quantile in enumerate(quantiles):\n",
    "    loss = mean_pinball_loss(eval_df[\"obs\"], eval_df[quantile], alpha = quantile)\n",
    "    total_loss += loss\n",
    "    print(\"Pinball loss for quantile {} : \\t {}\".format(quantile,loss))\n",
    "print(\"Pinball Loss total: {}\".format(total_loss/len(quantiles)))"
   ]
  },
  {
   "cell_type": "markdown",
   "id": "23c654a5-218b-4b82-96ba-8fd96fa578b6",
   "metadata": {},
   "source": [
    "## Plausability"
   ]
  },
  {
   "cell_type": "markdown",
   "id": "34baf7f8-09fd-4212-9f11-4d17279e16e0",
   "metadata": {},
   "source": [
    "### All horizons"
   ]
  },
  {
   "cell_type": "code",
   "execution_count": 15,
   "id": "40555fc2-d96c-4a92-a0d5-1f87e42470f0",
   "metadata": {},
   "outputs": [
    {
     "name": "stdout",
     "output_type": "stream",
     "text": [
      "Quantile met for quantile = 0.025: \t 2.87 %\n",
      "Quantile met for quantile = 0.25: \t 28.71 %\n",
      "Quantile met for quantile = 0.5: \t 50.93 %\n",
      "Quantile met for quantile = 0.75: \t 73.19 %\n",
      "Quantile met for quantile = 0.975: \t 96.56 %\n"
     ]
    }
   ],
   "source": [
    "for cnt,quantile in enumerate(quantiles):\n",
    "    q_smaller = (predictions[:,cnt] > test_target.flatten()).sum()\n",
    "    emp_quant = q_smaller / predictions[:,cnt].size\n",
    "    print(\"Quantile met for quantile = {}: \\t {} %\".format(quantile, np.round(emp_quant,4)*100))"
   ]
  },
  {
   "cell_type": "markdown",
   "id": "09bc74d5-b73f-453f-849f-cb63bb06b558",
   "metadata": {
    "tags": []
   },
   "source": [
    "### Specific horizons"
   ]
  },
  {
   "cell_type": "code",
   "execution_count": 16,
   "id": "d828a49d-b445-476c-ac43-45e0d941e009",
   "metadata": {},
   "outputs": [
    {
     "name": "stdout",
     "output_type": "stream",
     "text": [
      "Quantile met for quantile = 0.025: \t 2.37 %\n",
      "Quantile met for quantile = 0.25: \t 25.650000000000002 %\n",
      "Quantile met for quantile = 0.5: \t 54.42 %\n",
      "Quantile met for quantile = 0.75: \t 78.77 %\n",
      "Quantile met for quantile = 0.975: \t 98.6 %\n"
     ]
    }
   ],
   "source": [
    "for quantile in quantiles:\n",
    "    q_smaller = (eval_df[quantile] > eval_df[\"obs\"]).sum()\n",
    "    emp_quant = q_smaller / eval_df[quantile].size\n",
    "    print(\"Quantile met for quantile = {}: \\t {} %\".format(quantile, np.round(emp_quant,4)*100))"
   ]
  },
  {
   "cell_type": "markdown",
   "id": "a6d9d7cc-17a0-4d4a-8558-4e48f3fe62b1",
   "metadata": {},
   "source": [
    "## MZ-Regression"
   ]
  },
  {
   "cell_type": "code",
   "execution_count": null,
   "id": "2456c2fc-8861-423f-b026-89abd8cc63b4",
   "metadata": {},
   "outputs": [],
   "source": [
    "results = pd.DataFrame(index = pd.MultiIndex.from_product([quantiles,horizons],                                                          \n",
    "                                                          names=[\"quantile\", \"horizon\"]),\n",
    "                       columns = ['Intercept', 'Intercept_CI', 'Slope', 'Slope_CI', \"Correctly specified\"])"
   ]
  },
  {
   "cell_type": "code",
   "execution_count": 19,
   "id": "3f28c31e-efab-406c-8fbf-9b1b965836a8",
   "metadata": {},
   "outputs": [
    {
     "name": "stderr",
     "output_type": "stream",
     "text": [
      "C:\\Users\\chris\\anaconda3\\lib\\site-packages\\statsmodels\\regression\\quantile_regression.py:190: IterationLimitWarning: Maximum number of iterations (1000) reached.\n",
      "  warnings.warn(\"Maximum number of iterations (\" + str(max_iter) +\n"
     ]
    }
   ],
   "source": [
    "for quantile in quantiles:\n",
    "    for horizon in horizons:\n",
    "        df = eval_df.loc[eval_df[\"fcst_hour\"] == horizon, [\"obs\",quantile]]\n",
    "        df.rename({quantile:\"pred\"},axis = 1, inplace = True)\n",
    "        #Quantile regression\n",
    "        quantreg = smf.quantreg(\"obs ~ pred\", df)\n",
    "        res = quantreg.fit(q = quantile).summary().tables[1]\n",
    "        results_frame = pd.read_html(res.as_html(), header=0, index_col=0)[0]\n",
    "        results_df = np.array([results_frame.loc[\"Intercept\",\"coef\"],[results_frame.loc[\"Intercept\",\"[0.025\"],\n",
    "                                        results_frame.loc[\"Intercept\",\"0.975]\"]],results_frame.loc[\"pred\",\"coef\"],\n",
    "                                        [results_frame.loc[\"pred\",\"[0.025\"],results_frame.loc[\"pred\",\"0.975]\"]]], dtype = object)\n",
    "\n",
    "        #Check specification\n",
    "        #Intercept\n",
    "        specification = (0 > results_df[1][0]) & (0 < results_df[1][1]) & (1 > results_df[3][0]) & (1 < results_df[3][1])\n",
    "        \n",
    "        #Fit to final frame\n",
    "        results.loc[quantile,horizon] = np.append(results_df, specification)"
   ]
  },
  {
   "cell_type": "code",
   "execution_count": 20,
   "id": "9145ee3a-b4fb-4d40-b4d5-db886a4b8ee0",
   "metadata": {},
   "outputs": [
    {
     "data": {
      "text/html": [
       "<div>\n",
       "<style scoped>\n",
       "    .dataframe tbody tr th:only-of-type {\n",
       "        vertical-align: middle;\n",
       "    }\n",
       "\n",
       "    .dataframe tbody tr th {\n",
       "        vertical-align: top;\n",
       "    }\n",
       "\n",
       "    .dataframe thead th {\n",
       "        text-align: right;\n",
       "    }\n",
       "</style>\n",
       "<table border=\"1\" class=\"dataframe\">\n",
       "  <thead>\n",
       "    <tr style=\"text-align: right;\">\n",
       "      <th></th>\n",
       "      <th></th>\n",
       "      <th>Intercept</th>\n",
       "      <th>Intercept_CI</th>\n",
       "      <th>Slope</th>\n",
       "      <th>Slope_CI</th>\n",
       "      <th>Correctly specified</th>\n",
       "    </tr>\n",
       "    <tr>\n",
       "      <th>quantile</th>\n",
       "      <th>horizon</th>\n",
       "      <th></th>\n",
       "      <th></th>\n",
       "      <th></th>\n",
       "      <th></th>\n",
       "      <th></th>\n",
       "    </tr>\n",
       "  </thead>\n",
       "  <tbody>\n",
       "    <tr>\n",
       "      <th rowspan=\"5\" valign=\"top\">0.025</th>\n",
       "      <th>36</th>\n",
       "      <td>0.1528</td>\n",
       "      <td>[0.019, 0.286]</td>\n",
       "      <td>1.1021</td>\n",
       "      <td>[1.011, 1.193]</td>\n",
       "      <td>False</td>\n",
       "    </tr>\n",
       "    <tr>\n",
       "      <th>48</th>\n",
       "      <td>0.0663</td>\n",
       "      <td>[-0.073, 0.205]</td>\n",
       "      <td>1.0189</td>\n",
       "      <td>[0.92, 1.118]</td>\n",
       "      <td>True</td>\n",
       "    </tr>\n",
       "    <tr>\n",
       "      <th>60</th>\n",
       "      <td>0.0659</td>\n",
       "      <td>[-0.182, 0.314]</td>\n",
       "      <td>1.2334</td>\n",
       "      <td>[0.921, 1.546]</td>\n",
       "      <td>True</td>\n",
       "    </tr>\n",
       "    <tr>\n",
       "      <th>72</th>\n",
       "      <td>-0.1234</td>\n",
       "      <td>[-0.269, 0.022]</td>\n",
       "      <td>0.8633</td>\n",
       "      <td>[0.758, 0.968]</td>\n",
       "      <td>False</td>\n",
       "    </tr>\n",
       "    <tr>\n",
       "      <th>84</th>\n",
       "      <td>-0.0911</td>\n",
       "      <td>[-0.539, 0.356]</td>\n",
       "      <td>0.898</td>\n",
       "      <td>[0.363, 1.433]</td>\n",
       "      <td>True</td>\n",
       "    </tr>\n",
       "  </tbody>\n",
       "</table>\n",
       "</div>"
      ],
      "text/plain": [
       "                 Intercept     Intercept_CI   Slope        Slope_CI  \\\n",
       "quantile horizon                                                      \n",
       "0.025    36         0.1528   [0.019, 0.286]  1.1021  [1.011, 1.193]   \n",
       "         48         0.0663  [-0.073, 0.205]  1.0189   [0.92, 1.118]   \n",
       "         60         0.0659  [-0.182, 0.314]  1.2334  [0.921, 1.546]   \n",
       "         72        -0.1234  [-0.269, 0.022]  0.8633  [0.758, 0.968]   \n",
       "         84        -0.0911  [-0.539, 0.356]   0.898  [0.363, 1.433]   \n",
       "\n",
       "                 Correctly specified  \n",
       "quantile horizon                      \n",
       "0.025    36                    False  \n",
       "         48                     True  \n",
       "         60                     True  \n",
       "         72                    False  \n",
       "         84                     True  "
      ]
     },
     "execution_count": 20,
     "metadata": {},
     "output_type": "execute_result"
    }
   ],
   "source": [
    "results.head()"
   ]
  },
  {
   "cell_type": "code",
   "execution_count": null,
   "id": "dd5e854e-c595-4dcd-afab-5f99da1f247d",
   "metadata": {},
   "outputs": [],
   "source": [
    "results.to_excel(\"wind_mz.xlsx\")"
   ]
  },
  {
   "cell_type": "code",
   "execution_count": null,
   "id": "5ac538ce-ccf9-4bc1-9824-c2440f81bfc4",
   "metadata": {},
   "outputs": [],
   "source": [
    "#Amount of auto-calibrated results\n",
    "results[results[\"Correctly specified\"] == True].reset_index().groupby(\"quantile\").count()[[\"Correctly specified\"]] / 0.05"
   ]
  },
  {
   "cell_type": "markdown",
   "id": "0d8045cc-6b4e-4094-b50a-e9c42bd23775",
   "metadata": {},
   "source": [
    "## Visualize predictions"
   ]
  },
  {
   "cell_type": "code",
   "execution_count": null,
   "id": "c1b4d7de-6109-42f4-b212-2dc05c56bdd3",
   "metadata": {},
   "outputs": [],
   "source": [
    "# Create plotting dataframe\n",
    "data_plot = test_dataframe[[\"obs_tm\",\"obs\",\"fcst_hour\"]].copy()\n",
    "for cnt, quantile in enumerate(quantiles):\n",
    "    data_plot[\"q{}\".format(quantile)] = target_scaler.inverse_transform(predictions[:,cnt].reshape(-1,1)).reshape(-1)\n",
    "\n",
    "#Extract horizon\n",
    "h=48\n",
    "data_plot = data_plot[data_plot[\"fcst_hour\"]==h]\n",
    "data_plot.sort_values(by = \"obs_tm\", inplace = True)\n",
    "\n",
    "fig, axs = plt.subplots(figsize = (20,10))\n",
    "sns.lineplot(x = \"obs_tm\", y = \"obs\", data = data_plot, label = \"True value\")\n",
    "sns.lineplot(x = \"obs_tm\", y = \"q0.5\", data = data_plot, label = \"50% quantile\")\n",
    "sns.lineplot(x = \"obs_tm\", y = \"q0.025\", data = data_plot, color = \"blue\", label = \"95% interval\", alpha = 0.5)\n",
    "sns.lineplot(x = \"obs_tm\", y = \"q0.975\", data = data_plot, color = \"blue\", alpha = 0.5)\n",
    "axs.fill_between(x = \"obs_tm\", y1 = \"q0.025\", y2 = \"q0.975\", data = data_plot, alpha = 0.1, color = \"blue\")\n",
    "\n",
    "sns.lineplot(x = \"obs_tm\", y = \"q0.25\", data = data_plot, color = \"green\", label = \"50% interval\", alpha = 0.5)\n",
    "sns.lineplot(x = \"obs_tm\", y = \"q0.75\", data = data_plot, color = \"green\", alpha = 0.5)\n",
    "axs.fill_between(x = \"obs_tm\", y1 = \"q0.25\", y2 =\"q0.75\", data = data_plot, alpha = 0.1, color = \"green\")\n",
    "axs.set_title(\"Plot for horizon: h = {}\".format(h),size = 17)\n",
    "axs.legend()"
   ]
  },
  {
   "cell_type": "markdown",
   "id": "8c582add-e0fe-4582-985b-cff49ee484c6",
   "metadata": {},
   "source": [
    "## Analyze crossing of quantiles"
   ]
  },
  {
   "cell_type": "code",
   "execution_count": null,
   "id": "5e92542a-41c7-4125-99c5-18c99569bdc4",
   "metadata": {},
   "outputs": [],
   "source": [
    "#Group prediction\n",
    "perc_wrong_total = np.sum(np.diff(predictions) < 0) / len(predictions) * 100\n",
    "\n",
    "#Single prediction\n",
    "model,_ = train_model(train_data, train_target, (val_data, val_target), batch_size, epochs, learning_rate)\n",
    "predictions_single = model.predict(test_data)\n",
    "#Get amount of wrongly specified quantiles\n",
    "perc_wrong_single = np.sum(np.diff(predictions_single) < 0) / len(predictions_single) * 100\n",
    "\n",
    "print(\"Amount of wrongly specified quantiles in single prediction: {:.4f}%\\nAmount of wrongly specified quantiles in aggregated prediction: {}%\".format(perc_wrong_single, perc_wrong_total))"
   ]
  },
  {
   "cell_type": "markdown",
   "id": "37d783c6-3f85-4823-ad89-88dfbd54e954",
   "metadata": {},
   "source": [
    "# Predict new data"
   ]
  },
  {
   "cell_type": "markdown",
   "id": "d822308c-2d0b-4fb6-9874-f9dba32d4668",
   "metadata": {},
   "source": [
    "## Train on complete data without test set"
   ]
  },
  {
   "cell_type": "code",
   "execution_count": null,
   "id": "b5d0d281-5cd3-43bc-97e3-1b3495246f39",
   "metadata": {},
   "outputs": [],
   "source": [
    "train_data, train_target = convert_wind_temp_format(train_val)\n",
    "val_data, val_target = convert_wind_temp_format(test)"
   ]
  },
  {
   "cell_type": "markdown",
   "id": "489e586b-40b4-47dd-8052-86281866f51a",
   "metadata": {},
   "source": [
    "## Predict new data"
   ]
  },
  {
   "cell_type": "code",
   "execution_count": null,
   "id": "0c735098-8cf5-4b61-9973-ee5c1cf9301d",
   "metadata": {},
   "outputs": [],
   "source": [
    "current_date = date.today().strftime(\"%Y%m%d\")\n",
    "path = \"../data/berlin_data/icon_data/icon-eu-eps_{}00_wind_mean_10m_Berlin.txt\".format(current_date)\n",
    "new_data = pd.read_csv(path.format(current_date.replace(\"-\",\"\")), skiprows = 3, sep = \"|\").dropna(axis = 1)\n",
    "new_data.columns = new_data.columns.str.replace(\" \", \"\")\n",
    "new_data[\"ens_mean\"] = new_data.iloc[:,1:].mean(axis = 1)\n",
    "\n",
    "#Add pressure data\n",
    "pressure_pred = pd.read_csv(\"../data/berlin_data/icon_data/icon-eu-eps_{}00_mslp_Berlin.txt\".format(current_date.replace(\"-\",\"\")), skiprows = 3, sep = \"|\").dropna(axis = 1)\n",
    "new_data[\"pressure_mean\"] = pressure_pred.iloc[:,1:].mean(axis = 1)\n",
    "\n",
    "#Add cloud data\n",
    "cloud_pred = pd.read_csv(\"../data/berlin_data/icon_data/icon-eu-eps_{}00_clct_Berlin.txt\".format(current_date.replace(\"-\",\"\")), skiprows = 3, sep = \"|\").dropna(axis = 1)\n",
    "new_data[\"cloud_coverage\"] = cloud_pred.iloc[:,1:].mean(axis = 1)\n",
    "\n",
    "#Add vmax data\n",
    "max_pred = pd.read_csv(\"../data/berlin_data/icon_data/icon-eu-eps_{}00_vmax_10m_Berlin.txt\".format(current_date.replace(\"-\",\"\")), skiprows = 3, sep = \"|\").dropna(axis = 1)\n",
    "new_data[\"vmax\"] = max_pred.iloc[:,1:].mean(axis = 1)\n",
    "\n",
    "#Filter horizons\n",
    "new_data = new_data[new_data[\"fcst_hour\"].isin(horizons)]\n",
    "\n",
    "#Create positional encoding\n",
    "date_list = [(date.today()+timedelta(x)) for x in horizons]\n",
    "new_data[\"day\"] = pd.DatetimeIndex(date_list).dayofyear\n",
    "new_data[\"pos_enc_1\"] = np.cos(2*math.pi*new_data[\"day\"]/365)\n",
    "new_data.drop(\"day\", axis = 1, inplace = True)\n",
    "# Normalize and get horizons\n",
    "new_data = new_data[new_data[\"fcst_hour\"].isin(horizons)].to_numpy()\n",
    "new_data[:,1:] = feature_scaler.transform(new_data[:,1:])\n",
    "new_data[:,0] = label_encoder.transform(new_data[:,0])"
   ]
  },
  {
   "cell_type": "code",
   "execution_count": null,
   "id": "15935e68-3d66-4718-891d-c07b28dddb8a",
   "metadata": {},
   "outputs": [],
   "source": [
    "pred_data = convert_wind_temp_format(new_data, predict = True)"
   ]
  },
  {
   "cell_type": "code",
   "execution_count": null,
   "id": "fbc89af2-ff03-4ee4-a1e0-62fbd5d7998a",
   "metadata": {},
   "outputs": [],
   "source": [
    "#Prepare dataframe\n",
    "final_prediction = pd.DataFrame(columns = [\"forecast_date\",\"target\",\"horizon\",\"q0.025\",\"q0.25\",\"q0.5\",\"q0.75\",\"q0.975\"], index = np.arange(0,5))\n",
    "final_prediction[\"forecast_date\"] = datetime.today().strftime(\"%Y-%m-%d\")\n",
    "final_prediction[\"horizon\"] = [\"{} hour\".format(x) for x in horizons]\n",
    "final_prediction[\"target\"] = \"wind\""
   ]
  },
  {
   "cell_type": "code",
   "execution_count": null,
   "id": "7cf67588-e806-4eec-b5c2-b5d40a2f9517",
   "metadata": {},
   "outputs": [],
   "source": [
    "# Predict data\n",
    "predictions = aggregate_wind_temp(train_data, train_target, (val_data,val_target), pred_data, batch_size, epochs, learning_rate,\n",
    "                                  n_encodings, opt_params, label_encoder, quantiles, horizons)"
   ]
  },
  {
   "cell_type": "code",
   "execution_count": null,
   "id": "20deb63c-0af4-4dd2-9fa2-dead995c47bf",
   "metadata": {},
   "outputs": [],
   "source": [
    "for cnt, quantile in enumerate(quantiles):\n",
    "    #Retransform predictions\n",
    "    final_pred = target_scaler.inverse_transform(predictions[:,cnt].reshape(-1,1))\n",
    "    final_prediction.loc[:,\"q{}\".format(quantile)] = final_pred"
   ]
  },
  {
   "cell_type": "code",
   "execution_count": null,
   "id": "a12ec3ef-a08b-4962-850f-5882ed486b76",
   "metadata": {},
   "outputs": [],
   "source": [
    "final_prediction"
   ]
  },
  {
   "cell_type": "code",
   "execution_count": null,
   "id": "e40dc3ca-e8f4-4e7c-a32e-af2aa2cc998f",
   "metadata": {},
   "outputs": [],
   "source": [
    "new_data = pd.read_csv(path.format(current_date.replace(\"-\",\"\")), skiprows = 3, sep = \"|\").dropna(axis = 1)\n",
    "new_data.columns = new_data.columns.str.replace(\" \", \"\")"
   ]
  },
  {
   "cell_type": "code",
   "execution_count": null,
   "id": "a5cb1ee4-677a-4e33-9ec9-8b72640e3806",
   "metadata": {},
   "outputs": [],
   "source": [
    "final_prediction.to_pickle(\"../evaluation/predictions/single/{}_{}\".format(\"wind\", date.today().strftime(\"%Y-%m-%d\")))"
   ]
  }
 ],
 "metadata": {
  "kernelspec": {
   "display_name": "Python 3 (ipykernel)",
   "language": "python",
   "name": "python3"
  },
  "language_info": {
   "codemirror_mode": {
    "name": "ipython",
    "version": 3
   },
   "file_extension": ".py",
   "mimetype": "text/x-python",
   "name": "python",
   "nbconvert_exporter": "python",
   "pygments_lexer": "ipython3",
   "version": "3.8.8"
  }
 },
 "nbformat": 4,
 "nbformat_minor": 5
}
